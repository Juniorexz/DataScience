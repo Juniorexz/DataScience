{
  "nbformat": 4,
  "nbformat_minor": 0,
  "metadata": {
    "colab": {
      "name": "Untitled7.ipynb",
      "provenance": [],
      "authorship_tag": "ABX9TyPZHtfYa2aOR0j9xoEQOFkL",
      "include_colab_link": true
    },
    "kernelspec": {
      "name": "python3",
      "display_name": "Python 3"
    },
    "language_info": {
      "name": "python"
    }
  },
  "cells": [
    {
      "cell_type": "markdown",
      "metadata": {
        "id": "view-in-github",
        "colab_type": "text"
      },
      "source": [
        "<a href=\"https://colab.research.google.com/github/Juniorexz/DataScience/blob/main/Opera%C3%A7%C3%B5es.ipynb\" target=\"_parent\"><img src=\"https://colab.research.google.com/assets/colab-badge.svg\" alt=\"Open In Colab\"/></a>"
      ]
    },
    {
      "cell_type": "code",
      "metadata": {
        "id": "T2U4n5zkTX9q"
      },
      "source": [
        "import pandas as pd\n",
        "import numpy as np"
      ],
      "execution_count": 1,
      "outputs": []
    },
    {
      "cell_type": "code",
      "metadata": {
        "id": "D0w8xzziTaHG"
      },
      "source": [
        "dados = {\n",
        "     'A': np.random.randint(low = 500, high = 1500, size = 10),\n",
        "     'B': np.arange(10),\n",
        "     'C': np.array([1, 7, 2, 3, 11, 91, 10, 8, 54, 27]),\t\n",
        "     'D': np.random.randint(low = 50, high = 100, size = 10),\n",
        "     'E': pd.Series([17, 19, 20, 13, 4, 11, 20, 33, 4, 7]),\n",
        "     'F': [i**3 for i in range(20) if i%2!=0],\n",
        "}\n",
        "\n",
        "df = pd.DataFrame(dados)\n"
      ],
      "execution_count": 3,
      "outputs": []
    },
    {
      "cell_type": "code",
      "metadata": {
        "colab": {
          "base_uri": "https://localhost:8080/",
          "height": 363
        },
        "id": "5VhREhNtThhG",
        "outputId": "2e9b692e-4493-4476-a59f-6aec3dc615b1"
      },
      "source": [
        "df"
      ],
      "execution_count": 4,
      "outputs": [
        {
          "output_type": "execute_result",
          "data": {
            "text/html": [
              "<div>\n",
              "<style scoped>\n",
              "    .dataframe tbody tr th:only-of-type {\n",
              "        vertical-align: middle;\n",
              "    }\n",
              "\n",
              "    .dataframe tbody tr th {\n",
              "        vertical-align: top;\n",
              "    }\n",
              "\n",
              "    .dataframe thead th {\n",
              "        text-align: right;\n",
              "    }\n",
              "</style>\n",
              "<table border=\"1\" class=\"dataframe\">\n",
              "  <thead>\n",
              "    <tr style=\"text-align: right;\">\n",
              "      <th></th>\n",
              "      <th>A</th>\n",
              "      <th>B</th>\n",
              "      <th>C</th>\n",
              "      <th>D</th>\n",
              "      <th>E</th>\n",
              "      <th>F</th>\n",
              "    </tr>\n",
              "  </thead>\n",
              "  <tbody>\n",
              "    <tr>\n",
              "      <th>0</th>\n",
              "      <td>1073</td>\n",
              "      <td>0</td>\n",
              "      <td>1</td>\n",
              "      <td>50</td>\n",
              "      <td>17</td>\n",
              "      <td>1</td>\n",
              "    </tr>\n",
              "    <tr>\n",
              "      <th>1</th>\n",
              "      <td>706</td>\n",
              "      <td>1</td>\n",
              "      <td>7</td>\n",
              "      <td>71</td>\n",
              "      <td>19</td>\n",
              "      <td>27</td>\n",
              "    </tr>\n",
              "    <tr>\n",
              "      <th>2</th>\n",
              "      <td>976</td>\n",
              "      <td>2</td>\n",
              "      <td>2</td>\n",
              "      <td>63</td>\n",
              "      <td>20</td>\n",
              "      <td>125</td>\n",
              "    </tr>\n",
              "    <tr>\n",
              "      <th>3</th>\n",
              "      <td>1074</td>\n",
              "      <td>3</td>\n",
              "      <td>3</td>\n",
              "      <td>86</td>\n",
              "      <td>13</td>\n",
              "      <td>343</td>\n",
              "    </tr>\n",
              "    <tr>\n",
              "      <th>4</th>\n",
              "      <td>1113</td>\n",
              "      <td>4</td>\n",
              "      <td>11</td>\n",
              "      <td>97</td>\n",
              "      <td>4</td>\n",
              "      <td>729</td>\n",
              "    </tr>\n",
              "    <tr>\n",
              "      <th>5</th>\n",
              "      <td>1160</td>\n",
              "      <td>5</td>\n",
              "      <td>91</td>\n",
              "      <td>59</td>\n",
              "      <td>11</td>\n",
              "      <td>1331</td>\n",
              "    </tr>\n",
              "    <tr>\n",
              "      <th>6</th>\n",
              "      <td>578</td>\n",
              "      <td>6</td>\n",
              "      <td>10</td>\n",
              "      <td>86</td>\n",
              "      <td>20</td>\n",
              "      <td>2197</td>\n",
              "    </tr>\n",
              "    <tr>\n",
              "      <th>7</th>\n",
              "      <td>1284</td>\n",
              "      <td>7</td>\n",
              "      <td>8</td>\n",
              "      <td>81</td>\n",
              "      <td>33</td>\n",
              "      <td>3375</td>\n",
              "    </tr>\n",
              "    <tr>\n",
              "      <th>8</th>\n",
              "      <td>1362</td>\n",
              "      <td>8</td>\n",
              "      <td>54</td>\n",
              "      <td>87</td>\n",
              "      <td>4</td>\n",
              "      <td>4913</td>\n",
              "    </tr>\n",
              "    <tr>\n",
              "      <th>9</th>\n",
              "      <td>661</td>\n",
              "      <td>9</td>\n",
              "      <td>27</td>\n",
              "      <td>56</td>\n",
              "      <td>7</td>\n",
              "      <td>6859</td>\n",
              "    </tr>\n",
              "  </tbody>\n",
              "</table>\n",
              "</div>"
            ],
            "text/plain": [
              "      A  B   C   D   E     F\n",
              "0  1073  0   1  50  17     1\n",
              "1   706  1   7  71  19    27\n",
              "2   976  2   2  63  20   125\n",
              "3  1074  3   3  86  13   343\n",
              "4  1113  4  11  97   4   729\n",
              "5  1160  5  91  59  11  1331\n",
              "6   578  6  10  86  20  2197\n",
              "7  1284  7   8  81  33  3375\n",
              "8  1362  8  54  87   4  4913\n",
              "9   661  9  27  56   7  6859"
            ]
          },
          "metadata": {
            "tags": []
          },
          "execution_count": 4
        }
      ]
    },
    {
      "cell_type": "code",
      "metadata": {
        "colab": {
          "base_uri": "https://localhost:8080/"
        },
        "id": "Hy5npNqCUKnA",
        "outputId": "853b23d5-ceca-4f43-9792-5c5697ad6e36"
      },
      "source": [
        "df.dtypes"
      ],
      "execution_count": 24,
      "outputs": [
        {
          "output_type": "execute_result",
          "data": {
            "text/plain": [
              "A          int64\n",
              "B          int64\n",
              "C          int64\n",
              "D          int64\n",
              "E          int64\n",
              "F          int64\n",
              "Média    float64\n",
              "dtype: object"
            ]
          },
          "metadata": {
            "tags": []
          },
          "execution_count": 24
        }
      ]
    },
    {
      "cell_type": "code",
      "metadata": {
        "colab": {
          "base_uri": "https://localhost:8080/"
        },
        "id": "tJ1T95jNmFFH",
        "outputId": "27ed6b40-aaad-4d11-efe6-608613e083c8"
      },
      "source": [
        "df['A']+df['B']"
      ],
      "execution_count": 25,
      "outputs": [
        {
          "output_type": "execute_result",
          "data": {
            "text/plain": [
              "8    1446\n",
              "9    1432\n",
              "0    1337\n",
              "3    1264\n",
              "4    1116\n",
              "1    1101\n",
              "6    1061\n",
              "2     815\n",
              "5     647\n",
              "7     682\n",
              "dtype: int64"
            ]
          },
          "metadata": {
            "tags": []
          },
          "execution_count": 25
        }
      ]
    },
    {
      "cell_type": "code",
      "metadata": {
        "colab": {
          "base_uri": "https://localhost:8080/"
        },
        "id": "-5ZmdgQSmuB9",
        "outputId": "5873e927-db3b-45bc-d867-9c854935b24c"
      },
      "source": [
        "df['A']+1"
      ],
      "execution_count": 5,
      "outputs": [
        {
          "output_type": "execute_result",
          "data": {
            "text/plain": [
              "0    1074\n",
              "1     707\n",
              "2     977\n",
              "3    1075\n",
              "4    1114\n",
              "5    1161\n",
              "6     579\n",
              "7    1285\n",
              "8    1363\n",
              "9     662\n",
              "Name: A, dtype: int64"
            ]
          },
          "metadata": {
            "tags": []
          },
          "execution_count": 5
        }
      ]
    },
    {
      "cell_type": "code",
      "metadata": {
        "colab": {
          "base_uri": "https://localhost:8080/"
        },
        "id": "uo8TuDtrm5Zw",
        "outputId": "27798f85-2ab7-4545-b257-b1c1cd4f26b7"
      },
      "source": [
        "df['A']/2"
      ],
      "execution_count": 27,
      "outputs": [
        {
          "output_type": "execute_result",
          "data": {
            "text/plain": [
              "8    719.0\n",
              "9    711.5\n",
              "0    668.5\n",
              "3    630.5\n",
              "4    556.0\n",
              "1    550.0\n",
              "6    527.5\n",
              "2    406.5\n",
              "5    321.0\n",
              "7    337.5\n",
              "Name: A, dtype: float64"
            ]
          },
          "metadata": {
            "tags": []
          },
          "execution_count": 27
        }
      ]
    },
    {
      "cell_type": "code",
      "metadata": {
        "colab": {
          "base_uri": "https://localhost:8080/"
        },
        "id": "vv0qy-MYm91a",
        "outputId": "baad8994-c420-4c61-dca3-c7f8b29df166"
      },
      "source": [
        "df['A']**2"
      ],
      "execution_count": 28,
      "outputs": [
        {
          "output_type": "execute_result",
          "data": {
            "text/plain": [
              "8    2067844\n",
              "9    2024929\n",
              "0    1787569\n",
              "3    1590121\n",
              "4    1236544\n",
              "1    1210000\n",
              "6    1113025\n",
              "2     660969\n",
              "5     412164\n",
              "7     455625\n",
              "Name: A, dtype: int64"
            ]
          },
          "metadata": {
            "tags": []
          },
          "execution_count": 28
        }
      ]
    },
    {
      "cell_type": "code",
      "metadata": {
        "id": "KVg5edoMnCB1"
      },
      "source": [
        "df['Média'] = (df['A']+df['B']+df['C'])/3"
      ],
      "execution_count": 5,
      "outputs": []
    },
    {
      "cell_type": "code",
      "metadata": {
        "colab": {
          "base_uri": "https://localhost:8080/",
          "height": 363
        },
        "id": "juC_trqyn7rQ",
        "outputId": "456fc6e5-cb2a-4e1f-967a-62714446d1c0"
      },
      "source": [
        "df"
      ],
      "execution_count": 19,
      "outputs": [
        {
          "output_type": "execute_result",
          "data": {
            "text/html": [
              "<div>\n",
              "<style scoped>\n",
              "    .dataframe tbody tr th:only-of-type {\n",
              "        vertical-align: middle;\n",
              "    }\n",
              "\n",
              "    .dataframe tbody tr th {\n",
              "        vertical-align: top;\n",
              "    }\n",
              "\n",
              "    .dataframe thead th {\n",
              "        text-align: right;\n",
              "    }\n",
              "</style>\n",
              "<table border=\"1\" class=\"dataframe\">\n",
              "  <thead>\n",
              "    <tr style=\"text-align: right;\">\n",
              "      <th></th>\n",
              "      <th>A</th>\n",
              "      <th>B</th>\n",
              "      <th>C</th>\n",
              "      <th>D</th>\n",
              "      <th>E</th>\n",
              "      <th>F</th>\n",
              "      <th>Média</th>\n",
              "    </tr>\n",
              "  </thead>\n",
              "  <tbody>\n",
              "    <tr>\n",
              "      <th>0</th>\n",
              "      <td>974</td>\n",
              "      <td>0</td>\n",
              "      <td>1</td>\n",
              "      <td>58</td>\n",
              "      <td>17</td>\n",
              "      <td>1</td>\n",
              "      <td>325.000000</td>\n",
              "    </tr>\n",
              "    <tr>\n",
              "      <th>1</th>\n",
              "      <td>1142</td>\n",
              "      <td>1</td>\n",
              "      <td>7</td>\n",
              "      <td>87</td>\n",
              "      <td>19</td>\n",
              "      <td>27</td>\n",
              "      <td>383.333333</td>\n",
              "    </tr>\n",
              "    <tr>\n",
              "      <th>2</th>\n",
              "      <td>1177</td>\n",
              "      <td>2</td>\n",
              "      <td>2</td>\n",
              "      <td>81</td>\n",
              "      <td>20</td>\n",
              "      <td>125</td>\n",
              "      <td>393.666667</td>\n",
              "    </tr>\n",
              "    <tr>\n",
              "      <th>3</th>\n",
              "      <td>1184</td>\n",
              "      <td>3</td>\n",
              "      <td>3</td>\n",
              "      <td>84</td>\n",
              "      <td>13</td>\n",
              "      <td>343</td>\n",
              "      <td>396.666667</td>\n",
              "    </tr>\n",
              "    <tr>\n",
              "      <th>4</th>\n",
              "      <td>1276</td>\n",
              "      <td>4</td>\n",
              "      <td>11</td>\n",
              "      <td>55</td>\n",
              "      <td>4</td>\n",
              "      <td>729</td>\n",
              "      <td>430.333333</td>\n",
              "    </tr>\n",
              "    <tr>\n",
              "      <th>5</th>\n",
              "      <td>650</td>\n",
              "      <td>5</td>\n",
              "      <td>91</td>\n",
              "      <td>97</td>\n",
              "      <td>11</td>\n",
              "      <td>1331</td>\n",
              "      <td>248.666667</td>\n",
              "    </tr>\n",
              "    <tr>\n",
              "      <th>6</th>\n",
              "      <td>736</td>\n",
              "      <td>6</td>\n",
              "      <td>10</td>\n",
              "      <td>64</td>\n",
              "      <td>20</td>\n",
              "      <td>2197</td>\n",
              "      <td>250.666667</td>\n",
              "    </tr>\n",
              "    <tr>\n",
              "      <th>7</th>\n",
              "      <td>949</td>\n",
              "      <td>7</td>\n",
              "      <td>8</td>\n",
              "      <td>94</td>\n",
              "      <td>33</td>\n",
              "      <td>3375</td>\n",
              "      <td>321.333333</td>\n",
              "    </tr>\n",
              "    <tr>\n",
              "      <th>8</th>\n",
              "      <td>516</td>\n",
              "      <td>8</td>\n",
              "      <td>54</td>\n",
              "      <td>76</td>\n",
              "      <td>4</td>\n",
              "      <td>4913</td>\n",
              "      <td>192.666667</td>\n",
              "    </tr>\n",
              "    <tr>\n",
              "      <th>9</th>\n",
              "      <td>936</td>\n",
              "      <td>9</td>\n",
              "      <td>27</td>\n",
              "      <td>83</td>\n",
              "      <td>7</td>\n",
              "      <td>6859</td>\n",
              "      <td>324.000000</td>\n",
              "    </tr>\n",
              "  </tbody>\n",
              "</table>\n",
              "</div>"
            ],
            "text/plain": [
              "      A  B   C   D   E     F       Média\n",
              "0   974  0   1  58  17     1  325.000000\n",
              "1  1142  1   7  87  19    27  383.333333\n",
              "2  1177  2   2  81  20   125  393.666667\n",
              "3  1184  3   3  84  13   343  396.666667\n",
              "4  1276  4  11  55   4   729  430.333333\n",
              "5   650  5  91  97  11  1331  248.666667\n",
              "6   736  6  10  64  20  2197  250.666667\n",
              "7   949  7   8  94  33  3375  321.333333\n",
              "8   516  8  54  76   4  4913  192.666667\n",
              "9   936  9  27  83   7  6859  324.000000"
            ]
          },
          "metadata": {
            "tags": []
          },
          "execution_count": 19
        }
      ]
    },
    {
      "cell_type": "code",
      "metadata": {
        "id": "vNQ7ow8roCKj"
      },
      "source": [
        ""
      ],
      "execution_count": 21,
      "outputs": []
    },
    {
      "cell_type": "code",
      "metadata": {
        "colab": {
          "base_uri": "https://localhost:8080/"
        },
        "id": "hRjvu4EXo4Y6",
        "outputId": "33bb20c2-7a2b-4387-89de-35ba85b9b9fb"
      },
      "source": [
        "(df['A']/df['B']/(df['E'])/df['F'])\n"
      ],
      "execution_count": 29,
      "outputs": [
        {
          "output_type": "execute_result",
          "data": {
            "text/plain": [
              "8    0.009147\n",
              "9    0.003293\n",
              "0         inf\n",
              "3    0.094266\n",
              "4    0.095336\n",
              "1    2.144250\n",
              "6    0.004002\n",
              "2    0.162600\n",
              "5    0.008770\n",
              "7    0.000866\n",
              "dtype: float64"
            ]
          },
          "metadata": {
            "tags": []
          },
          "execution_count": 29
        }
      ]
    },
    {
      "cell_type": "code",
      "metadata": {
        "colab": {
          "base_uri": "https://localhost:8080/"
        },
        "id": "vYYg0jV3pFlK",
        "outputId": "cfc26e6d-853b-4b7b-9229-009ec893eb39"
      },
      "source": [
        "(df['A']-df['A'].min())/(df['A'].max()-df['A'].min()) #normalizacao"
      ],
      "execution_count": 30,
      "outputs": [
        {
          "output_type": "execute_result",
          "data": {
            "text/plain": [
              "8    1.000000\n",
              "9    0.981156\n",
              "0    0.873116\n",
              "3    0.777638\n",
              "4    0.590452\n",
              "1    0.575377\n",
              "6    0.518844\n",
              "2    0.214824\n",
              "5    0.000000\n",
              "7    0.041457\n",
              "Name: A, dtype: float64"
            ]
          },
          "metadata": {
            "tags": []
          },
          "execution_count": 30
        }
      ]
    },
    {
      "cell_type": "code",
      "metadata": {
        "id": "-kHBbpKoHE0k"
      },
      "source": [
        "\n",
        "df['A'] = (df['A']-df['A'].min())/(df['A'].max()-df['A'].min())"
      ],
      "execution_count": 31,
      "outputs": []
    },
    {
      "cell_type": "code",
      "metadata": {
        "colab": {
          "base_uri": "https://localhost:8080/",
          "height": 363
        },
        "id": "Eb9ejNSeMRUI",
        "outputId": "759c7eea-b6f4-45dc-ede8-a51d10ce967f"
      },
      "source": [
        "df"
      ],
      "execution_count": 32,
      "outputs": [
        {
          "output_type": "execute_result",
          "data": {
            "text/html": [
              "<div>\n",
              "<style scoped>\n",
              "    .dataframe tbody tr th:only-of-type {\n",
              "        vertical-align: middle;\n",
              "    }\n",
              "\n",
              "    .dataframe tbody tr th {\n",
              "        vertical-align: top;\n",
              "    }\n",
              "\n",
              "    .dataframe thead th {\n",
              "        text-align: right;\n",
              "    }\n",
              "</style>\n",
              "<table border=\"1\" class=\"dataframe\">\n",
              "  <thead>\n",
              "    <tr style=\"text-align: right;\">\n",
              "      <th></th>\n",
              "      <th>A</th>\n",
              "      <th>B</th>\n",
              "      <th>C</th>\n",
              "      <th>D</th>\n",
              "      <th>E</th>\n",
              "      <th>F</th>\n",
              "      <th>Média</th>\n",
              "    </tr>\n",
              "  </thead>\n",
              "  <tbody>\n",
              "    <tr>\n",
              "      <th>8</th>\n",
              "      <td>1.000000</td>\n",
              "      <td>8</td>\n",
              "      <td>54</td>\n",
              "      <td>87</td>\n",
              "      <td>4</td>\n",
              "      <td>4913</td>\n",
              "      <td>500.000000</td>\n",
              "    </tr>\n",
              "    <tr>\n",
              "      <th>9</th>\n",
              "      <td>0.981156</td>\n",
              "      <td>9</td>\n",
              "      <td>27</td>\n",
              "      <td>93</td>\n",
              "      <td>7</td>\n",
              "      <td>6859</td>\n",
              "      <td>486.333333</td>\n",
              "    </tr>\n",
              "    <tr>\n",
              "      <th>0</th>\n",
              "      <td>0.873116</td>\n",
              "      <td>0</td>\n",
              "      <td>1</td>\n",
              "      <td>60</td>\n",
              "      <td>17</td>\n",
              "      <td>1</td>\n",
              "      <td>446.000000</td>\n",
              "    </tr>\n",
              "    <tr>\n",
              "      <th>3</th>\n",
              "      <td>0.777638</td>\n",
              "      <td>3</td>\n",
              "      <td>3</td>\n",
              "      <td>85</td>\n",
              "      <td>13</td>\n",
              "      <td>343</td>\n",
              "      <td>422.333333</td>\n",
              "    </tr>\n",
              "    <tr>\n",
              "      <th>4</th>\n",
              "      <td>0.590452</td>\n",
              "      <td>4</td>\n",
              "      <td>11</td>\n",
              "      <td>91</td>\n",
              "      <td>4</td>\n",
              "      <td>729</td>\n",
              "      <td>375.666667</td>\n",
              "    </tr>\n",
              "    <tr>\n",
              "      <th>1</th>\n",
              "      <td>0.575377</td>\n",
              "      <td>1</td>\n",
              "      <td>7</td>\n",
              "      <td>87</td>\n",
              "      <td>19</td>\n",
              "      <td>27</td>\n",
              "      <td>369.333333</td>\n",
              "    </tr>\n",
              "    <tr>\n",
              "      <th>6</th>\n",
              "      <td>0.518844</td>\n",
              "      <td>6</td>\n",
              "      <td>10</td>\n",
              "      <td>65</td>\n",
              "      <td>20</td>\n",
              "      <td>2197</td>\n",
              "      <td>357.000000</td>\n",
              "    </tr>\n",
              "    <tr>\n",
              "      <th>2</th>\n",
              "      <td>0.214824</td>\n",
              "      <td>2</td>\n",
              "      <td>2</td>\n",
              "      <td>76</td>\n",
              "      <td>20</td>\n",
              "      <td>125</td>\n",
              "      <td>272.333333</td>\n",
              "    </tr>\n",
              "    <tr>\n",
              "      <th>5</th>\n",
              "      <td>0.000000</td>\n",
              "      <td>5</td>\n",
              "      <td>91</td>\n",
              "      <td>82</td>\n",
              "      <td>11</td>\n",
              "      <td>1331</td>\n",
              "      <td>246.000000</td>\n",
              "    </tr>\n",
              "    <tr>\n",
              "      <th>7</th>\n",
              "      <td>0.041457</td>\n",
              "      <td>7</td>\n",
              "      <td>8</td>\n",
              "      <td>82</td>\n",
              "      <td>33</td>\n",
              "      <td>3375</td>\n",
              "      <td>230.000000</td>\n",
              "    </tr>\n",
              "  </tbody>\n",
              "</table>\n",
              "</div>"
            ],
            "text/plain": [
              "          A  B   C   D   E     F       Média\n",
              "8  1.000000  8  54  87   4  4913  500.000000\n",
              "9  0.981156  9  27  93   7  6859  486.333333\n",
              "0  0.873116  0   1  60  17     1  446.000000\n",
              "3  0.777638  3   3  85  13   343  422.333333\n",
              "4  0.590452  4  11  91   4   729  375.666667\n",
              "1  0.575377  1   7  87  19    27  369.333333\n",
              "6  0.518844  6  10  65  20  2197  357.000000\n",
              "2  0.214824  2   2  76  20   125  272.333333\n",
              "5  0.000000  5  91  82  11  1331  246.000000\n",
              "7  0.041457  7   8  82  33  3375  230.000000"
            ]
          },
          "metadata": {
            "tags": []
          },
          "execution_count": 32
        }
      ]
    },
    {
      "cell_type": "code",
      "metadata": {
        "id": "iuEbU_Y2O1kl"
      },
      "source": [
        "dados = {\n",
        "\t'A' : pd.Series([10, 20, 30, 40, 50], index = list('abcde')),\n",
        "\t'B' : pd.Series([17, 44, 30, 90, 100, 70, 100], index = list('abcdefg'))\n",
        "}\n",
        "df = pd.DataFrame(dados)"
      ],
      "execution_count": 33,
      "outputs": []
    },
    {
      "cell_type": "code",
      "metadata": {
        "colab": {
          "base_uri": "https://localhost:8080/"
        },
        "id": "Lu9HWaVkQeEt",
        "outputId": "c7082e4c-c021-427b-830b-c2591f1e09d8"
      },
      "source": [
        "df['A']+df['B']"
      ],
      "execution_count": 34,
      "outputs": [
        {
          "output_type": "execute_result",
          "data": {
            "text/plain": [
              "a     27.0\n",
              "b     64.0\n",
              "c     60.0\n",
              "d    130.0\n",
              "e    150.0\n",
              "f      NaN\n",
              "g      NaN\n",
              "dtype: float64"
            ]
          },
          "metadata": {
            "tags": []
          },
          "execution_count": 34
        }
      ]
    },
    {
      "cell_type": "code",
      "metadata": {
        "id": "r8IC_lwY-MgD"
      },
      "source": [
        "\n",
        "dados = {\n",
        "\t'Marca_A': [1, 25, 99],\n",
        "\t'Marca_B': [90, 11, 23],\n",
        "\t'Marca_C' : [23, 78, 44]}\n",
        "df = pd.DataFrame(data = dados, index = [2018, 2019, 2020])"
      ],
      "execution_count": 36,
      "outputs": []
    },
    {
      "cell_type": "code",
      "metadata": {
        "colab": {
          "base_uri": "https://localhost:8080/",
          "height": 269
        },
        "id": "Vg_dok0-CjBS",
        "outputId": "521ed614-b25d-4036-e662-7cfd3c2837ed"
      },
      "source": [
        "df"
      ],
      "execution_count": 35,
      "outputs": [
        {
          "output_type": "execute_result",
          "data": {
            "text/html": [
              "<div>\n",
              "<style scoped>\n",
              "    .dataframe tbody tr th:only-of-type {\n",
              "        vertical-align: middle;\n",
              "    }\n",
              "\n",
              "    .dataframe tbody tr th {\n",
              "        vertical-align: top;\n",
              "    }\n",
              "\n",
              "    .dataframe thead th {\n",
              "        text-align: right;\n",
              "    }\n",
              "</style>\n",
              "<table border=\"1\" class=\"dataframe\">\n",
              "  <thead>\n",
              "    <tr style=\"text-align: right;\">\n",
              "      <th></th>\n",
              "      <th>A</th>\n",
              "      <th>B</th>\n",
              "    </tr>\n",
              "  </thead>\n",
              "  <tbody>\n",
              "    <tr>\n",
              "      <th>a</th>\n",
              "      <td>10.0</td>\n",
              "      <td>17</td>\n",
              "    </tr>\n",
              "    <tr>\n",
              "      <th>b</th>\n",
              "      <td>20.0</td>\n",
              "      <td>44</td>\n",
              "    </tr>\n",
              "    <tr>\n",
              "      <th>c</th>\n",
              "      <td>30.0</td>\n",
              "      <td>30</td>\n",
              "    </tr>\n",
              "    <tr>\n",
              "      <th>d</th>\n",
              "      <td>40.0</td>\n",
              "      <td>90</td>\n",
              "    </tr>\n",
              "    <tr>\n",
              "      <th>e</th>\n",
              "      <td>50.0</td>\n",
              "      <td>100</td>\n",
              "    </tr>\n",
              "    <tr>\n",
              "      <th>f</th>\n",
              "      <td>NaN</td>\n",
              "      <td>70</td>\n",
              "    </tr>\n",
              "    <tr>\n",
              "      <th>g</th>\n",
              "      <td>NaN</td>\n",
              "      <td>100</td>\n",
              "    </tr>\n",
              "  </tbody>\n",
              "</table>\n",
              "</div>"
            ],
            "text/plain": [
              "      A    B\n",
              "a  10.0   17\n",
              "b  20.0   44\n",
              "c  30.0   30\n",
              "d  40.0   90\n",
              "e  50.0  100\n",
              "f   NaN   70\n",
              "g   NaN  100"
            ]
          },
          "metadata": {
            "tags": []
          },
          "execution_count": 35
        }
      ]
    },
    {
      "cell_type": "code",
      "metadata": {
        "colab": {
          "base_uri": "https://localhost:8080/",
          "height": 143
        },
        "id": "WTa7ssaBCx8h",
        "outputId": "fef3e327-057b-467c-d403-34f78e74fc0e"
      },
      "source": [
        "df.rename(\n",
        "\tcolumns = {\n",
        "\t'Marca_A':'Marca A',\n",
        "\t'Marca_B':'Marca_B',\n",
        "\t'Marca_C':'Marca_C'})"
      ],
      "execution_count": 37,
      "outputs": [
        {
          "output_type": "execute_result",
          "data": {
            "text/html": [
              "<div>\n",
              "<style scoped>\n",
              "    .dataframe tbody tr th:only-of-type {\n",
              "        vertical-align: middle;\n",
              "    }\n",
              "\n",
              "    .dataframe tbody tr th {\n",
              "        vertical-align: top;\n",
              "    }\n",
              "\n",
              "    .dataframe thead th {\n",
              "        text-align: right;\n",
              "    }\n",
              "</style>\n",
              "<table border=\"1\" class=\"dataframe\">\n",
              "  <thead>\n",
              "    <tr style=\"text-align: right;\">\n",
              "      <th></th>\n",
              "      <th>Marca A</th>\n",
              "      <th>Marca_B</th>\n",
              "      <th>Marca_C</th>\n",
              "    </tr>\n",
              "  </thead>\n",
              "  <tbody>\n",
              "    <tr>\n",
              "      <th>2018</th>\n",
              "      <td>1</td>\n",
              "      <td>90</td>\n",
              "      <td>23</td>\n",
              "    </tr>\n",
              "    <tr>\n",
              "      <th>2019</th>\n",
              "      <td>25</td>\n",
              "      <td>11</td>\n",
              "      <td>78</td>\n",
              "    </tr>\n",
              "    <tr>\n",
              "      <th>2020</th>\n",
              "      <td>99</td>\n",
              "      <td>23</td>\n",
              "      <td>44</td>\n",
              "    </tr>\n",
              "  </tbody>\n",
              "</table>\n",
              "</div>"
            ],
            "text/plain": [
              "      Marca A  Marca_B  Marca_C\n",
              "2018        1       90       23\n",
              "2019       25       11       78\n",
              "2020       99       23       44"
            ]
          },
          "metadata": {
            "tags": []
          },
          "execution_count": 37
        }
      ]
    },
    {
      "cell_type": "code",
      "metadata": {
        "colab": {
          "base_uri": "https://localhost:8080/",
          "height": 143
        },
        "id": "DYM6g_PYC964",
        "outputId": "e3c154a9-e86d-4667-f91a-f3b370ff62eb"
      },
      "source": [
        "df"
      ],
      "execution_count": 38,
      "outputs": [
        {
          "output_type": "execute_result",
          "data": {
            "text/html": [
              "<div>\n",
              "<style scoped>\n",
              "    .dataframe tbody tr th:only-of-type {\n",
              "        vertical-align: middle;\n",
              "    }\n",
              "\n",
              "    .dataframe tbody tr th {\n",
              "        vertical-align: top;\n",
              "    }\n",
              "\n",
              "    .dataframe thead th {\n",
              "        text-align: right;\n",
              "    }\n",
              "</style>\n",
              "<table border=\"1\" class=\"dataframe\">\n",
              "  <thead>\n",
              "    <tr style=\"text-align: right;\">\n",
              "      <th></th>\n",
              "      <th>Marca_A</th>\n",
              "      <th>Marca_B</th>\n",
              "      <th>Marca_C</th>\n",
              "    </tr>\n",
              "  </thead>\n",
              "  <tbody>\n",
              "    <tr>\n",
              "      <th>2018</th>\n",
              "      <td>1</td>\n",
              "      <td>90</td>\n",
              "      <td>23</td>\n",
              "    </tr>\n",
              "    <tr>\n",
              "      <th>2019</th>\n",
              "      <td>25</td>\n",
              "      <td>11</td>\n",
              "      <td>78</td>\n",
              "    </tr>\n",
              "    <tr>\n",
              "      <th>2020</th>\n",
              "      <td>99</td>\n",
              "      <td>23</td>\n",
              "      <td>44</td>\n",
              "    </tr>\n",
              "  </tbody>\n",
              "</table>\n",
              "</div>"
            ],
            "text/plain": [
              "      Marca_A  Marca_B  Marca_C\n",
              "2018        1       90       23\n",
              "2019       25       11       78\n",
              "2020       99       23       44"
            ]
          },
          "metadata": {
            "tags": []
          },
          "execution_count": 38
        }
      ]
    },
    {
      "cell_type": "code",
      "metadata": {
        "colab": {
          "base_uri": "https://localhost:8080/",
          "height": 143
        },
        "id": "Bluerzv1DLh3",
        "outputId": "f5a3eaf9-2ec8-48c6-8876-e2a0d6dc950b"
      },
      "source": [
        "\n",
        "df.rename(index = {2018:1, 2019:2, 2020:3})"
      ],
      "execution_count": 39,
      "outputs": [
        {
          "output_type": "execute_result",
          "data": {
            "text/html": [
              "<div>\n",
              "<style scoped>\n",
              "    .dataframe tbody tr th:only-of-type {\n",
              "        vertical-align: middle;\n",
              "    }\n",
              "\n",
              "    .dataframe tbody tr th {\n",
              "        vertical-align: top;\n",
              "    }\n",
              "\n",
              "    .dataframe thead th {\n",
              "        text-align: right;\n",
              "    }\n",
              "</style>\n",
              "<table border=\"1\" class=\"dataframe\">\n",
              "  <thead>\n",
              "    <tr style=\"text-align: right;\">\n",
              "      <th></th>\n",
              "      <th>Marca_A</th>\n",
              "      <th>Marca_B</th>\n",
              "      <th>Marca_C</th>\n",
              "    </tr>\n",
              "  </thead>\n",
              "  <tbody>\n",
              "    <tr>\n",
              "      <th>1</th>\n",
              "      <td>1</td>\n",
              "      <td>90</td>\n",
              "      <td>23</td>\n",
              "    </tr>\n",
              "    <tr>\n",
              "      <th>2</th>\n",
              "      <td>25</td>\n",
              "      <td>11</td>\n",
              "      <td>78</td>\n",
              "    </tr>\n",
              "    <tr>\n",
              "      <th>3</th>\n",
              "      <td>99</td>\n",
              "      <td>23</td>\n",
              "      <td>44</td>\n",
              "    </tr>\n",
              "  </tbody>\n",
              "</table>\n",
              "</div>"
            ],
            "text/plain": [
              "   Marca_A  Marca_B  Marca_C\n",
              "1        1       90       23\n",
              "2       25       11       78\n",
              "3       99       23       44"
            ]
          },
          "metadata": {
            "tags": []
          },
          "execution_count": 39
        }
      ]
    },
    {
      "cell_type": "code",
      "metadata": {
        "colab": {
          "base_uri": "https://localhost:8080/"
        },
        "id": "AMCZqws_Dj1L",
        "outputId": "1cfb33a6-a01b-4fb0-cd75-f0a3e4d95ce0"
      },
      "source": [
        "\n",
        "'Marca_A'.split('_')"
      ],
      "execution_count": 40,
      "outputs": [
        {
          "output_type": "execute_result",
          "data": {
            "text/plain": [
              "['Marca', 'A']"
            ]
          },
          "metadata": {
            "tags": []
          },
          "execution_count": 40
        }
      ]
    },
    {
      "cell_type": "code",
      "metadata": {
        "colab": {
          "base_uri": "https://localhost:8080/",
          "height": 36
        },
        "id": "3VwAVD0MFRty",
        "outputId": "754f2899-ddb3-443f-9765-9f5225a2cd1f"
      },
      "source": [
        "\n",
        "\"\".join('Marca_A'.split('_'))"
      ],
      "execution_count": 41,
      "outputs": [
        {
          "output_type": "execute_result",
          "data": {
            "application/vnd.google.colaboratory.intrinsic+json": {
              "type": "string"
            },
            "text/plain": [
              "'MarcaA'"
            ]
          },
          "metadata": {
            "tags": []
          },
          "execution_count": 41
        }
      ]
    },
    {
      "cell_type": "code",
      "metadata": {
        "colab": {
          "base_uri": "https://localhost:8080/",
          "height": 143
        },
        "id": "YBJJg7RLFU9m",
        "outputId": "0c28f105-bbde-4a38-c275-37c1c624a612"
      },
      "source": [
        "\n",
        "df.rename(columns = lambda coluna:\"\". join(coluna.upper().split('_')))"
      ],
      "execution_count": 42,
      "outputs": [
        {
          "output_type": "execute_result",
          "data": {
            "text/html": [
              "<div>\n",
              "<style scoped>\n",
              "    .dataframe tbody tr th:only-of-type {\n",
              "        vertical-align: middle;\n",
              "    }\n",
              "\n",
              "    .dataframe tbody tr th {\n",
              "        vertical-align: top;\n",
              "    }\n",
              "\n",
              "    .dataframe thead th {\n",
              "        text-align: right;\n",
              "    }\n",
              "</style>\n",
              "<table border=\"1\" class=\"dataframe\">\n",
              "  <thead>\n",
              "    <tr style=\"text-align: right;\">\n",
              "      <th></th>\n",
              "      <th>MARCAA</th>\n",
              "      <th>MARCAB</th>\n",
              "      <th>MARCAC</th>\n",
              "    </tr>\n",
              "  </thead>\n",
              "  <tbody>\n",
              "    <tr>\n",
              "      <th>2018</th>\n",
              "      <td>1</td>\n",
              "      <td>90</td>\n",
              "      <td>23</td>\n",
              "    </tr>\n",
              "    <tr>\n",
              "      <th>2019</th>\n",
              "      <td>25</td>\n",
              "      <td>11</td>\n",
              "      <td>78</td>\n",
              "    </tr>\n",
              "    <tr>\n",
              "      <th>2020</th>\n",
              "      <td>99</td>\n",
              "      <td>23</td>\n",
              "      <td>44</td>\n",
              "    </tr>\n",
              "  </tbody>\n",
              "</table>\n",
              "</div>"
            ],
            "text/plain": [
              "      MARCAA  MARCAB  MARCAC\n",
              "2018       1      90      23\n",
              "2019      25      11      78\n",
              "2020      99      23      44"
            ]
          },
          "metadata": {
            "tags": []
          },
          "execution_count": 42
        }
      ]
    },
    {
      "cell_type": "code",
      "metadata": {
        "id": "5oi78K0OFZy-"
      },
      "source": [
        "dados = np.random.normal(100, 5, size = (100, 3))\n",
        "data = pd.DataFrame(dados, columns = list('ABC'))\n",
        "df = data.copy()\n"
      ],
      "execution_count": 43,
      "outputs": []
    },
    {
      "cell_type": "code",
      "metadata": {
        "colab": {
          "base_uri": "https://localhost:8080/"
        },
        "id": "OuL2CeL3Ro-y",
        "outputId": "ee406da8-62bf-465b-c445-d988d0b99a44"
      },
      "source": [
        "df.columns\n"
      ],
      "execution_count": 44,
      "outputs": [
        {
          "output_type": "execute_result",
          "data": {
            "text/plain": [
              "Index(['A', 'B', 'C'], dtype='object')"
            ]
          },
          "metadata": {
            "tags": []
          },
          "execution_count": 44
        }
      ]
    },
    {
      "cell_type": "code",
      "metadata": {
        "colab": {
          "base_uri": "https://localhost:8080/",
          "height": 423
        },
        "id": "9kLseamqRwc4",
        "outputId": "52fc154b-daf4-485b-fa4a-ea55c684e615"
      },
      "source": [
        "df.drop(labels = ['B'], axis = 1) #deletando a coluna B\n"
      ],
      "execution_count": 45,
      "outputs": [
        {
          "output_type": "execute_result",
          "data": {
            "text/html": [
              "<div>\n",
              "<style scoped>\n",
              "    .dataframe tbody tr th:only-of-type {\n",
              "        vertical-align: middle;\n",
              "    }\n",
              "\n",
              "    .dataframe tbody tr th {\n",
              "        vertical-align: top;\n",
              "    }\n",
              "\n",
              "    .dataframe thead th {\n",
              "        text-align: right;\n",
              "    }\n",
              "</style>\n",
              "<table border=\"1\" class=\"dataframe\">\n",
              "  <thead>\n",
              "    <tr style=\"text-align: right;\">\n",
              "      <th></th>\n",
              "      <th>A</th>\n",
              "      <th>C</th>\n",
              "    </tr>\n",
              "  </thead>\n",
              "  <tbody>\n",
              "    <tr>\n",
              "      <th>0</th>\n",
              "      <td>95.035854</td>\n",
              "      <td>101.952820</td>\n",
              "    </tr>\n",
              "    <tr>\n",
              "      <th>1</th>\n",
              "      <td>108.241826</td>\n",
              "      <td>97.424288</td>\n",
              "    </tr>\n",
              "    <tr>\n",
              "      <th>2</th>\n",
              "      <td>105.467136</td>\n",
              "      <td>95.858771</td>\n",
              "    </tr>\n",
              "    <tr>\n",
              "      <th>3</th>\n",
              "      <td>98.967042</td>\n",
              "      <td>100.140701</td>\n",
              "    </tr>\n",
              "    <tr>\n",
              "      <th>4</th>\n",
              "      <td>107.213590</td>\n",
              "      <td>94.569455</td>\n",
              "    </tr>\n",
              "    <tr>\n",
              "      <th>...</th>\n",
              "      <td>...</td>\n",
              "      <td>...</td>\n",
              "    </tr>\n",
              "    <tr>\n",
              "      <th>95</th>\n",
              "      <td>109.261380</td>\n",
              "      <td>102.108524</td>\n",
              "    </tr>\n",
              "    <tr>\n",
              "      <th>96</th>\n",
              "      <td>99.847249</td>\n",
              "      <td>98.367434</td>\n",
              "    </tr>\n",
              "    <tr>\n",
              "      <th>97</th>\n",
              "      <td>95.430504</td>\n",
              "      <td>94.898745</td>\n",
              "    </tr>\n",
              "    <tr>\n",
              "      <th>98</th>\n",
              "      <td>102.277666</td>\n",
              "      <td>108.598667</td>\n",
              "    </tr>\n",
              "    <tr>\n",
              "      <th>99</th>\n",
              "      <td>92.496479</td>\n",
              "      <td>96.606190</td>\n",
              "    </tr>\n",
              "  </tbody>\n",
              "</table>\n",
              "<p>100 rows × 2 columns</p>\n",
              "</div>"
            ],
            "text/plain": [
              "             A           C\n",
              "0    95.035854  101.952820\n",
              "1   108.241826   97.424288\n",
              "2   105.467136   95.858771\n",
              "3    98.967042  100.140701\n",
              "4   107.213590   94.569455\n",
              "..         ...         ...\n",
              "95  109.261380  102.108524\n",
              "96   99.847249   98.367434\n",
              "97   95.430504   94.898745\n",
              "98  102.277666  108.598667\n",
              "99   92.496479   96.606190\n",
              "\n",
              "[100 rows x 2 columns]"
            ]
          },
          "metadata": {
            "tags": []
          },
          "execution_count": 45
        }
      ]
    },
    {
      "cell_type": "code",
      "metadata": {
        "colab": {
          "base_uri": "https://localhost:8080/",
          "height": 423
        },
        "id": "I7qhV0NpR2IM",
        "outputId": "e6404a6d-df92-4b1a-defb-23f974b73d29"
      },
      "source": [
        "df.drop(labels = ['A', 'B'], axis = 1) #deletando as colunas A e B"
      ],
      "execution_count": 46,
      "outputs": [
        {
          "output_type": "execute_result",
          "data": {
            "text/html": [
              "<div>\n",
              "<style scoped>\n",
              "    .dataframe tbody tr th:only-of-type {\n",
              "        vertical-align: middle;\n",
              "    }\n",
              "\n",
              "    .dataframe tbody tr th {\n",
              "        vertical-align: top;\n",
              "    }\n",
              "\n",
              "    .dataframe thead th {\n",
              "        text-align: right;\n",
              "    }\n",
              "</style>\n",
              "<table border=\"1\" class=\"dataframe\">\n",
              "  <thead>\n",
              "    <tr style=\"text-align: right;\">\n",
              "      <th></th>\n",
              "      <th>C</th>\n",
              "    </tr>\n",
              "  </thead>\n",
              "  <tbody>\n",
              "    <tr>\n",
              "      <th>0</th>\n",
              "      <td>101.952820</td>\n",
              "    </tr>\n",
              "    <tr>\n",
              "      <th>1</th>\n",
              "      <td>97.424288</td>\n",
              "    </tr>\n",
              "    <tr>\n",
              "      <th>2</th>\n",
              "      <td>95.858771</td>\n",
              "    </tr>\n",
              "    <tr>\n",
              "      <th>3</th>\n",
              "      <td>100.140701</td>\n",
              "    </tr>\n",
              "    <tr>\n",
              "      <th>4</th>\n",
              "      <td>94.569455</td>\n",
              "    </tr>\n",
              "    <tr>\n",
              "      <th>...</th>\n",
              "      <td>...</td>\n",
              "    </tr>\n",
              "    <tr>\n",
              "      <th>95</th>\n",
              "      <td>102.108524</td>\n",
              "    </tr>\n",
              "    <tr>\n",
              "      <th>96</th>\n",
              "      <td>98.367434</td>\n",
              "    </tr>\n",
              "    <tr>\n",
              "      <th>97</th>\n",
              "      <td>94.898745</td>\n",
              "    </tr>\n",
              "    <tr>\n",
              "      <th>98</th>\n",
              "      <td>108.598667</td>\n",
              "    </tr>\n",
              "    <tr>\n",
              "      <th>99</th>\n",
              "      <td>96.606190</td>\n",
              "    </tr>\n",
              "  </tbody>\n",
              "</table>\n",
              "<p>100 rows × 1 columns</p>\n",
              "</div>"
            ],
            "text/plain": [
              "             C\n",
              "0   101.952820\n",
              "1    97.424288\n",
              "2    95.858771\n",
              "3   100.140701\n",
              "4    94.569455\n",
              "..         ...\n",
              "95  102.108524\n",
              "96   98.367434\n",
              "97   94.898745\n",
              "98  108.598667\n",
              "99   96.606190\n",
              "\n",
              "[100 rows x 1 columns]"
            ]
          },
          "metadata": {
            "tags": []
          },
          "execution_count": 46
        }
      ]
    },
    {
      "cell_type": "code",
      "metadata": {
        "id": "odsyUXm4R8C9"
      },
      "source": [
        "df.drop(labels = 'B', axis = 1, inplace = True) #deletando a coluna definitivamente\n"
      ],
      "execution_count": 47,
      "outputs": []
    },
    {
      "cell_type": "code",
      "metadata": {
        "id": "XhSVtk9jSEZB"
      },
      "source": [
        "del df['A'] #deletando a coluna A\n"
      ],
      "execution_count": 23,
      "outputs": []
    },
    {
      "cell_type": "code",
      "metadata": {
        "colab": {
          "base_uri": "https://localhost:8080/",
          "height": 423
        },
        "id": "i3swzXhxSMp-",
        "outputId": "7c70a3cd-b44d-442a-8a98-0080020a0d9d"
      },
      "source": [
        "\n",
        "df.drop(0) # deletando a linha A"
      ],
      "execution_count": 24,
      "outputs": [
        {
          "output_type": "execute_result",
          "data": {
            "text/html": [
              "<div>\n",
              "<style scoped>\n",
              "    .dataframe tbody tr th:only-of-type {\n",
              "        vertical-align: middle;\n",
              "    }\n",
              "\n",
              "    .dataframe tbody tr th {\n",
              "        vertical-align: top;\n",
              "    }\n",
              "\n",
              "    .dataframe thead th {\n",
              "        text-align: right;\n",
              "    }\n",
              "</style>\n",
              "<table border=\"1\" class=\"dataframe\">\n",
              "  <thead>\n",
              "    <tr style=\"text-align: right;\">\n",
              "      <th></th>\n",
              "      <th>C</th>\n",
              "    </tr>\n",
              "  </thead>\n",
              "  <tbody>\n",
              "    <tr>\n",
              "      <th>1</th>\n",
              "      <td>97.691377</td>\n",
              "    </tr>\n",
              "    <tr>\n",
              "      <th>2</th>\n",
              "      <td>101.054158</td>\n",
              "    </tr>\n",
              "    <tr>\n",
              "      <th>3</th>\n",
              "      <td>101.888370</td>\n",
              "    </tr>\n",
              "    <tr>\n",
              "      <th>4</th>\n",
              "      <td>99.225704</td>\n",
              "    </tr>\n",
              "    <tr>\n",
              "      <th>5</th>\n",
              "      <td>102.739809</td>\n",
              "    </tr>\n",
              "    <tr>\n",
              "      <th>...</th>\n",
              "      <td>...</td>\n",
              "    </tr>\n",
              "    <tr>\n",
              "      <th>95</th>\n",
              "      <td>94.709317</td>\n",
              "    </tr>\n",
              "    <tr>\n",
              "      <th>96</th>\n",
              "      <td>101.390194</td>\n",
              "    </tr>\n",
              "    <tr>\n",
              "      <th>97</th>\n",
              "      <td>103.674848</td>\n",
              "    </tr>\n",
              "    <tr>\n",
              "      <th>98</th>\n",
              "      <td>97.322817</td>\n",
              "    </tr>\n",
              "    <tr>\n",
              "      <th>99</th>\n",
              "      <td>102.166208</td>\n",
              "    </tr>\n",
              "  </tbody>\n",
              "</table>\n",
              "<p>99 rows × 1 columns</p>\n",
              "</div>"
            ],
            "text/plain": [
              "             C\n",
              "1    97.691377\n",
              "2   101.054158\n",
              "3   101.888370\n",
              "4    99.225704\n",
              "5   102.739809\n",
              "..         ...\n",
              "95   94.709317\n",
              "96  101.390194\n",
              "97  103.674848\n",
              "98   97.322817\n",
              "99  102.166208\n",
              "\n",
              "[99 rows x 1 columns]"
            ]
          },
          "metadata": {
            "tags": []
          },
          "execution_count": 24
        }
      ]
    },
    {
      "cell_type": "code",
      "metadata": {
        "colab": {
          "base_uri": "https://localhost:8080/",
          "height": 206
        },
        "id": "Kki3Y18FSP6W",
        "outputId": "9b2b1dd8-968a-423c-8c64-8c345c0df091"
      },
      "source": [
        "df.head()"
      ],
      "execution_count": 26,
      "outputs": [
        {
          "output_type": "execute_result",
          "data": {
            "text/html": [
              "<div>\n",
              "<style scoped>\n",
              "    .dataframe tbody tr th:only-of-type {\n",
              "        vertical-align: middle;\n",
              "    }\n",
              "\n",
              "    .dataframe tbody tr th {\n",
              "        vertical-align: top;\n",
              "    }\n",
              "\n",
              "    .dataframe thead th {\n",
              "        text-align: right;\n",
              "    }\n",
              "</style>\n",
              "<table border=\"1\" class=\"dataframe\">\n",
              "  <thead>\n",
              "    <tr style=\"text-align: right;\">\n",
              "      <th></th>\n",
              "      <th>A</th>\n",
              "      <th>B</th>\n",
              "      <th>C</th>\n",
              "    </tr>\n",
              "  </thead>\n",
              "  <tbody>\n",
              "    <tr>\n",
              "      <th>0</th>\n",
              "      <td>103.785479</td>\n",
              "      <td>99.546572</td>\n",
              "      <td>100.729735</td>\n",
              "    </tr>\n",
              "    <tr>\n",
              "      <th>1</th>\n",
              "      <td>105.099292</td>\n",
              "      <td>105.827703</td>\n",
              "      <td>103.301332</td>\n",
              "    </tr>\n",
              "    <tr>\n",
              "      <th>2</th>\n",
              "      <td>105.290520</td>\n",
              "      <td>97.657750</td>\n",
              "      <td>106.112041</td>\n",
              "    </tr>\n",
              "    <tr>\n",
              "      <th>3</th>\n",
              "      <td>103.521249</td>\n",
              "      <td>102.129834</td>\n",
              "      <td>93.954630</td>\n",
              "    </tr>\n",
              "    <tr>\n",
              "      <th>4</th>\n",
              "      <td>104.558463</td>\n",
              "      <td>93.858423</td>\n",
              "      <td>98.501153</td>\n",
              "    </tr>\n",
              "  </tbody>\n",
              "</table>\n",
              "</div>"
            ],
            "text/plain": [
              "            A           B           C\n",
              "0  103.785479   99.546572  100.729735\n",
              "1  105.099292  105.827703  103.301332\n",
              "2  105.290520   97.657750  106.112041\n",
              "3  103.521249  102.129834   93.954630\n",
              "4  104.558463   93.858423   98.501153"
            ]
          },
          "metadata": {
            "tags": []
          },
          "execution_count": 26
        }
      ]
    },
    {
      "cell_type": "code",
      "metadata": {
        "colab": {
          "base_uri": "https://localhost:8080/",
          "height": 423
        },
        "id": "EuvhuHTpSnAj",
        "outputId": "bd534d7e-9c76-4e9b-8c5f-4c0b1e31a772"
      },
      "source": [
        "df.drop(index = [1, 2, 3], axis = 0) #deletando as linha 1, 2 e 3"
      ],
      "execution_count": 28,
      "outputs": [
        {
          "output_type": "execute_result",
          "data": {
            "text/html": [
              "<div>\n",
              "<style scoped>\n",
              "    .dataframe tbody tr th:only-of-type {\n",
              "        vertical-align: middle;\n",
              "    }\n",
              "\n",
              "    .dataframe tbody tr th {\n",
              "        vertical-align: top;\n",
              "    }\n",
              "\n",
              "    .dataframe thead th {\n",
              "        text-align: right;\n",
              "    }\n",
              "</style>\n",
              "<table border=\"1\" class=\"dataframe\">\n",
              "  <thead>\n",
              "    <tr style=\"text-align: right;\">\n",
              "      <th></th>\n",
              "      <th>A</th>\n",
              "      <th>B</th>\n",
              "      <th>C</th>\n",
              "    </tr>\n",
              "  </thead>\n",
              "  <tbody>\n",
              "    <tr>\n",
              "      <th>0</th>\n",
              "      <td>103.785479</td>\n",
              "      <td>99.546572</td>\n",
              "      <td>100.729735</td>\n",
              "    </tr>\n",
              "    <tr>\n",
              "      <th>4</th>\n",
              "      <td>104.558463</td>\n",
              "      <td>93.858423</td>\n",
              "      <td>98.501153</td>\n",
              "    </tr>\n",
              "    <tr>\n",
              "      <th>5</th>\n",
              "      <td>98.736512</td>\n",
              "      <td>94.704274</td>\n",
              "      <td>95.868114</td>\n",
              "    </tr>\n",
              "    <tr>\n",
              "      <th>6</th>\n",
              "      <td>96.663286</td>\n",
              "      <td>100.816942</td>\n",
              "      <td>100.217431</td>\n",
              "    </tr>\n",
              "    <tr>\n",
              "      <th>7</th>\n",
              "      <td>94.210710</td>\n",
              "      <td>95.215387</td>\n",
              "      <td>99.402264</td>\n",
              "    </tr>\n",
              "    <tr>\n",
              "      <th>...</th>\n",
              "      <td>...</td>\n",
              "      <td>...</td>\n",
              "      <td>...</td>\n",
              "    </tr>\n",
              "    <tr>\n",
              "      <th>95</th>\n",
              "      <td>100.348622</td>\n",
              "      <td>94.959273</td>\n",
              "      <td>105.535640</td>\n",
              "    </tr>\n",
              "    <tr>\n",
              "      <th>96</th>\n",
              "      <td>105.334303</td>\n",
              "      <td>105.897776</td>\n",
              "      <td>100.252191</td>\n",
              "    </tr>\n",
              "    <tr>\n",
              "      <th>97</th>\n",
              "      <td>99.409858</td>\n",
              "      <td>96.545423</td>\n",
              "      <td>92.209655</td>\n",
              "    </tr>\n",
              "    <tr>\n",
              "      <th>98</th>\n",
              "      <td>105.177955</td>\n",
              "      <td>102.510286</td>\n",
              "      <td>98.228356</td>\n",
              "    </tr>\n",
              "    <tr>\n",
              "      <th>99</th>\n",
              "      <td>95.858776</td>\n",
              "      <td>101.687158</td>\n",
              "      <td>102.459487</td>\n",
              "    </tr>\n",
              "  </tbody>\n",
              "</table>\n",
              "<p>97 rows × 3 columns</p>\n",
              "</div>"
            ],
            "text/plain": [
              "             A           B           C\n",
              "0   103.785479   99.546572  100.729735\n",
              "4   104.558463   93.858423   98.501153\n",
              "5    98.736512   94.704274   95.868114\n",
              "6    96.663286  100.816942  100.217431\n",
              "7    94.210710   95.215387   99.402264\n",
              "..         ...         ...         ...\n",
              "95  100.348622   94.959273  105.535640\n",
              "96  105.334303  105.897776  100.252191\n",
              "97   99.409858   96.545423   92.209655\n",
              "98  105.177955  102.510286   98.228356\n",
              "99   95.858776  101.687158  102.459487\n",
              "\n",
              "[97 rows x 3 columns]"
            ]
          },
          "metadata": {
            "tags": []
          },
          "execution_count": 28
        }
      ]
    },
    {
      "cell_type": "code",
      "metadata": {
        "colab": {
          "base_uri": "https://localhost:8080/",
          "height": 423
        },
        "id": "OwjYeteHnHpl",
        "outputId": "cd2200bd-955f-4352-c0ef-03e249d14243"
      },
      "source": [
        "df.drop(index = [0, 1, 2], axis = 0) #deletando as linha 0, 1 e 2"
      ],
      "execution_count": 29,
      "outputs": [
        {
          "output_type": "execute_result",
          "data": {
            "text/html": [
              "<div>\n",
              "<style scoped>\n",
              "    .dataframe tbody tr th:only-of-type {\n",
              "        vertical-align: middle;\n",
              "    }\n",
              "\n",
              "    .dataframe tbody tr th {\n",
              "        vertical-align: top;\n",
              "    }\n",
              "\n",
              "    .dataframe thead th {\n",
              "        text-align: right;\n",
              "    }\n",
              "</style>\n",
              "<table border=\"1\" class=\"dataframe\">\n",
              "  <thead>\n",
              "    <tr style=\"text-align: right;\">\n",
              "      <th></th>\n",
              "      <th>A</th>\n",
              "      <th>B</th>\n",
              "      <th>C</th>\n",
              "    </tr>\n",
              "  </thead>\n",
              "  <tbody>\n",
              "    <tr>\n",
              "      <th>3</th>\n",
              "      <td>103.521249</td>\n",
              "      <td>102.129834</td>\n",
              "      <td>93.954630</td>\n",
              "    </tr>\n",
              "    <tr>\n",
              "      <th>4</th>\n",
              "      <td>104.558463</td>\n",
              "      <td>93.858423</td>\n",
              "      <td>98.501153</td>\n",
              "    </tr>\n",
              "    <tr>\n",
              "      <th>5</th>\n",
              "      <td>98.736512</td>\n",
              "      <td>94.704274</td>\n",
              "      <td>95.868114</td>\n",
              "    </tr>\n",
              "    <tr>\n",
              "      <th>6</th>\n",
              "      <td>96.663286</td>\n",
              "      <td>100.816942</td>\n",
              "      <td>100.217431</td>\n",
              "    </tr>\n",
              "    <tr>\n",
              "      <th>7</th>\n",
              "      <td>94.210710</td>\n",
              "      <td>95.215387</td>\n",
              "      <td>99.402264</td>\n",
              "    </tr>\n",
              "    <tr>\n",
              "      <th>...</th>\n",
              "      <td>...</td>\n",
              "      <td>...</td>\n",
              "      <td>...</td>\n",
              "    </tr>\n",
              "    <tr>\n",
              "      <th>95</th>\n",
              "      <td>100.348622</td>\n",
              "      <td>94.959273</td>\n",
              "      <td>105.535640</td>\n",
              "    </tr>\n",
              "    <tr>\n",
              "      <th>96</th>\n",
              "      <td>105.334303</td>\n",
              "      <td>105.897776</td>\n",
              "      <td>100.252191</td>\n",
              "    </tr>\n",
              "    <tr>\n",
              "      <th>97</th>\n",
              "      <td>99.409858</td>\n",
              "      <td>96.545423</td>\n",
              "      <td>92.209655</td>\n",
              "    </tr>\n",
              "    <tr>\n",
              "      <th>98</th>\n",
              "      <td>105.177955</td>\n",
              "      <td>102.510286</td>\n",
              "      <td>98.228356</td>\n",
              "    </tr>\n",
              "    <tr>\n",
              "      <th>99</th>\n",
              "      <td>95.858776</td>\n",
              "      <td>101.687158</td>\n",
              "      <td>102.459487</td>\n",
              "    </tr>\n",
              "  </tbody>\n",
              "</table>\n",
              "<p>97 rows × 3 columns</p>\n",
              "</div>"
            ],
            "text/plain": [
              "             A           B           C\n",
              "3   103.521249  102.129834   93.954630\n",
              "4   104.558463   93.858423   98.501153\n",
              "5    98.736512   94.704274   95.868114\n",
              "6    96.663286  100.816942  100.217431\n",
              "7    94.210710   95.215387   99.402264\n",
              "..         ...         ...         ...\n",
              "95  100.348622   94.959273  105.535640\n",
              "96  105.334303  105.897776  100.252191\n",
              "97   99.409858   96.545423   92.209655\n",
              "98  105.177955  102.510286   98.228356\n",
              "99   95.858776  101.687158  102.459487\n",
              "\n",
              "[97 rows x 3 columns]"
            ]
          },
          "metadata": {
            "tags": []
          },
          "execution_count": 29
        }
      ]
    },
    {
      "cell_type": "code",
      "metadata": {
        "id": "ZxTxdoA_nMg8"
      },
      "source": [
        "\n",
        "df = pd.DataFrame(np.random.normal(1, 0.5, 50).reshape(10, 5),\n",
        "\tcolumns = list('ABCDE'))"
      ],
      "execution_count": 31,
      "outputs": []
    },
    {
      "cell_type": "code",
      "metadata": {
        "colab": {
          "base_uri": "https://localhost:8080/",
          "height": 363
        },
        "id": "xYjq_bXeqd6j",
        "outputId": "140ba57a-b5fd-4ce5-aea7-187f992a1487"
      },
      "source": [
        "df"
      ],
      "execution_count": 32,
      "outputs": [
        {
          "output_type": "execute_result",
          "data": {
            "text/html": [
              "<div>\n",
              "<style scoped>\n",
              "    .dataframe tbody tr th:only-of-type {\n",
              "        vertical-align: middle;\n",
              "    }\n",
              "\n",
              "    .dataframe tbody tr th {\n",
              "        vertical-align: top;\n",
              "    }\n",
              "\n",
              "    .dataframe thead th {\n",
              "        text-align: right;\n",
              "    }\n",
              "</style>\n",
              "<table border=\"1\" class=\"dataframe\">\n",
              "  <thead>\n",
              "    <tr style=\"text-align: right;\">\n",
              "      <th></th>\n",
              "      <th>A</th>\n",
              "      <th>B</th>\n",
              "      <th>C</th>\n",
              "      <th>D</th>\n",
              "      <th>E</th>\n",
              "    </tr>\n",
              "  </thead>\n",
              "  <tbody>\n",
              "    <tr>\n",
              "      <th>0</th>\n",
              "      <td>0.549610</td>\n",
              "      <td>1.227651</td>\n",
              "      <td>1.475521</td>\n",
              "      <td>0.488430</td>\n",
              "      <td>1.237410</td>\n",
              "    </tr>\n",
              "    <tr>\n",
              "      <th>1</th>\n",
              "      <td>0.363682</td>\n",
              "      <td>1.728925</td>\n",
              "      <td>0.334413</td>\n",
              "      <td>0.625940</td>\n",
              "      <td>0.684853</td>\n",
              "    </tr>\n",
              "    <tr>\n",
              "      <th>2</th>\n",
              "      <td>0.756192</td>\n",
              "      <td>1.355779</td>\n",
              "      <td>1.793525</td>\n",
              "      <td>0.831178</td>\n",
              "      <td>-0.110004</td>\n",
              "    </tr>\n",
              "    <tr>\n",
              "      <th>3</th>\n",
              "      <td>0.785341</td>\n",
              "      <td>1.127522</td>\n",
              "      <td>0.795080</td>\n",
              "      <td>0.920507</td>\n",
              "      <td>1.371215</td>\n",
              "    </tr>\n",
              "    <tr>\n",
              "      <th>4</th>\n",
              "      <td>1.574860</td>\n",
              "      <td>1.396304</td>\n",
              "      <td>0.808104</td>\n",
              "      <td>1.011462</td>\n",
              "      <td>0.875804</td>\n",
              "    </tr>\n",
              "    <tr>\n",
              "      <th>5</th>\n",
              "      <td>0.743210</td>\n",
              "      <td>1.260314</td>\n",
              "      <td>0.117605</td>\n",
              "      <td>1.072175</td>\n",
              "      <td>1.009840</td>\n",
              "    </tr>\n",
              "    <tr>\n",
              "      <th>6</th>\n",
              "      <td>0.819622</td>\n",
              "      <td>0.699068</td>\n",
              "      <td>0.207382</td>\n",
              "      <td>1.548970</td>\n",
              "      <td>1.538966</td>\n",
              "    </tr>\n",
              "    <tr>\n",
              "      <th>7</th>\n",
              "      <td>1.528899</td>\n",
              "      <td>0.522512</td>\n",
              "      <td>1.371842</td>\n",
              "      <td>0.756698</td>\n",
              "      <td>1.041629</td>\n",
              "    </tr>\n",
              "    <tr>\n",
              "      <th>8</th>\n",
              "      <td>1.124808</td>\n",
              "      <td>2.962155</td>\n",
              "      <td>1.153631</td>\n",
              "      <td>0.263883</td>\n",
              "      <td>0.747184</td>\n",
              "    </tr>\n",
              "    <tr>\n",
              "      <th>9</th>\n",
              "      <td>0.601640</td>\n",
              "      <td>1.093827</td>\n",
              "      <td>1.108272</td>\n",
              "      <td>0.806587</td>\n",
              "      <td>1.262511</td>\n",
              "    </tr>\n",
              "  </tbody>\n",
              "</table>\n",
              "</div>"
            ],
            "text/plain": [
              "          A         B         C         D         E\n",
              "0  0.549610  1.227651  1.475521  0.488430  1.237410\n",
              "1  0.363682  1.728925  0.334413  0.625940  0.684853\n",
              "2  0.756192  1.355779  1.793525  0.831178 -0.110004\n",
              "3  0.785341  1.127522  0.795080  0.920507  1.371215\n",
              "4  1.574860  1.396304  0.808104  1.011462  0.875804\n",
              "5  0.743210  1.260314  0.117605  1.072175  1.009840\n",
              "6  0.819622  0.699068  0.207382  1.548970  1.538966\n",
              "7  1.528899  0.522512  1.371842  0.756698  1.041629\n",
              "8  1.124808  2.962155  1.153631  0.263883  0.747184\n",
              "9  0.601640  1.093827  1.108272  0.806587  1.262511"
            ]
          },
          "metadata": {
            "tags": []
          },
          "execution_count": 32
        }
      ]
    },
    {
      "cell_type": "code",
      "metadata": {
        "colab": {
          "base_uri": "https://localhost:8080/",
          "height": 423
        },
        "id": "vjgMwpniq22A",
        "outputId": "73d66812-1bd1-4a19-ab4e-46aacd8f6237"
      },
      "source": [
        "df.add_prefix(prefix = 'coluna_')"
      ],
      "execution_count": 48,
      "outputs": [
        {
          "output_type": "execute_result",
          "data": {
            "text/html": [
              "<div>\n",
              "<style scoped>\n",
              "    .dataframe tbody tr th:only-of-type {\n",
              "        vertical-align: middle;\n",
              "    }\n",
              "\n",
              "    .dataframe tbody tr th {\n",
              "        vertical-align: top;\n",
              "    }\n",
              "\n",
              "    .dataframe thead th {\n",
              "        text-align: right;\n",
              "    }\n",
              "</style>\n",
              "<table border=\"1\" class=\"dataframe\">\n",
              "  <thead>\n",
              "    <tr style=\"text-align: right;\">\n",
              "      <th></th>\n",
              "      <th>coluna_A</th>\n",
              "      <th>coluna_C</th>\n",
              "    </tr>\n",
              "  </thead>\n",
              "  <tbody>\n",
              "    <tr>\n",
              "      <th>0</th>\n",
              "      <td>95.035854</td>\n",
              "      <td>101.952820</td>\n",
              "    </tr>\n",
              "    <tr>\n",
              "      <th>1</th>\n",
              "      <td>108.241826</td>\n",
              "      <td>97.424288</td>\n",
              "    </tr>\n",
              "    <tr>\n",
              "      <th>2</th>\n",
              "      <td>105.467136</td>\n",
              "      <td>95.858771</td>\n",
              "    </tr>\n",
              "    <tr>\n",
              "      <th>3</th>\n",
              "      <td>98.967042</td>\n",
              "      <td>100.140701</td>\n",
              "    </tr>\n",
              "    <tr>\n",
              "      <th>4</th>\n",
              "      <td>107.213590</td>\n",
              "      <td>94.569455</td>\n",
              "    </tr>\n",
              "    <tr>\n",
              "      <th>...</th>\n",
              "      <td>...</td>\n",
              "      <td>...</td>\n",
              "    </tr>\n",
              "    <tr>\n",
              "      <th>95</th>\n",
              "      <td>109.261380</td>\n",
              "      <td>102.108524</td>\n",
              "    </tr>\n",
              "    <tr>\n",
              "      <th>96</th>\n",
              "      <td>99.847249</td>\n",
              "      <td>98.367434</td>\n",
              "    </tr>\n",
              "    <tr>\n",
              "      <th>97</th>\n",
              "      <td>95.430504</td>\n",
              "      <td>94.898745</td>\n",
              "    </tr>\n",
              "    <tr>\n",
              "      <th>98</th>\n",
              "      <td>102.277666</td>\n",
              "      <td>108.598667</td>\n",
              "    </tr>\n",
              "    <tr>\n",
              "      <th>99</th>\n",
              "      <td>92.496479</td>\n",
              "      <td>96.606190</td>\n",
              "    </tr>\n",
              "  </tbody>\n",
              "</table>\n",
              "<p>100 rows × 2 columns</p>\n",
              "</div>"
            ],
            "text/plain": [
              "      coluna_A    coluna_C\n",
              "0    95.035854  101.952820\n",
              "1   108.241826   97.424288\n",
              "2   105.467136   95.858771\n",
              "3    98.967042  100.140701\n",
              "4   107.213590   94.569455\n",
              "..         ...         ...\n",
              "95  109.261380  102.108524\n",
              "96   99.847249   98.367434\n",
              "97   95.430504   94.898745\n",
              "98  102.277666  108.598667\n",
              "99   92.496479   96.606190\n",
              "\n",
              "[100 rows x 2 columns]"
            ]
          },
          "metadata": {
            "tags": []
          },
          "execution_count": 48
        }
      ]
    },
    {
      "cell_type": "code",
      "metadata": {
        "colab": {
          "base_uri": "https://localhost:8080/",
          "height": 423
        },
        "id": "k8A_FohDrDWb",
        "outputId": "055b37eb-5be6-445f-d45d-6c2026d4df70"
      },
      "source": [
        "df.add_suffix(suffix = '_coluna')"
      ],
      "execution_count": 49,
      "outputs": [
        {
          "output_type": "execute_result",
          "data": {
            "text/html": [
              "<div>\n",
              "<style scoped>\n",
              "    .dataframe tbody tr th:only-of-type {\n",
              "        vertical-align: middle;\n",
              "    }\n",
              "\n",
              "    .dataframe tbody tr th {\n",
              "        vertical-align: top;\n",
              "    }\n",
              "\n",
              "    .dataframe thead th {\n",
              "        text-align: right;\n",
              "    }\n",
              "</style>\n",
              "<table border=\"1\" class=\"dataframe\">\n",
              "  <thead>\n",
              "    <tr style=\"text-align: right;\">\n",
              "      <th></th>\n",
              "      <th>A_coluna</th>\n",
              "      <th>C_coluna</th>\n",
              "    </tr>\n",
              "  </thead>\n",
              "  <tbody>\n",
              "    <tr>\n",
              "      <th>0</th>\n",
              "      <td>95.035854</td>\n",
              "      <td>101.952820</td>\n",
              "    </tr>\n",
              "    <tr>\n",
              "      <th>1</th>\n",
              "      <td>108.241826</td>\n",
              "      <td>97.424288</td>\n",
              "    </tr>\n",
              "    <tr>\n",
              "      <th>2</th>\n",
              "      <td>105.467136</td>\n",
              "      <td>95.858771</td>\n",
              "    </tr>\n",
              "    <tr>\n",
              "      <th>3</th>\n",
              "      <td>98.967042</td>\n",
              "      <td>100.140701</td>\n",
              "    </tr>\n",
              "    <tr>\n",
              "      <th>4</th>\n",
              "      <td>107.213590</td>\n",
              "      <td>94.569455</td>\n",
              "    </tr>\n",
              "    <tr>\n",
              "      <th>...</th>\n",
              "      <td>...</td>\n",
              "      <td>...</td>\n",
              "    </tr>\n",
              "    <tr>\n",
              "      <th>95</th>\n",
              "      <td>109.261380</td>\n",
              "      <td>102.108524</td>\n",
              "    </tr>\n",
              "    <tr>\n",
              "      <th>96</th>\n",
              "      <td>99.847249</td>\n",
              "      <td>98.367434</td>\n",
              "    </tr>\n",
              "    <tr>\n",
              "      <th>97</th>\n",
              "      <td>95.430504</td>\n",
              "      <td>94.898745</td>\n",
              "    </tr>\n",
              "    <tr>\n",
              "      <th>98</th>\n",
              "      <td>102.277666</td>\n",
              "      <td>108.598667</td>\n",
              "    </tr>\n",
              "    <tr>\n",
              "      <th>99</th>\n",
              "      <td>92.496479</td>\n",
              "      <td>96.606190</td>\n",
              "    </tr>\n",
              "  </tbody>\n",
              "</table>\n",
              "<p>100 rows × 2 columns</p>\n",
              "</div>"
            ],
            "text/plain": [
              "      A_coluna    C_coluna\n",
              "0    95.035854  101.952820\n",
              "1   108.241826   97.424288\n",
              "2   105.467136   95.858771\n",
              "3    98.967042  100.140701\n",
              "4   107.213590   94.569455\n",
              "..         ...         ...\n",
              "95  109.261380  102.108524\n",
              "96   99.847249   98.367434\n",
              "97   95.430504   94.898745\n",
              "98  102.277666  108.598667\n",
              "99   92.496479   96.606190\n",
              "\n",
              "[100 rows x 2 columns]"
            ]
          },
          "metadata": {
            "tags": []
          },
          "execution_count": 49
        }
      ]
    },
    {
      "cell_type": "code",
      "metadata": {
        "id": "Pe6jjxDLrG3_"
      },
      "source": [
        "\n",
        "serie = pd.Series([1,2,3], ['2020', '2021', '2022'])"
      ],
      "execution_count": 37,
      "outputs": []
    },
    {
      "cell_type": "code",
      "metadata": {
        "colab": {
          "base_uri": "https://localhost:8080/"
        },
        "id": "9g03RDoZz5HH",
        "outputId": "318aefdf-38a8-4101-f3f9-8eeabf180f4b"
      },
      "source": [
        "serie"
      ],
      "execution_count": 38,
      "outputs": [
        {
          "output_type": "execute_result",
          "data": {
            "text/plain": [
              "2020    1\n",
              "2021    2\n",
              "2022    3\n",
              "dtype: int64"
            ]
          },
          "metadata": {
            "tags": []
          },
          "execution_count": 38
        }
      ]
    },
    {
      "cell_type": "code",
      "metadata": {
        "colab": {
          "base_uri": "https://localhost:8080/",
          "height": 363
        },
        "id": "clKk5jgaz-Yn",
        "outputId": "fc294704-295f-4fea-b29d-020584e0514a"
      },
      "source": [
        "df.add_prefix(prefix = 'Ano')"
      ],
      "execution_count": 39,
      "outputs": [
        {
          "output_type": "execute_result",
          "data": {
            "text/html": [
              "<div>\n",
              "<style scoped>\n",
              "    .dataframe tbody tr th:only-of-type {\n",
              "        vertical-align: middle;\n",
              "    }\n",
              "\n",
              "    .dataframe tbody tr th {\n",
              "        vertical-align: top;\n",
              "    }\n",
              "\n",
              "    .dataframe thead th {\n",
              "        text-align: right;\n",
              "    }\n",
              "</style>\n",
              "<table border=\"1\" class=\"dataframe\">\n",
              "  <thead>\n",
              "    <tr style=\"text-align: right;\">\n",
              "      <th></th>\n",
              "      <th>AnoA</th>\n",
              "      <th>AnoB</th>\n",
              "      <th>AnoC</th>\n",
              "      <th>AnoD</th>\n",
              "      <th>AnoE</th>\n",
              "    </tr>\n",
              "  </thead>\n",
              "  <tbody>\n",
              "    <tr>\n",
              "      <th>0</th>\n",
              "      <td>0.549610</td>\n",
              "      <td>1.227651</td>\n",
              "      <td>1.475521</td>\n",
              "      <td>0.488430</td>\n",
              "      <td>1.237410</td>\n",
              "    </tr>\n",
              "    <tr>\n",
              "      <th>1</th>\n",
              "      <td>0.363682</td>\n",
              "      <td>1.728925</td>\n",
              "      <td>0.334413</td>\n",
              "      <td>0.625940</td>\n",
              "      <td>0.684853</td>\n",
              "    </tr>\n",
              "    <tr>\n",
              "      <th>2</th>\n",
              "      <td>0.756192</td>\n",
              "      <td>1.355779</td>\n",
              "      <td>1.793525</td>\n",
              "      <td>0.831178</td>\n",
              "      <td>-0.110004</td>\n",
              "    </tr>\n",
              "    <tr>\n",
              "      <th>3</th>\n",
              "      <td>0.785341</td>\n",
              "      <td>1.127522</td>\n",
              "      <td>0.795080</td>\n",
              "      <td>0.920507</td>\n",
              "      <td>1.371215</td>\n",
              "    </tr>\n",
              "    <tr>\n",
              "      <th>4</th>\n",
              "      <td>1.574860</td>\n",
              "      <td>1.396304</td>\n",
              "      <td>0.808104</td>\n",
              "      <td>1.011462</td>\n",
              "      <td>0.875804</td>\n",
              "    </tr>\n",
              "    <tr>\n",
              "      <th>5</th>\n",
              "      <td>0.743210</td>\n",
              "      <td>1.260314</td>\n",
              "      <td>0.117605</td>\n",
              "      <td>1.072175</td>\n",
              "      <td>1.009840</td>\n",
              "    </tr>\n",
              "    <tr>\n",
              "      <th>6</th>\n",
              "      <td>0.819622</td>\n",
              "      <td>0.699068</td>\n",
              "      <td>0.207382</td>\n",
              "      <td>1.548970</td>\n",
              "      <td>1.538966</td>\n",
              "    </tr>\n",
              "    <tr>\n",
              "      <th>7</th>\n",
              "      <td>1.528899</td>\n",
              "      <td>0.522512</td>\n",
              "      <td>1.371842</td>\n",
              "      <td>0.756698</td>\n",
              "      <td>1.041629</td>\n",
              "    </tr>\n",
              "    <tr>\n",
              "      <th>8</th>\n",
              "      <td>1.124808</td>\n",
              "      <td>2.962155</td>\n",
              "      <td>1.153631</td>\n",
              "      <td>0.263883</td>\n",
              "      <td>0.747184</td>\n",
              "    </tr>\n",
              "    <tr>\n",
              "      <th>9</th>\n",
              "      <td>0.601640</td>\n",
              "      <td>1.093827</td>\n",
              "      <td>1.108272</td>\n",
              "      <td>0.806587</td>\n",
              "      <td>1.262511</td>\n",
              "    </tr>\n",
              "  </tbody>\n",
              "</table>\n",
              "</div>"
            ],
            "text/plain": [
              "       AnoA      AnoB      AnoC      AnoD      AnoE\n",
              "0  0.549610  1.227651  1.475521  0.488430  1.237410\n",
              "1  0.363682  1.728925  0.334413  0.625940  0.684853\n",
              "2  0.756192  1.355779  1.793525  0.831178 -0.110004\n",
              "3  0.785341  1.127522  0.795080  0.920507  1.371215\n",
              "4  1.574860  1.396304  0.808104  1.011462  0.875804\n",
              "5  0.743210  1.260314  0.117605  1.072175  1.009840\n",
              "6  0.819622  0.699068  0.207382  1.548970  1.538966\n",
              "7  1.528899  0.522512  1.371842  0.756698  1.041629\n",
              "8  1.124808  2.962155  1.153631  0.263883  0.747184\n",
              "9  0.601640  1.093827  1.108272  0.806587  1.262511"
            ]
          },
          "metadata": {
            "tags": []
          },
          "execution_count": 39
        }
      ]
    },
    {
      "cell_type": "code",
      "metadata": {
        "colab": {
          "base_uri": "https://localhost:8080/"
        },
        "id": "RpKx23gZ0Cnn",
        "outputId": "2a77e666-33fa-4697-d023-e93780ecac88"
      },
      "source": [
        "serie"
      ],
      "execution_count": 40,
      "outputs": [
        {
          "output_type": "execute_result",
          "data": {
            "text/plain": [
              "2020    1\n",
              "2021    2\n",
              "2022    3\n",
              "dtype: int64"
            ]
          },
          "metadata": {
            "tags": []
          },
          "execution_count": 40
        }
      ]
    },
    {
      "cell_type": "code",
      "metadata": {
        "colab": {
          "base_uri": "https://localhost:8080/",
          "height": 363
        },
        "id": "peCGcWX00Dlc",
        "outputId": "a89f59d5-6189-4a64-f96e-bd80259cdb7b"
      },
      "source": [
        "df.add_prefix(prefix = 'Ano')"
      ],
      "execution_count": 41,
      "outputs": [
        {
          "output_type": "execute_result",
          "data": {
            "text/html": [
              "<div>\n",
              "<style scoped>\n",
              "    .dataframe tbody tr th:only-of-type {\n",
              "        vertical-align: middle;\n",
              "    }\n",
              "\n",
              "    .dataframe tbody tr th {\n",
              "        vertical-align: top;\n",
              "    }\n",
              "\n",
              "    .dataframe thead th {\n",
              "        text-align: right;\n",
              "    }\n",
              "</style>\n",
              "<table border=\"1\" class=\"dataframe\">\n",
              "  <thead>\n",
              "    <tr style=\"text-align: right;\">\n",
              "      <th></th>\n",
              "      <th>AnoA</th>\n",
              "      <th>AnoB</th>\n",
              "      <th>AnoC</th>\n",
              "      <th>AnoD</th>\n",
              "      <th>AnoE</th>\n",
              "    </tr>\n",
              "  </thead>\n",
              "  <tbody>\n",
              "    <tr>\n",
              "      <th>0</th>\n",
              "      <td>0.549610</td>\n",
              "      <td>1.227651</td>\n",
              "      <td>1.475521</td>\n",
              "      <td>0.488430</td>\n",
              "      <td>1.237410</td>\n",
              "    </tr>\n",
              "    <tr>\n",
              "      <th>1</th>\n",
              "      <td>0.363682</td>\n",
              "      <td>1.728925</td>\n",
              "      <td>0.334413</td>\n",
              "      <td>0.625940</td>\n",
              "      <td>0.684853</td>\n",
              "    </tr>\n",
              "    <tr>\n",
              "      <th>2</th>\n",
              "      <td>0.756192</td>\n",
              "      <td>1.355779</td>\n",
              "      <td>1.793525</td>\n",
              "      <td>0.831178</td>\n",
              "      <td>-0.110004</td>\n",
              "    </tr>\n",
              "    <tr>\n",
              "      <th>3</th>\n",
              "      <td>0.785341</td>\n",
              "      <td>1.127522</td>\n",
              "      <td>0.795080</td>\n",
              "      <td>0.920507</td>\n",
              "      <td>1.371215</td>\n",
              "    </tr>\n",
              "    <tr>\n",
              "      <th>4</th>\n",
              "      <td>1.574860</td>\n",
              "      <td>1.396304</td>\n",
              "      <td>0.808104</td>\n",
              "      <td>1.011462</td>\n",
              "      <td>0.875804</td>\n",
              "    </tr>\n",
              "    <tr>\n",
              "      <th>5</th>\n",
              "      <td>0.743210</td>\n",
              "      <td>1.260314</td>\n",
              "      <td>0.117605</td>\n",
              "      <td>1.072175</td>\n",
              "      <td>1.009840</td>\n",
              "    </tr>\n",
              "    <tr>\n",
              "      <th>6</th>\n",
              "      <td>0.819622</td>\n",
              "      <td>0.699068</td>\n",
              "      <td>0.207382</td>\n",
              "      <td>1.548970</td>\n",
              "      <td>1.538966</td>\n",
              "    </tr>\n",
              "    <tr>\n",
              "      <th>7</th>\n",
              "      <td>1.528899</td>\n",
              "      <td>0.522512</td>\n",
              "      <td>1.371842</td>\n",
              "      <td>0.756698</td>\n",
              "      <td>1.041629</td>\n",
              "    </tr>\n",
              "    <tr>\n",
              "      <th>8</th>\n",
              "      <td>1.124808</td>\n",
              "      <td>2.962155</td>\n",
              "      <td>1.153631</td>\n",
              "      <td>0.263883</td>\n",
              "      <td>0.747184</td>\n",
              "    </tr>\n",
              "    <tr>\n",
              "      <th>9</th>\n",
              "      <td>0.601640</td>\n",
              "      <td>1.093827</td>\n",
              "      <td>1.108272</td>\n",
              "      <td>0.806587</td>\n",
              "      <td>1.262511</td>\n",
              "    </tr>\n",
              "  </tbody>\n",
              "</table>\n",
              "</div>"
            ],
            "text/plain": [
              "       AnoA      AnoB      AnoC      AnoD      AnoE\n",
              "0  0.549610  1.227651  1.475521  0.488430  1.237410\n",
              "1  0.363682  1.728925  0.334413  0.625940  0.684853\n",
              "2  0.756192  1.355779  1.793525  0.831178 -0.110004\n",
              "3  0.785341  1.127522  0.795080  0.920507  1.371215\n",
              "4  1.574860  1.396304  0.808104  1.011462  0.875804\n",
              "5  0.743210  1.260314  0.117605  1.072175  1.009840\n",
              "6  0.819622  0.699068  0.207382  1.548970  1.538966\n",
              "7  1.528899  0.522512  1.371842  0.756698  1.041629\n",
              "8  1.124808  2.962155  1.153631  0.263883  0.747184\n",
              "9  0.601640  1.093827  1.108272  0.806587  1.262511"
            ]
          },
          "metadata": {
            "tags": []
          },
          "execution_count": 41
        }
      ]
    },
    {
      "cell_type": "code",
      "metadata": {
        "colab": {
          "base_uri": "https://localhost:8080/"
        },
        "id": "EmtwUN7P0mOw",
        "outputId": "acab7142-48d3-44cf-8251-33c80f438dea"
      },
      "source": [
        "serie"
      ],
      "execution_count": 42,
      "outputs": [
        {
          "output_type": "execute_result",
          "data": {
            "text/plain": [
              "2020    1\n",
              "2021    2\n",
              "2022    3\n",
              "dtype: int64"
            ]
          },
          "metadata": {
            "tags": []
          },
          "execution_count": 42
        }
      ]
    },
    {
      "cell_type": "code",
      "metadata": {
        "id": "jUGtUUL10p1H"
      },
      "source": [
        "serie = pd.Series([1,2,3], [2020, 2021, 2022])"
      ],
      "execution_count": 43,
      "outputs": []
    },
    {
      "cell_type": "code",
      "metadata": {
        "colab": {
          "base_uri": "https://localhost:8080/"
        },
        "id": "qp_sPPfA0zea",
        "outputId": "c0b23319-8525-4e15-9590-363ba4f2e18f"
      },
      "source": [
        "serie"
      ],
      "execution_count": 44,
      "outputs": [
        {
          "output_type": "execute_result",
          "data": {
            "text/plain": [
              "2020    1\n",
              "2021    2\n",
              "2022    3\n",
              "dtype: int64"
            ]
          },
          "metadata": {
            "tags": []
          },
          "execution_count": 44
        }
      ]
    },
    {
      "cell_type": "code",
      "metadata": {
        "colab": {
          "base_uri": "https://localhost:8080/"
        },
        "id": "Z0_b3WZs03Pk",
        "outputId": "02730c92-5bbf-4d78-8254-152d7345a956"
      },
      "source": [
        "serie.add_suffix(suffix = '_Ano')"
      ],
      "execution_count": 45,
      "outputs": [
        {
          "output_type": "execute_result",
          "data": {
            "text/plain": [
              "2020_Ano    1\n",
              "2021_Ano    2\n",
              "2022_Ano    3\n",
              "dtype: int64"
            ]
          },
          "metadata": {
            "tags": []
          },
          "execution_count": 45
        }
      ]
    },
    {
      "cell_type": "code",
      "metadata": {
        "colab": {
          "base_uri": "https://localhost:8080/",
          "height": 174
        },
        "id": "1DJf0LMV04If",
        "outputId": "1eea396c-e376-469d-9ba3-172ffe4310a2"
      },
      "source": [
        ""
      ],
      "execution_count": 51,
      "outputs": [
        {
          "output_type": "error",
          "ename": "NameError",
          "evalue": "ignored",
          "traceback": [
            "\u001b[0;31m---------------------------------------------------------------------------\u001b[0m",
            "\u001b[0;31mNameError\u001b[0m                                 Traceback (most recent call last)",
            "\u001b[0;32m<ipython-input-51-8258e063bdf8>\u001b[0m in \u001b[0;36m<module>\u001b[0;34m()\u001b[0m\n\u001b[0;32m----> 1\u001b[0;31m \u001b[0mserie\u001b[0m\u001b[0;34m\u001b[0m\u001b[0;34m\u001b[0m\u001b[0m\n\u001b[0m",
            "\u001b[0;31mNameError\u001b[0m: name 'serie' is not defined"
          ]
        }
      ]
    },
    {
      "cell_type": "code",
      "metadata": {
        "id": "ZLHbt--G06qY"
      },
      "source": [
        "\n",
        "nomes = ['Cristiane', 'Regiane', 'Diana', 'Mayumi','Stefanni']\n",
        "cidades = ['Sergipe', 'Recife', 'Mato Grosso', 'Rio Grande do Sul', 'Salvador']\n",
        "matematica = [7, 5, 8, 9, 6]\n",
        "historia = [5, 10, 8, 6, 9]\n",
        "data = {'Nome': nomes,\n",
        "\t'Cidade': cidades,\n",
        "\t'Matematica': matematica,\n",
        "\t'Historia': historia\n",
        "  }\n",
        "\n",
        "df = pd.DataFrame(data)"
      ],
      "execution_count": 6,
      "outputs": []
    },
    {
      "cell_type": "code",
      "metadata": {
        "colab": {
          "base_uri": "https://localhost:8080/",
          "height": 206
        },
        "id": "oQFjMW7m9vuW",
        "outputId": "220eba30-23b6-4430-efa2-69ad142b0c9b"
      },
      "source": [
        "df"
      ],
      "execution_count": 7,
      "outputs": [
        {
          "output_type": "execute_result",
          "data": {
            "text/html": [
              "<div>\n",
              "<style scoped>\n",
              "    .dataframe tbody tr th:only-of-type {\n",
              "        vertical-align: middle;\n",
              "    }\n",
              "\n",
              "    .dataframe tbody tr th {\n",
              "        vertical-align: top;\n",
              "    }\n",
              "\n",
              "    .dataframe thead th {\n",
              "        text-align: right;\n",
              "    }\n",
              "</style>\n",
              "<table border=\"1\" class=\"dataframe\">\n",
              "  <thead>\n",
              "    <tr style=\"text-align: right;\">\n",
              "      <th></th>\n",
              "      <th>Nome</th>\n",
              "      <th>Cidade</th>\n",
              "      <th>Matematica</th>\n",
              "      <th>Historia</th>\n",
              "    </tr>\n",
              "  </thead>\n",
              "  <tbody>\n",
              "    <tr>\n",
              "      <th>0</th>\n",
              "      <td>Cristiane</td>\n",
              "      <td>Sergipe</td>\n",
              "      <td>7</td>\n",
              "      <td>5</td>\n",
              "    </tr>\n",
              "    <tr>\n",
              "      <th>1</th>\n",
              "      <td>Regiane</td>\n",
              "      <td>Recife</td>\n",
              "      <td>5</td>\n",
              "      <td>10</td>\n",
              "    </tr>\n",
              "    <tr>\n",
              "      <th>2</th>\n",
              "      <td>Diana</td>\n",
              "      <td>Mato Grosso</td>\n",
              "      <td>8</td>\n",
              "      <td>8</td>\n",
              "    </tr>\n",
              "    <tr>\n",
              "      <th>3</th>\n",
              "      <td>Mayumi</td>\n",
              "      <td>Rio Grande do Sul</td>\n",
              "      <td>9</td>\n",
              "      <td>6</td>\n",
              "    </tr>\n",
              "    <tr>\n",
              "      <th>4</th>\n",
              "      <td>Stefanni</td>\n",
              "      <td>Salvador</td>\n",
              "      <td>6</td>\n",
              "      <td>9</td>\n",
              "    </tr>\n",
              "  </tbody>\n",
              "</table>\n",
              "</div>"
            ],
            "text/plain": [
              "        Nome             Cidade  Matematica  Historia\n",
              "0  Cristiane            Sergipe           7         5\n",
              "1    Regiane             Recife           5        10\n",
              "2      Diana        Mato Grosso           8         8\n",
              "3     Mayumi  Rio Grande do Sul           9         6\n",
              "4   Stefanni           Salvador           6         9"
            ]
          },
          "metadata": {
            "tags": []
          },
          "execution_count": 7
        }
      ]
    },
    {
      "cell_type": "code",
      "metadata": {
        "id": "ft24z8xgB_LT"
      },
      "source": [
        "gender = ['F', 'F', 'F', 'F', 'F']#Adicionar coluna\n",
        "df['Genero'] = gender"
      ],
      "execution_count": 53,
      "outputs": []
    },
    {
      "cell_type": "code",
      "metadata": {
        "colab": {
          "base_uri": "https://localhost:8080/",
          "height": 206
        },
        "id": "9eD3zk13C6xi",
        "outputId": "77d9cfe7-428f-4905-c2d2-ffbe479f72ac"
      },
      "source": [
        "df"
      ],
      "execution_count": 54,
      "outputs": [
        {
          "output_type": "execute_result",
          "data": {
            "text/html": [
              "<div>\n",
              "<style scoped>\n",
              "    .dataframe tbody tr th:only-of-type {\n",
              "        vertical-align: middle;\n",
              "    }\n",
              "\n",
              "    .dataframe tbody tr th {\n",
              "        vertical-align: top;\n",
              "    }\n",
              "\n",
              "    .dataframe thead th {\n",
              "        text-align: right;\n",
              "    }\n",
              "</style>\n",
              "<table border=\"1\" class=\"dataframe\">\n",
              "  <thead>\n",
              "    <tr style=\"text-align: right;\">\n",
              "      <th></th>\n",
              "      <th>Nome</th>\n",
              "      <th>Cidade</th>\n",
              "      <th>Matematica</th>\n",
              "      <th>Historia</th>\n",
              "      <th>Genero</th>\n",
              "    </tr>\n",
              "  </thead>\n",
              "  <tbody>\n",
              "    <tr>\n",
              "      <th>0</th>\n",
              "      <td>Cristiane</td>\n",
              "      <td>Sergipe</td>\n",
              "      <td>7</td>\n",
              "      <td>5</td>\n",
              "      <td>F</td>\n",
              "    </tr>\n",
              "    <tr>\n",
              "      <th>1</th>\n",
              "      <td>Regiane</td>\n",
              "      <td>Recife</td>\n",
              "      <td>5</td>\n",
              "      <td>10</td>\n",
              "      <td>F</td>\n",
              "    </tr>\n",
              "    <tr>\n",
              "      <th>2</th>\n",
              "      <td>Diana</td>\n",
              "      <td>Mato Grosso</td>\n",
              "      <td>8</td>\n",
              "      <td>8</td>\n",
              "      <td>F</td>\n",
              "    </tr>\n",
              "    <tr>\n",
              "      <th>3</th>\n",
              "      <td>Mayumi</td>\n",
              "      <td>Rio Grande do Sul</td>\n",
              "      <td>9</td>\n",
              "      <td>6</td>\n",
              "      <td>F</td>\n",
              "    </tr>\n",
              "    <tr>\n",
              "      <th>4</th>\n",
              "      <td>Stefanni</td>\n",
              "      <td>Salvador</td>\n",
              "      <td>6</td>\n",
              "      <td>9</td>\n",
              "      <td>F</td>\n",
              "    </tr>\n",
              "  </tbody>\n",
              "</table>\n",
              "</div>"
            ],
            "text/plain": [
              "        Nome             Cidade  Matematica  Historia Genero\n",
              "0  Cristiane            Sergipe           7         5      F\n",
              "1    Regiane             Recife           5        10      F\n",
              "2      Diana        Mato Grosso           8         8      F\n",
              "3     Mayumi  Rio Grande do Sul           9         6      F\n",
              "4   Stefanni           Salvador           6         9      F"
            ]
          },
          "metadata": {
            "tags": []
          },
          "execution_count": 54
        }
      ]
    },
    {
      "cell_type": "code",
      "metadata": {
        "id": "Ef4mGvJtC-eL"
      },
      "source": [
        "df.insert(loc =1, column = 'Genero_', value = gender)"
      ],
      "execution_count": 8,
      "outputs": []
    },
    {
      "cell_type": "code",
      "metadata": {
        "colab": {
          "base_uri": "https://localhost:8080/",
          "height": 174
        },
        "id": "mumMTPkWDtE4",
        "outputId": "44066c35-8028-4cd5-fe0e-d38c20b57a56"
      },
      "source": [
        "df"
      ],
      "execution_count": 2,
      "outputs": [
        {
          "output_type": "error",
          "ename": "NameError",
          "evalue": "ignored",
          "traceback": [
            "\u001b[0;31m---------------------------------------------------------------------------\u001b[0m",
            "\u001b[0;31mNameError\u001b[0m                                 Traceback (most recent call last)",
            "\u001b[0;32m<ipython-input-2-00cf07b74dcd>\u001b[0m in \u001b[0;36m<module>\u001b[0;34m()\u001b[0m\n\u001b[0;32m----> 1\u001b[0;31m \u001b[0mdf\u001b[0m\u001b[0;34m\u001b[0m\u001b[0;34m\u001b[0m\u001b[0m\n\u001b[0m",
            "\u001b[0;31mNameError\u001b[0m: name 'df' is not defined"
          ]
        }
      ]
    },
    {
      "cell_type": "code",
      "metadata": {
        "id": "BqhYT9s1Dti2"
      },
      "source": [
        "df.drop(columns = ['Genero_'], inplace = True)"
      ],
      "execution_count": 10,
      "outputs": []
    },
    {
      "cell_type": "code",
      "metadata": {
        "colab": {
          "base_uri": "https://localhost:8080/",
          "height": 206
        },
        "id": "dLlF3nFIEKTP",
        "outputId": "92a68567-3038-4864-ace3-c5720dff1336"
      },
      "source": [
        "df"
      ],
      "execution_count": 11,
      "outputs": [
        {
          "output_type": "execute_result",
          "data": {
            "text/html": [
              "<div>\n",
              "<style scoped>\n",
              "    .dataframe tbody tr th:only-of-type {\n",
              "        vertical-align: middle;\n",
              "    }\n",
              "\n",
              "    .dataframe tbody tr th {\n",
              "        vertical-align: top;\n",
              "    }\n",
              "\n",
              "    .dataframe thead th {\n",
              "        text-align: right;\n",
              "    }\n",
              "</style>\n",
              "<table border=\"1\" class=\"dataframe\">\n",
              "  <thead>\n",
              "    <tr style=\"text-align: right;\">\n",
              "      <th></th>\n",
              "      <th>Nome</th>\n",
              "      <th>Cidade</th>\n",
              "      <th>Matematica</th>\n",
              "      <th>Historia</th>\n",
              "      <th>Genero</th>\n",
              "    </tr>\n",
              "  </thead>\n",
              "  <tbody>\n",
              "    <tr>\n",
              "      <th>0</th>\n",
              "      <td>Cristiane</td>\n",
              "      <td>Sergipe</td>\n",
              "      <td>7</td>\n",
              "      <td>5</td>\n",
              "      <td>F</td>\n",
              "    </tr>\n",
              "    <tr>\n",
              "      <th>1</th>\n",
              "      <td>Regiane</td>\n",
              "      <td>Recife</td>\n",
              "      <td>5</td>\n",
              "      <td>10</td>\n",
              "      <td>F</td>\n",
              "    </tr>\n",
              "    <tr>\n",
              "      <th>2</th>\n",
              "      <td>Diana</td>\n",
              "      <td>Mato Grosso</td>\n",
              "      <td>8</td>\n",
              "      <td>8</td>\n",
              "      <td>F</td>\n",
              "    </tr>\n",
              "    <tr>\n",
              "      <th>3</th>\n",
              "      <td>Mayumi</td>\n",
              "      <td>Rio Grande do Sul</td>\n",
              "      <td>9</td>\n",
              "      <td>6</td>\n",
              "      <td>F</td>\n",
              "    </tr>\n",
              "    <tr>\n",
              "      <th>4</th>\n",
              "      <td>Stefanni</td>\n",
              "      <td>Salvador</td>\n",
              "      <td>6</td>\n",
              "      <td>9</td>\n",
              "      <td>F</td>\n",
              "    </tr>\n",
              "  </tbody>\n",
              "</table>\n",
              "</div>"
            ],
            "text/plain": [
              "        Nome             Cidade  Matematica  Historia Genero\n",
              "0  Cristiane            Sergipe           7         5      F\n",
              "1    Regiane             Recife           5        10      F\n",
              "2      Diana        Mato Grosso           8         8      F\n",
              "3     Mayumi  Rio Grande do Sul           9         6      F\n",
              "4   Stefanni           Salvador           6         9      F"
            ]
          },
          "metadata": {
            "tags": []
          },
          "execution_count": 11
        }
      ]
    },
    {
      "cell_type": "code",
      "metadata": {
        "colab": {
          "base_uri": "https://localhost:8080/"
        },
        "id": "b1q0W6wrEK9L",
        "outputId": "e4747a61-d073-4169-fc5a-bb0d736e8081"
      },
      "source": [
        "df.columns[2:3] #media"
      ],
      "execution_count": 8,
      "outputs": [
        {
          "output_type": "execute_result",
          "data": {
            "text/plain": [
              "Index(['Matematica'], dtype='object')"
            ]
          },
          "metadata": {
            "tags": []
          },
          "execution_count": 8
        }
      ]
    },
    {
      "cell_type": "code",
      "metadata": {
        "id": "ccIPAEOXEgOr"
      },
      "source": [
        "df.drop(columns = ['Genero'], inplace = True)"
      ],
      "execution_count": 15,
      "outputs": []
    },
    {
      "cell_type": "code",
      "metadata": {
        "colab": {
          "base_uri": "https://localhost:8080/",
          "height": 206
        },
        "id": "52hGcuSkFcms",
        "outputId": "6e2f053c-6570-459a-9a7e-92986da3c156"
      },
      "source": [
        "df"
      ],
      "execution_count": 9,
      "outputs": [
        {
          "output_type": "execute_result",
          "data": {
            "text/html": [
              "<div>\n",
              "<style scoped>\n",
              "    .dataframe tbody tr th:only-of-type {\n",
              "        vertical-align: middle;\n",
              "    }\n",
              "\n",
              "    .dataframe tbody tr th {\n",
              "        vertical-align: top;\n",
              "    }\n",
              "\n",
              "    .dataframe thead th {\n",
              "        text-align: right;\n",
              "    }\n",
              "</style>\n",
              "<table border=\"1\" class=\"dataframe\">\n",
              "  <thead>\n",
              "    <tr style=\"text-align: right;\">\n",
              "      <th></th>\n",
              "      <th>Nome</th>\n",
              "      <th>Cidade</th>\n",
              "      <th>Matematica</th>\n",
              "      <th>Historia</th>\n",
              "    </tr>\n",
              "  </thead>\n",
              "  <tbody>\n",
              "    <tr>\n",
              "      <th>0</th>\n",
              "      <td>Cristiane</td>\n",
              "      <td>Sergipe</td>\n",
              "      <td>7</td>\n",
              "      <td>5</td>\n",
              "    </tr>\n",
              "    <tr>\n",
              "      <th>1</th>\n",
              "      <td>Regiane</td>\n",
              "      <td>Recife</td>\n",
              "      <td>5</td>\n",
              "      <td>10</td>\n",
              "    </tr>\n",
              "    <tr>\n",
              "      <th>2</th>\n",
              "      <td>Diana</td>\n",
              "      <td>Mato Grosso</td>\n",
              "      <td>8</td>\n",
              "      <td>8</td>\n",
              "    </tr>\n",
              "    <tr>\n",
              "      <th>3</th>\n",
              "      <td>Mayumi</td>\n",
              "      <td>Rio Grande do Sul</td>\n",
              "      <td>9</td>\n",
              "      <td>6</td>\n",
              "    </tr>\n",
              "    <tr>\n",
              "      <th>4</th>\n",
              "      <td>Stefanni</td>\n",
              "      <td>Salvador</td>\n",
              "      <td>6</td>\n",
              "      <td>9</td>\n",
              "    </tr>\n",
              "  </tbody>\n",
              "</table>\n",
              "</div>"
            ],
            "text/plain": [
              "        Nome             Cidade  Matematica  Historia\n",
              "0  Cristiane            Sergipe           7         5\n",
              "1    Regiane             Recife           5        10\n",
              "2      Diana        Mato Grosso           8         8\n",
              "3     Mayumi  Rio Grande do Sul           9         6\n",
              "4   Stefanni           Salvador           6         9"
            ]
          },
          "metadata": {
            "tags": []
          },
          "execution_count": 9
        }
      ]
    },
    {
      "cell_type": "code",
      "metadata": {
        "colab": {
          "base_uri": "https://localhost:8080/"
        },
        "id": "Bk_TjWeVFdqd",
        "outputId": "d603e467-3dc5-4a36-ee49-ff6ea4efaa50"
      },
      "source": [
        "dir(df.columns[3:])"
      ],
      "execution_count": 17,
      "outputs": [
        {
          "output_type": "execute_result",
          "data": {
            "text/plain": [
              "['T',\n",
              " '__abs__',\n",
              " '__add__',\n",
              " '__and__',\n",
              " '__annotations__',\n",
              " '__array__',\n",
              " '__array_priority__',\n",
              " '__array_wrap__',\n",
              " '__bool__',\n",
              " '__class__',\n",
              " '__contains__',\n",
              " '__copy__',\n",
              " '__deepcopy__',\n",
              " '__delattr__',\n",
              " '__dict__',\n",
              " '__dir__',\n",
              " '__divmod__',\n",
              " '__doc__',\n",
              " '__eq__',\n",
              " '__floordiv__',\n",
              " '__format__',\n",
              " '__ge__',\n",
              " '__getattribute__',\n",
              " '__getitem__',\n",
              " '__gt__',\n",
              " '__hash__',\n",
              " '__iadd__',\n",
              " '__init__',\n",
              " '__init_subclass__',\n",
              " '__inv__',\n",
              " '__iter__',\n",
              " '__le__',\n",
              " '__len__',\n",
              " '__lt__',\n",
              " '__mod__',\n",
              " '__module__',\n",
              " '__mul__',\n",
              " '__ne__',\n",
              " '__neg__',\n",
              " '__new__',\n",
              " '__nonzero__',\n",
              " '__or__',\n",
              " '__pos__',\n",
              " '__pow__',\n",
              " '__radd__',\n",
              " '__reduce__',\n",
              " '__reduce_ex__',\n",
              " '__repr__',\n",
              " '__rfloordiv__',\n",
              " '__rmul__',\n",
              " '__rpow__',\n",
              " '__rsub__',\n",
              " '__rtruediv__',\n",
              " '__setattr__',\n",
              " '__setitem__',\n",
              " '__sizeof__',\n",
              " '__str__',\n",
              " '__sub__',\n",
              " '__subclasshook__',\n",
              " '__truediv__',\n",
              " '__weakref__',\n",
              " '__xor__',\n",
              " '_accessors',\n",
              " '_add_comparison_methods',\n",
              " '_add_logical_methods',\n",
              " '_add_logical_methods_disabled',\n",
              " '_add_numeric_methods',\n",
              " '_add_numeric_methods_add_sub_disabled',\n",
              " '_add_numeric_methods_binary',\n",
              " '_add_numeric_methods_disabled',\n",
              " '_add_numeric_methods_unary',\n",
              " '_assert_can_do_op',\n",
              " '_assert_can_do_setop',\n",
              " '_assert_take_fillable',\n",
              " '_attributes',\n",
              " '_can_hold_identifiers_and_holds_name',\n",
              " '_can_hold_na',\n",
              " '_can_reindex',\n",
              " '_check_indexing_error',\n",
              " '_cleanup',\n",
              " '_coerce_scalar_to_index',\n",
              " '_comparables',\n",
              " '_concat',\n",
              " '_constructor',\n",
              " '_convert_arr_indexer',\n",
              " '_convert_can_do_setop',\n",
              " '_convert_for_op',\n",
              " '_convert_index_indexer',\n",
              " '_convert_list_indexer',\n",
              " '_convert_listlike_indexer',\n",
              " '_convert_slice_indexer',\n",
              " '_convert_tolerance',\n",
              " '_defer_to_indexing',\n",
              " '_deprecations',\n",
              " '_dir_additions',\n",
              " '_dir_deletions',\n",
              " '_engine',\n",
              " '_engine_type',\n",
              " '_filter_indexer_tolerance',\n",
              " '_format_attrs',\n",
              " '_format_data',\n",
              " '_format_native_types',\n",
              " '_format_space',\n",
              " '_format_with_header',\n",
              " '_formatter_func',\n",
              " '_get_attributes_dict',\n",
              " '_get_engine_target',\n",
              " '_get_fill_indexer',\n",
              " '_get_fill_indexer_searchsorted',\n",
              " '_get_grouper_for_level',\n",
              " '_get_level_number',\n",
              " '_get_level_values',\n",
              " '_get_names',\n",
              " '_get_nearest_indexer',\n",
              " '_get_partial_string_timestamp_match_key',\n",
              " '_get_reconciled_name_object',\n",
              " '_get_string_slice',\n",
              " '_get_unique_index',\n",
              " '_get_values_for_loc',\n",
              " '_has_complex_internals',\n",
              " '_id',\n",
              " '_inner_indexer',\n",
              " '_invalid_indexer',\n",
              " '_is_comparable_dtype',\n",
              " '_is_compatible_with_other',\n",
              " '_is_memory_usage_qualified',\n",
              " '_is_numeric_dtype',\n",
              " '_is_strictly_monotonic_decreasing',\n",
              " '_is_strictly_monotonic_increasing',\n",
              " '_isnan',\n",
              " '_join_level',\n",
              " '_join_monotonic',\n",
              " '_join_multi',\n",
              " '_join_non_unique',\n",
              " '_join_precedence',\n",
              " '_left_indexer',\n",
              " '_left_indexer_unique',\n",
              " '_map_values',\n",
              " '_maybe_cast_indexer',\n",
              " '_maybe_cast_slice_bound',\n",
              " '_maybe_promote',\n",
              " '_mpl_repr',\n",
              " '_na_value',\n",
              " '_name',\n",
              " '_nan_idxs',\n",
              " '_no_setting_name',\n",
              " '_outer_indexer',\n",
              " '_reduce',\n",
              " '_reindex_non_unique',\n",
              " '_reset_cache',\n",
              " '_reset_identity',\n",
              " '_scalar_data_error',\n",
              " '_searchsorted_monotonic',\n",
              " '_set_names',\n",
              " '_shallow_copy',\n",
              " '_should_fallback_to_positional',\n",
              " '_simple_new',\n",
              " '_sort_levels_monotonic',\n",
              " '_string_data_error',\n",
              " '_summary',\n",
              " '_supports_partial_string_indexing',\n",
              " '_to_safe_for_reshape',\n",
              " '_transform_index',\n",
              " '_typ',\n",
              " '_union',\n",
              " '_union_incompatible_dtypes',\n",
              " '_validate_index_level',\n",
              " '_validate_indexer',\n",
              " '_validate_names',\n",
              " '_validate_positional_slice',\n",
              " '_validate_sort_keyword',\n",
              " '_values',\n",
              " '_wrap_joined_index',\n",
              " '_wrap_setop_result',\n",
              " 'all',\n",
              " 'any',\n",
              " 'append',\n",
              " 'argmax',\n",
              " 'argmin',\n",
              " 'argsort',\n",
              " 'array',\n",
              " 'asi8',\n",
              " 'asof',\n",
              " 'asof_locs',\n",
              " 'astype',\n",
              " 'copy',\n",
              " 'delete',\n",
              " 'difference',\n",
              " 'drop',\n",
              " 'drop_duplicates',\n",
              " 'droplevel',\n",
              " 'dropna',\n",
              " 'dtype',\n",
              " 'duplicated',\n",
              " 'empty',\n",
              " 'equals',\n",
              " 'factorize',\n",
              " 'fillna',\n",
              " 'format',\n",
              " 'get_indexer',\n",
              " 'get_indexer_for',\n",
              " 'get_indexer_non_unique',\n",
              " 'get_level_values',\n",
              " 'get_loc',\n",
              " 'get_slice_bound',\n",
              " 'get_value',\n",
              " 'groupby',\n",
              " 'has_duplicates',\n",
              " 'hasnans',\n",
              " 'holds_integer',\n",
              " 'identical',\n",
              " 'inferred_type',\n",
              " 'insert',\n",
              " 'intersection',\n",
              " 'is_',\n",
              " 'is_all_dates',\n",
              " 'is_boolean',\n",
              " 'is_categorical',\n",
              " 'is_floating',\n",
              " 'is_integer',\n",
              " 'is_interval',\n",
              " 'is_mixed',\n",
              " 'is_monotonic',\n",
              " 'is_monotonic_decreasing',\n",
              " 'is_monotonic_increasing',\n",
              " 'is_numeric',\n",
              " 'is_object',\n",
              " 'is_type_compatible',\n",
              " 'is_unique',\n",
              " 'isin',\n",
              " 'isna',\n",
              " 'isnull',\n",
              " 'item',\n",
              " 'join',\n",
              " 'map',\n",
              " 'max',\n",
              " 'memory_usage',\n",
              " 'min',\n",
              " 'name',\n",
              " 'names',\n",
              " 'nbytes',\n",
              " 'ndim',\n",
              " 'nlevels',\n",
              " 'notna',\n",
              " 'notnull',\n",
              " 'nunique',\n",
              " 'putmask',\n",
              " 'ravel',\n",
              " 'reindex',\n",
              " 'rename',\n",
              " 'repeat',\n",
              " 'searchsorted',\n",
              " 'set_names',\n",
              " 'shape',\n",
              " 'shift',\n",
              " 'size',\n",
              " 'slice_indexer',\n",
              " 'slice_locs',\n",
              " 'sort',\n",
              " 'sort_values',\n",
              " 'sortlevel',\n",
              " 'str',\n",
              " 'symmetric_difference',\n",
              " 'take',\n",
              " 'to_flat_index',\n",
              " 'to_frame',\n",
              " 'to_list',\n",
              " 'to_native_types',\n",
              " 'to_numpy',\n",
              " 'to_series',\n",
              " 'transpose',\n",
              " 'union',\n",
              " 'unique',\n",
              " 'value_counts',\n",
              " 'values',\n",
              " 'view',\n",
              " 'where']"
            ]
          },
          "metadata": {
            "tags": []
          },
          "execution_count": 17
        }
      ]
    },
    {
      "cell_type": "code",
      "metadata": {
        "colab": {
          "base_uri": "https://localhost:8080/"
        },
        "id": "9gD4FAJ5Fljy",
        "outputId": "f008783e-5872-432a-88f1-e382220d96be"
      },
      "source": [
        "df.columns[2:].to_list()"
      ],
      "execution_count": 10,
      "outputs": [
        {
          "output_type": "execute_result",
          "data": {
            "text/plain": [
              "['Matematica', 'Historia']"
            ]
          },
          "metadata": {
            "tags": []
          },
          "execution_count": 10
        }
      ]
    },
    {
      "cell_type": "code",
      "metadata": {
        "colab": {
          "base_uri": "https://localhost:8080/"
        },
        "id": "d8d9RxrDFtt2",
        "outputId": "f6fd0549-d4eb-4e2e-c3d4-5048de94bf58"
      },
      "source": [
        "df.columns[2:].to_numpy() #converte para numpy"
      ],
      "execution_count": 11,
      "outputs": [
        {
          "output_type": "execute_result",
          "data": {
            "text/plain": [
              "array(['Matematica', 'Historia'], dtype=object)"
            ]
          },
          "metadata": {
            "tags": []
          },
          "execution_count": 11
        }
      ]
    },
    {
      "cell_type": "code",
      "metadata": {
        "colab": {
          "base_uri": "https://localhost:8080/"
        },
        "id": "irbFj39YGMc7",
        "outputId": "0aa4b568-5d7e-44eb-8be2-3355974531c2"
      },
      "source": [
        "type(df.columns)"
      ],
      "execution_count": 12,
      "outputs": [
        {
          "output_type": "execute_result",
          "data": {
            "text/plain": [
              "pandas.core.indexes.base.Index"
            ]
          },
          "metadata": {
            "tags": []
          },
          "execution_count": 12
        }
      ]
    },
    {
      "cell_type": "code",
      "metadata": {
        "id": "kSJ9S9akIELQ"
      },
      "source": [
        "provas = df.columns[2:].to_numpy() "
      ],
      "execution_count": 14,
      "outputs": []
    },
    {
      "cell_type": "code",
      "metadata": {
        "colab": {
          "base_uri": "https://localhost:8080/"
        },
        "id": "cPkGSTPaIeyB",
        "outputId": "eebd612b-cdad-4c3e-ff13-9e298d0e7fdc"
      },
      "source": [
        "df[provas].mean()#media colunas"
      ],
      "execution_count": 15,
      "outputs": [
        {
          "output_type": "execute_result",
          "data": {
            "text/plain": [
              "Matematica    7.0\n",
              "Historia      7.6\n",
              "dtype: float64"
            ]
          },
          "metadata": {
            "tags": []
          },
          "execution_count": 15
        }
      ]
    },
    {
      "cell_type": "code",
      "metadata": {
        "colab": {
          "base_uri": "https://localhost:8080/"
        },
        "id": "_q_b1hxfIgaA",
        "outputId": "08442bb0-3df7-4d9d-a14e-0f1ca56376aa"
      },
      "source": [
        "df[provas].mean(axis = 1)#media das linhas"
      ],
      "execution_count": 16,
      "outputs": [
        {
          "output_type": "execute_result",
          "data": {
            "text/plain": [
              "0    6.0\n",
              "1    7.5\n",
              "2    8.0\n",
              "3    7.5\n",
              "4    7.5\n",
              "dtype: float64"
            ]
          },
          "metadata": {
            "tags": []
          },
          "execution_count": 16
        }
      ]
    },
    {
      "cell_type": "code",
      "metadata": {
        "id": "1hKRj2y1Izbu"
      },
      "source": [
        "df['Media'] = df[provas].mean(axis = 1)#media das linhas"
      ],
      "execution_count": 17,
      "outputs": []
    },
    {
      "cell_type": "code",
      "metadata": {
        "id": "PlNDzjUxKkPN"
      },
      "source": [
        "def classifica_aluno(media):\n",
        "  if media<7:\n",
        "      return 'Reprovado'\n",
        "  else:\n",
        "    return 'Aprovado'"
      ],
      "execution_count": 18,
      "outputs": []
    },
    {
      "cell_type": "code",
      "metadata": {
        "id": "IEOMza54TSPe"
      },
      "source": [
        "df['Resultado_Final'] = df['Media'].apply(classifica_aluno)"
      ],
      "execution_count": 19,
      "outputs": []
    },
    {
      "cell_type": "code",
      "metadata": {
        "colab": {
          "base_uri": "https://localhost:8080/",
          "height": 363
        },
        "id": "fjvVxkRhThkr",
        "outputId": "d63d7e3a-c0f0-4e52-e6da-7a1ea5bfb906"
      },
      "source": [
        "df"
      ],
      "execution_count": 21,
      "outputs": [
        {
          "output_type": "execute_result",
          "data": {
            "text/html": [
              "<div>\n",
              "<style scoped>\n",
              "    .dataframe tbody tr th:only-of-type {\n",
              "        vertical-align: middle;\n",
              "    }\n",
              "\n",
              "    .dataframe tbody tr th {\n",
              "        vertical-align: top;\n",
              "    }\n",
              "\n",
              "    .dataframe thead th {\n",
              "        text-align: right;\n",
              "    }\n",
              "</style>\n",
              "<table border=\"1\" class=\"dataframe\">\n",
              "  <thead>\n",
              "    <tr style=\"text-align: right;\">\n",
              "      <th></th>\n",
              "      <th>A</th>\n",
              "      <th>B</th>\n",
              "      <th>C</th>\n",
              "      <th>D</th>\n",
              "      <th>E</th>\n",
              "      <th>F</th>\n",
              "      <th>Média</th>\n",
              "    </tr>\n",
              "  </thead>\n",
              "  <tbody>\n",
              "    <tr>\n",
              "      <th>8</th>\n",
              "      <td>1438</td>\n",
              "      <td>8</td>\n",
              "      <td>54</td>\n",
              "      <td>87</td>\n",
              "      <td>4</td>\n",
              "      <td>4913</td>\n",
              "      <td>500.000000</td>\n",
              "    </tr>\n",
              "    <tr>\n",
              "      <th>9</th>\n",
              "      <td>1423</td>\n",
              "      <td>9</td>\n",
              "      <td>27</td>\n",
              "      <td>93</td>\n",
              "      <td>7</td>\n",
              "      <td>6859</td>\n",
              "      <td>486.333333</td>\n",
              "    </tr>\n",
              "    <tr>\n",
              "      <th>0</th>\n",
              "      <td>1337</td>\n",
              "      <td>0</td>\n",
              "      <td>1</td>\n",
              "      <td>60</td>\n",
              "      <td>17</td>\n",
              "      <td>1</td>\n",
              "      <td>446.000000</td>\n",
              "    </tr>\n",
              "    <tr>\n",
              "      <th>3</th>\n",
              "      <td>1261</td>\n",
              "      <td>3</td>\n",
              "      <td>3</td>\n",
              "      <td>85</td>\n",
              "      <td>13</td>\n",
              "      <td>343</td>\n",
              "      <td>422.333333</td>\n",
              "    </tr>\n",
              "    <tr>\n",
              "      <th>4</th>\n",
              "      <td>1112</td>\n",
              "      <td>4</td>\n",
              "      <td>11</td>\n",
              "      <td>91</td>\n",
              "      <td>4</td>\n",
              "      <td>729</td>\n",
              "      <td>375.666667</td>\n",
              "    </tr>\n",
              "    <tr>\n",
              "      <th>1</th>\n",
              "      <td>1100</td>\n",
              "      <td>1</td>\n",
              "      <td>7</td>\n",
              "      <td>87</td>\n",
              "      <td>19</td>\n",
              "      <td>27</td>\n",
              "      <td>369.333333</td>\n",
              "    </tr>\n",
              "    <tr>\n",
              "      <th>6</th>\n",
              "      <td>1055</td>\n",
              "      <td>6</td>\n",
              "      <td>10</td>\n",
              "      <td>65</td>\n",
              "      <td>20</td>\n",
              "      <td>2197</td>\n",
              "      <td>357.000000</td>\n",
              "    </tr>\n",
              "    <tr>\n",
              "      <th>2</th>\n",
              "      <td>813</td>\n",
              "      <td>2</td>\n",
              "      <td>2</td>\n",
              "      <td>76</td>\n",
              "      <td>20</td>\n",
              "      <td>125</td>\n",
              "      <td>272.333333</td>\n",
              "    </tr>\n",
              "    <tr>\n",
              "      <th>5</th>\n",
              "      <td>642</td>\n",
              "      <td>5</td>\n",
              "      <td>91</td>\n",
              "      <td>82</td>\n",
              "      <td>11</td>\n",
              "      <td>1331</td>\n",
              "      <td>246.000000</td>\n",
              "    </tr>\n",
              "    <tr>\n",
              "      <th>7</th>\n",
              "      <td>675</td>\n",
              "      <td>7</td>\n",
              "      <td>8</td>\n",
              "      <td>82</td>\n",
              "      <td>33</td>\n",
              "      <td>3375</td>\n",
              "      <td>230.000000</td>\n",
              "    </tr>\n",
              "  </tbody>\n",
              "</table>\n",
              "</div>"
            ],
            "text/plain": [
              "      A  B   C   D   E     F       Média\n",
              "8  1438  8  54  87   4  4913  500.000000\n",
              "9  1423  9  27  93   7  6859  486.333333\n",
              "0  1337  0   1  60  17     1  446.000000\n",
              "3  1261  3   3  85  13   343  422.333333\n",
              "4  1112  4  11  91   4   729  375.666667\n",
              "1  1100  1   7  87  19    27  369.333333\n",
              "6  1055  6  10  65  20  2197  357.000000\n",
              "2   813  2   2  76  20   125  272.333333\n",
              "5   642  5  91  82  11  1331  246.000000\n",
              "7   675  7   8  82  33  3375  230.000000"
            ]
          },
          "metadata": {
            "tags": []
          },
          "execution_count": 21
        }
      ]
    },
    {
      "cell_type": "code",
      "metadata": {
        "id": "xtpBMvL9TvDv"
      },
      "source": [
        "df['target'] = df['Resultado_Final'].map({'Reprovado':0,'Aprovado':1})#Map categoricas em quantitativas"
      ],
      "execution_count": 38,
      "outputs": []
    },
    {
      "cell_type": "code",
      "metadata": {
        "id": "N7IqvnW2Uazi"
      },
      "source": [
        "df['Resultado_Status'] = df['Resultado_Final'].map({'Reprovado':0, 'Aprovado':1})"
      ],
      "execution_count": 39,
      "outputs": []
    },
    {
      "cell_type": "code",
      "metadata": {
        "colab": {
          "base_uri": "https://localhost:8080/",
          "height": 363
        },
        "id": "JtkMRxn5Vjol",
        "outputId": "2a56a916-23fb-4117-d30b-9cb39c74e6f5"
      },
      "source": [
        "df"
      ],
      "execution_count": 22,
      "outputs": [
        {
          "output_type": "execute_result",
          "data": {
            "text/html": [
              "<div>\n",
              "<style scoped>\n",
              "    .dataframe tbody tr th:only-of-type {\n",
              "        vertical-align: middle;\n",
              "    }\n",
              "\n",
              "    .dataframe tbody tr th {\n",
              "        vertical-align: top;\n",
              "    }\n",
              "\n",
              "    .dataframe thead th {\n",
              "        text-align: right;\n",
              "    }\n",
              "</style>\n",
              "<table border=\"1\" class=\"dataframe\">\n",
              "  <thead>\n",
              "    <tr style=\"text-align: right;\">\n",
              "      <th></th>\n",
              "      <th>A</th>\n",
              "      <th>B</th>\n",
              "      <th>C</th>\n",
              "      <th>D</th>\n",
              "      <th>E</th>\n",
              "      <th>F</th>\n",
              "      <th>Média</th>\n",
              "    </tr>\n",
              "  </thead>\n",
              "  <tbody>\n",
              "    <tr>\n",
              "      <th>8</th>\n",
              "      <td>1438</td>\n",
              "      <td>8</td>\n",
              "      <td>54</td>\n",
              "      <td>87</td>\n",
              "      <td>4</td>\n",
              "      <td>4913</td>\n",
              "      <td>500.000000</td>\n",
              "    </tr>\n",
              "    <tr>\n",
              "      <th>9</th>\n",
              "      <td>1423</td>\n",
              "      <td>9</td>\n",
              "      <td>27</td>\n",
              "      <td>93</td>\n",
              "      <td>7</td>\n",
              "      <td>6859</td>\n",
              "      <td>486.333333</td>\n",
              "    </tr>\n",
              "    <tr>\n",
              "      <th>0</th>\n",
              "      <td>1337</td>\n",
              "      <td>0</td>\n",
              "      <td>1</td>\n",
              "      <td>60</td>\n",
              "      <td>17</td>\n",
              "      <td>1</td>\n",
              "      <td>446.000000</td>\n",
              "    </tr>\n",
              "    <tr>\n",
              "      <th>3</th>\n",
              "      <td>1261</td>\n",
              "      <td>3</td>\n",
              "      <td>3</td>\n",
              "      <td>85</td>\n",
              "      <td>13</td>\n",
              "      <td>343</td>\n",
              "      <td>422.333333</td>\n",
              "    </tr>\n",
              "    <tr>\n",
              "      <th>4</th>\n",
              "      <td>1112</td>\n",
              "      <td>4</td>\n",
              "      <td>11</td>\n",
              "      <td>91</td>\n",
              "      <td>4</td>\n",
              "      <td>729</td>\n",
              "      <td>375.666667</td>\n",
              "    </tr>\n",
              "    <tr>\n",
              "      <th>1</th>\n",
              "      <td>1100</td>\n",
              "      <td>1</td>\n",
              "      <td>7</td>\n",
              "      <td>87</td>\n",
              "      <td>19</td>\n",
              "      <td>27</td>\n",
              "      <td>369.333333</td>\n",
              "    </tr>\n",
              "    <tr>\n",
              "      <th>6</th>\n",
              "      <td>1055</td>\n",
              "      <td>6</td>\n",
              "      <td>10</td>\n",
              "      <td>65</td>\n",
              "      <td>20</td>\n",
              "      <td>2197</td>\n",
              "      <td>357.000000</td>\n",
              "    </tr>\n",
              "    <tr>\n",
              "      <th>2</th>\n",
              "      <td>813</td>\n",
              "      <td>2</td>\n",
              "      <td>2</td>\n",
              "      <td>76</td>\n",
              "      <td>20</td>\n",
              "      <td>125</td>\n",
              "      <td>272.333333</td>\n",
              "    </tr>\n",
              "    <tr>\n",
              "      <th>5</th>\n",
              "      <td>642</td>\n",
              "      <td>5</td>\n",
              "      <td>91</td>\n",
              "      <td>82</td>\n",
              "      <td>11</td>\n",
              "      <td>1331</td>\n",
              "      <td>246.000000</td>\n",
              "    </tr>\n",
              "    <tr>\n",
              "      <th>7</th>\n",
              "      <td>675</td>\n",
              "      <td>7</td>\n",
              "      <td>8</td>\n",
              "      <td>82</td>\n",
              "      <td>33</td>\n",
              "      <td>3375</td>\n",
              "      <td>230.000000</td>\n",
              "    </tr>\n",
              "  </tbody>\n",
              "</table>\n",
              "</div>"
            ],
            "text/plain": [
              "      A  B   C   D   E     F       Média\n",
              "8  1438  8  54  87   4  4913  500.000000\n",
              "9  1423  9  27  93   7  6859  486.333333\n",
              "0  1337  0   1  60  17     1  446.000000\n",
              "3  1261  3   3  85  13   343  422.333333\n",
              "4  1112  4  11  91   4   729  375.666667\n",
              "1  1100  1   7  87  19    27  369.333333\n",
              "6  1055  6  10  65  20  2197  357.000000\n",
              "2   813  2   2  76  20   125  272.333333\n",
              "5   642  5  91  82  11  1331  246.000000\n",
              "7   675  7   8  82  33  3375  230.000000"
            ]
          },
          "metadata": {
            "tags": []
          },
          "execution_count": 22
        }
      ]
    },
    {
      "cell_type": "code",
      "metadata": {
        "colab": {
          "base_uri": "https://localhost:8080/",
          "height": 347
        },
        "id": "KFhJdMAiVnbb",
        "outputId": "6d7c5eed-8cc4-47c3-9be9-9bd9253b0fa5"
      },
      "source": [
        "\n",
        "df.sort_values(by = ['Media'])"
      ],
      "execution_count": 13,
      "outputs": [
        {
          "output_type": "error",
          "ename": "KeyError",
          "evalue": "ignored",
          "traceback": [
            "\u001b[0;31m---------------------------------------------------------------------------\u001b[0m",
            "\u001b[0;31mKeyError\u001b[0m                                  Traceback (most recent call last)",
            "\u001b[0;32m<ipython-input-13-f26178fe3294>\u001b[0m in \u001b[0;36m<module>\u001b[0;34m()\u001b[0m\n\u001b[1;32m      1\u001b[0m \u001b[0;34m\u001b[0m\u001b[0m\n\u001b[0;32m----> 2\u001b[0;31m \u001b[0mdf\u001b[0m\u001b[0;34m.\u001b[0m\u001b[0msort_values\u001b[0m\u001b[0;34m(\u001b[0m\u001b[0mby\u001b[0m \u001b[0;34m=\u001b[0m \u001b[0;34m[\u001b[0m\u001b[0;34m'Media'\u001b[0m\u001b[0;34m]\u001b[0m\u001b[0;34m)\u001b[0m\u001b[0;34m\u001b[0m\u001b[0;34m\u001b[0m\u001b[0m\n\u001b[0m",
            "\u001b[0;32m/usr/local/lib/python3.7/dist-packages/pandas/core/frame.py\u001b[0m in \u001b[0;36msort_values\u001b[0;34m(self, by, axis, ascending, inplace, kind, na_position, ignore_index, key)\u001b[0m\n\u001b[1;32m   5296\u001b[0m \u001b[0;34m\u001b[0m\u001b[0m\n\u001b[1;32m   5297\u001b[0m             \u001b[0mby\u001b[0m \u001b[0;34m=\u001b[0m \u001b[0mby\u001b[0m\u001b[0;34m[\u001b[0m\u001b[0;36m0\u001b[0m\u001b[0;34m]\u001b[0m\u001b[0;34m\u001b[0m\u001b[0;34m\u001b[0m\u001b[0m\n\u001b[0;32m-> 5298\u001b[0;31m             \u001b[0mk\u001b[0m \u001b[0;34m=\u001b[0m \u001b[0mself\u001b[0m\u001b[0;34m.\u001b[0m\u001b[0m_get_label_or_level_values\u001b[0m\u001b[0;34m(\u001b[0m\u001b[0mby\u001b[0m\u001b[0;34m,\u001b[0m \u001b[0maxis\u001b[0m\u001b[0;34m=\u001b[0m\u001b[0maxis\u001b[0m\u001b[0;34m)\u001b[0m\u001b[0;34m\u001b[0m\u001b[0;34m\u001b[0m\u001b[0m\n\u001b[0m\u001b[1;32m   5299\u001b[0m \u001b[0;34m\u001b[0m\u001b[0m\n\u001b[1;32m   5300\u001b[0m             \u001b[0;31m# need to rewrap column in Series to apply key function\u001b[0m\u001b[0;34m\u001b[0m\u001b[0;34m\u001b[0m\u001b[0;34m\u001b[0m\u001b[0m\n",
            "\u001b[0;32m/usr/local/lib/python3.7/dist-packages/pandas/core/generic.py\u001b[0m in \u001b[0;36m_get_label_or_level_values\u001b[0;34m(self, key, axis)\u001b[0m\n\u001b[1;32m   1561\u001b[0m             \u001b[0mvalues\u001b[0m \u001b[0;34m=\u001b[0m \u001b[0mself\u001b[0m\u001b[0;34m.\u001b[0m\u001b[0maxes\u001b[0m\u001b[0;34m[\u001b[0m\u001b[0maxis\u001b[0m\u001b[0;34m]\u001b[0m\u001b[0;34m.\u001b[0m\u001b[0mget_level_values\u001b[0m\u001b[0;34m(\u001b[0m\u001b[0mkey\u001b[0m\u001b[0;34m)\u001b[0m\u001b[0;34m.\u001b[0m\u001b[0m_values\u001b[0m\u001b[0;34m\u001b[0m\u001b[0;34m\u001b[0m\u001b[0m\n\u001b[1;32m   1562\u001b[0m         \u001b[0;32melse\u001b[0m\u001b[0;34m:\u001b[0m\u001b[0;34m\u001b[0m\u001b[0;34m\u001b[0m\u001b[0m\n\u001b[0;32m-> 1563\u001b[0;31m             \u001b[0;32mraise\u001b[0m \u001b[0mKeyError\u001b[0m\u001b[0;34m(\u001b[0m\u001b[0mkey\u001b[0m\u001b[0;34m)\u001b[0m\u001b[0;34m\u001b[0m\u001b[0;34m\u001b[0m\u001b[0m\n\u001b[0m\u001b[1;32m   1564\u001b[0m \u001b[0;34m\u001b[0m\u001b[0m\n\u001b[1;32m   1565\u001b[0m         \u001b[0;31m# Check for duplicates\u001b[0m\u001b[0;34m\u001b[0m\u001b[0;34m\u001b[0m\u001b[0;34m\u001b[0m\u001b[0m\n",
            "\u001b[0;31mKeyError\u001b[0m: 'Media'"
          ]
        }
      ]
    },
    {
      "cell_type": "code",
      "metadata": {
        "colab": {
          "base_uri": "https://localhost:8080/",
          "height": 363
        },
        "id": "Zu_Ul99F3Z5D",
        "outputId": "28883a5c-8abb-4e2b-e475-9f830bfeefb3"
      },
      "source": [
        "df"
      ],
      "execution_count": 8,
      "outputs": [
        {
          "output_type": "execute_result",
          "data": {
            "text/html": [
              "<div>\n",
              "<style scoped>\n",
              "    .dataframe tbody tr th:only-of-type {\n",
              "        vertical-align: middle;\n",
              "    }\n",
              "\n",
              "    .dataframe tbody tr th {\n",
              "        vertical-align: top;\n",
              "    }\n",
              "\n",
              "    .dataframe thead th {\n",
              "        text-align: right;\n",
              "    }\n",
              "</style>\n",
              "<table border=\"1\" class=\"dataframe\">\n",
              "  <thead>\n",
              "    <tr style=\"text-align: right;\">\n",
              "      <th></th>\n",
              "      <th>A</th>\n",
              "      <th>B</th>\n",
              "      <th>C</th>\n",
              "      <th>D</th>\n",
              "      <th>E</th>\n",
              "      <th>F</th>\n",
              "      <th>Média</th>\n",
              "    </tr>\n",
              "  </thead>\n",
              "  <tbody>\n",
              "    <tr>\n",
              "      <th>0</th>\n",
              "      <td>1337</td>\n",
              "      <td>0</td>\n",
              "      <td>1</td>\n",
              "      <td>60</td>\n",
              "      <td>17</td>\n",
              "      <td>1</td>\n",
              "      <td>446.000000</td>\n",
              "    </tr>\n",
              "    <tr>\n",
              "      <th>1</th>\n",
              "      <td>1100</td>\n",
              "      <td>1</td>\n",
              "      <td>7</td>\n",
              "      <td>87</td>\n",
              "      <td>19</td>\n",
              "      <td>27</td>\n",
              "      <td>369.333333</td>\n",
              "    </tr>\n",
              "    <tr>\n",
              "      <th>2</th>\n",
              "      <td>813</td>\n",
              "      <td>2</td>\n",
              "      <td>2</td>\n",
              "      <td>76</td>\n",
              "      <td>20</td>\n",
              "      <td>125</td>\n",
              "      <td>272.333333</td>\n",
              "    </tr>\n",
              "    <tr>\n",
              "      <th>3</th>\n",
              "      <td>1261</td>\n",
              "      <td>3</td>\n",
              "      <td>3</td>\n",
              "      <td>85</td>\n",
              "      <td>13</td>\n",
              "      <td>343</td>\n",
              "      <td>422.333333</td>\n",
              "    </tr>\n",
              "    <tr>\n",
              "      <th>4</th>\n",
              "      <td>1112</td>\n",
              "      <td>4</td>\n",
              "      <td>11</td>\n",
              "      <td>91</td>\n",
              "      <td>4</td>\n",
              "      <td>729</td>\n",
              "      <td>375.666667</td>\n",
              "    </tr>\n",
              "    <tr>\n",
              "      <th>5</th>\n",
              "      <td>642</td>\n",
              "      <td>5</td>\n",
              "      <td>91</td>\n",
              "      <td>82</td>\n",
              "      <td>11</td>\n",
              "      <td>1331</td>\n",
              "      <td>246.000000</td>\n",
              "    </tr>\n",
              "    <tr>\n",
              "      <th>6</th>\n",
              "      <td>1055</td>\n",
              "      <td>6</td>\n",
              "      <td>10</td>\n",
              "      <td>65</td>\n",
              "      <td>20</td>\n",
              "      <td>2197</td>\n",
              "      <td>357.000000</td>\n",
              "    </tr>\n",
              "    <tr>\n",
              "      <th>7</th>\n",
              "      <td>675</td>\n",
              "      <td>7</td>\n",
              "      <td>8</td>\n",
              "      <td>82</td>\n",
              "      <td>33</td>\n",
              "      <td>3375</td>\n",
              "      <td>230.000000</td>\n",
              "    </tr>\n",
              "    <tr>\n",
              "      <th>8</th>\n",
              "      <td>1438</td>\n",
              "      <td>8</td>\n",
              "      <td>54</td>\n",
              "      <td>87</td>\n",
              "      <td>4</td>\n",
              "      <td>4913</td>\n",
              "      <td>500.000000</td>\n",
              "    </tr>\n",
              "    <tr>\n",
              "      <th>9</th>\n",
              "      <td>1423</td>\n",
              "      <td>9</td>\n",
              "      <td>27</td>\n",
              "      <td>93</td>\n",
              "      <td>7</td>\n",
              "      <td>6859</td>\n",
              "      <td>486.333333</td>\n",
              "    </tr>\n",
              "  </tbody>\n",
              "</table>\n",
              "</div>"
            ],
            "text/plain": [
              "      A  B   C   D   E     F       Média\n",
              "0  1337  0   1  60  17     1  446.000000\n",
              "1  1100  1   7  87  19    27  369.333333\n",
              "2   813  2   2  76  20   125  272.333333\n",
              "3  1261  3   3  85  13   343  422.333333\n",
              "4  1112  4  11  91   4   729  375.666667\n",
              "5   642  5  91  82  11  1331  246.000000\n",
              "6  1055  6  10  65  20  2197  357.000000\n",
              "7   675  7   8  82  33  3375  230.000000\n",
              "8  1438  8  54  87   4  4913  500.000000\n",
              "9  1423  9  27  93   7  6859  486.333333"
            ]
          },
          "metadata": {
            "tags": []
          },
          "execution_count": 8
        }
      ]
    },
    {
      "cell_type": "code",
      "metadata": {
        "colab": {
          "base_uri": "https://localhost:8080/",
          "height": 363
        },
        "id": "SMa7f98V4rsz",
        "outputId": "a506fd45-c87c-4cbd-b9f1-31cc7b2847dd"
      },
      "source": [
        "df.sort_values(by = ['Média'])"
      ],
      "execution_count": 9,
      "outputs": [
        {
          "output_type": "execute_result",
          "data": {
            "text/html": [
              "<div>\n",
              "<style scoped>\n",
              "    .dataframe tbody tr th:only-of-type {\n",
              "        vertical-align: middle;\n",
              "    }\n",
              "\n",
              "    .dataframe tbody tr th {\n",
              "        vertical-align: top;\n",
              "    }\n",
              "\n",
              "    .dataframe thead th {\n",
              "        text-align: right;\n",
              "    }\n",
              "</style>\n",
              "<table border=\"1\" class=\"dataframe\">\n",
              "  <thead>\n",
              "    <tr style=\"text-align: right;\">\n",
              "      <th></th>\n",
              "      <th>A</th>\n",
              "      <th>B</th>\n",
              "      <th>C</th>\n",
              "      <th>D</th>\n",
              "      <th>E</th>\n",
              "      <th>F</th>\n",
              "      <th>Média</th>\n",
              "    </tr>\n",
              "  </thead>\n",
              "  <tbody>\n",
              "    <tr>\n",
              "      <th>7</th>\n",
              "      <td>675</td>\n",
              "      <td>7</td>\n",
              "      <td>8</td>\n",
              "      <td>82</td>\n",
              "      <td>33</td>\n",
              "      <td>3375</td>\n",
              "      <td>230.000000</td>\n",
              "    </tr>\n",
              "    <tr>\n",
              "      <th>5</th>\n",
              "      <td>642</td>\n",
              "      <td>5</td>\n",
              "      <td>91</td>\n",
              "      <td>82</td>\n",
              "      <td>11</td>\n",
              "      <td>1331</td>\n",
              "      <td>246.000000</td>\n",
              "    </tr>\n",
              "    <tr>\n",
              "      <th>2</th>\n",
              "      <td>813</td>\n",
              "      <td>2</td>\n",
              "      <td>2</td>\n",
              "      <td>76</td>\n",
              "      <td>20</td>\n",
              "      <td>125</td>\n",
              "      <td>272.333333</td>\n",
              "    </tr>\n",
              "    <tr>\n",
              "      <th>6</th>\n",
              "      <td>1055</td>\n",
              "      <td>6</td>\n",
              "      <td>10</td>\n",
              "      <td>65</td>\n",
              "      <td>20</td>\n",
              "      <td>2197</td>\n",
              "      <td>357.000000</td>\n",
              "    </tr>\n",
              "    <tr>\n",
              "      <th>1</th>\n",
              "      <td>1100</td>\n",
              "      <td>1</td>\n",
              "      <td>7</td>\n",
              "      <td>87</td>\n",
              "      <td>19</td>\n",
              "      <td>27</td>\n",
              "      <td>369.333333</td>\n",
              "    </tr>\n",
              "    <tr>\n",
              "      <th>4</th>\n",
              "      <td>1112</td>\n",
              "      <td>4</td>\n",
              "      <td>11</td>\n",
              "      <td>91</td>\n",
              "      <td>4</td>\n",
              "      <td>729</td>\n",
              "      <td>375.666667</td>\n",
              "    </tr>\n",
              "    <tr>\n",
              "      <th>3</th>\n",
              "      <td>1261</td>\n",
              "      <td>3</td>\n",
              "      <td>3</td>\n",
              "      <td>85</td>\n",
              "      <td>13</td>\n",
              "      <td>343</td>\n",
              "      <td>422.333333</td>\n",
              "    </tr>\n",
              "    <tr>\n",
              "      <th>0</th>\n",
              "      <td>1337</td>\n",
              "      <td>0</td>\n",
              "      <td>1</td>\n",
              "      <td>60</td>\n",
              "      <td>17</td>\n",
              "      <td>1</td>\n",
              "      <td>446.000000</td>\n",
              "    </tr>\n",
              "    <tr>\n",
              "      <th>9</th>\n",
              "      <td>1423</td>\n",
              "      <td>9</td>\n",
              "      <td>27</td>\n",
              "      <td>93</td>\n",
              "      <td>7</td>\n",
              "      <td>6859</td>\n",
              "      <td>486.333333</td>\n",
              "    </tr>\n",
              "    <tr>\n",
              "      <th>8</th>\n",
              "      <td>1438</td>\n",
              "      <td>8</td>\n",
              "      <td>54</td>\n",
              "      <td>87</td>\n",
              "      <td>4</td>\n",
              "      <td>4913</td>\n",
              "      <td>500.000000</td>\n",
              "    </tr>\n",
              "  </tbody>\n",
              "</table>\n",
              "</div>"
            ],
            "text/plain": [
              "      A  B   C   D   E     F       Média\n",
              "7   675  7   8  82  33  3375  230.000000\n",
              "5   642  5  91  82  11  1331  246.000000\n",
              "2   813  2   2  76  20   125  272.333333\n",
              "6  1055  6  10  65  20  2197  357.000000\n",
              "1  1100  1   7  87  19    27  369.333333\n",
              "4  1112  4  11  91   4   729  375.666667\n",
              "3  1261  3   3  85  13   343  422.333333\n",
              "0  1337  0   1  60  17     1  446.000000\n",
              "9  1423  9  27  93   7  6859  486.333333\n",
              "8  1438  8  54  87   4  4913  500.000000"
            ]
          },
          "metadata": {
            "tags": []
          },
          "execution_count": 9
        }
      ]
    },
    {
      "cell_type": "code",
      "metadata": {
        "colab": {
          "base_uri": "https://localhost:8080/",
          "height": 363
        },
        "id": "6U29kUwl49ay",
        "outputId": "a47509c8-3d0f-42b8-d709-0d40d2f4e7f8"
      },
      "source": [
        "df.sort_values(by = ['Média'], ascending=False)"
      ],
      "execution_count": 10,
      "outputs": [
        {
          "output_type": "execute_result",
          "data": {
            "text/html": [
              "<div>\n",
              "<style scoped>\n",
              "    .dataframe tbody tr th:only-of-type {\n",
              "        vertical-align: middle;\n",
              "    }\n",
              "\n",
              "    .dataframe tbody tr th {\n",
              "        vertical-align: top;\n",
              "    }\n",
              "\n",
              "    .dataframe thead th {\n",
              "        text-align: right;\n",
              "    }\n",
              "</style>\n",
              "<table border=\"1\" class=\"dataframe\">\n",
              "  <thead>\n",
              "    <tr style=\"text-align: right;\">\n",
              "      <th></th>\n",
              "      <th>A</th>\n",
              "      <th>B</th>\n",
              "      <th>C</th>\n",
              "      <th>D</th>\n",
              "      <th>E</th>\n",
              "      <th>F</th>\n",
              "      <th>Média</th>\n",
              "    </tr>\n",
              "  </thead>\n",
              "  <tbody>\n",
              "    <tr>\n",
              "      <th>8</th>\n",
              "      <td>1438</td>\n",
              "      <td>8</td>\n",
              "      <td>54</td>\n",
              "      <td>87</td>\n",
              "      <td>4</td>\n",
              "      <td>4913</td>\n",
              "      <td>500.000000</td>\n",
              "    </tr>\n",
              "    <tr>\n",
              "      <th>9</th>\n",
              "      <td>1423</td>\n",
              "      <td>9</td>\n",
              "      <td>27</td>\n",
              "      <td>93</td>\n",
              "      <td>7</td>\n",
              "      <td>6859</td>\n",
              "      <td>486.333333</td>\n",
              "    </tr>\n",
              "    <tr>\n",
              "      <th>0</th>\n",
              "      <td>1337</td>\n",
              "      <td>0</td>\n",
              "      <td>1</td>\n",
              "      <td>60</td>\n",
              "      <td>17</td>\n",
              "      <td>1</td>\n",
              "      <td>446.000000</td>\n",
              "    </tr>\n",
              "    <tr>\n",
              "      <th>3</th>\n",
              "      <td>1261</td>\n",
              "      <td>3</td>\n",
              "      <td>3</td>\n",
              "      <td>85</td>\n",
              "      <td>13</td>\n",
              "      <td>343</td>\n",
              "      <td>422.333333</td>\n",
              "    </tr>\n",
              "    <tr>\n",
              "      <th>4</th>\n",
              "      <td>1112</td>\n",
              "      <td>4</td>\n",
              "      <td>11</td>\n",
              "      <td>91</td>\n",
              "      <td>4</td>\n",
              "      <td>729</td>\n",
              "      <td>375.666667</td>\n",
              "    </tr>\n",
              "    <tr>\n",
              "      <th>1</th>\n",
              "      <td>1100</td>\n",
              "      <td>1</td>\n",
              "      <td>7</td>\n",
              "      <td>87</td>\n",
              "      <td>19</td>\n",
              "      <td>27</td>\n",
              "      <td>369.333333</td>\n",
              "    </tr>\n",
              "    <tr>\n",
              "      <th>6</th>\n",
              "      <td>1055</td>\n",
              "      <td>6</td>\n",
              "      <td>10</td>\n",
              "      <td>65</td>\n",
              "      <td>20</td>\n",
              "      <td>2197</td>\n",
              "      <td>357.000000</td>\n",
              "    </tr>\n",
              "    <tr>\n",
              "      <th>2</th>\n",
              "      <td>813</td>\n",
              "      <td>2</td>\n",
              "      <td>2</td>\n",
              "      <td>76</td>\n",
              "      <td>20</td>\n",
              "      <td>125</td>\n",
              "      <td>272.333333</td>\n",
              "    </tr>\n",
              "    <tr>\n",
              "      <th>5</th>\n",
              "      <td>642</td>\n",
              "      <td>5</td>\n",
              "      <td>91</td>\n",
              "      <td>82</td>\n",
              "      <td>11</td>\n",
              "      <td>1331</td>\n",
              "      <td>246.000000</td>\n",
              "    </tr>\n",
              "    <tr>\n",
              "      <th>7</th>\n",
              "      <td>675</td>\n",
              "      <td>7</td>\n",
              "      <td>8</td>\n",
              "      <td>82</td>\n",
              "      <td>33</td>\n",
              "      <td>3375</td>\n",
              "      <td>230.000000</td>\n",
              "    </tr>\n",
              "  </tbody>\n",
              "</table>\n",
              "</div>"
            ],
            "text/plain": [
              "      A  B   C   D   E     F       Média\n",
              "8  1438  8  54  87   4  4913  500.000000\n",
              "9  1423  9  27  93   7  6859  486.333333\n",
              "0  1337  0   1  60  17     1  446.000000\n",
              "3  1261  3   3  85  13   343  422.333333\n",
              "4  1112  4  11  91   4   729  375.666667\n",
              "1  1100  1   7  87  19    27  369.333333\n",
              "6  1055  6  10  65  20  2197  357.000000\n",
              "2   813  2   2  76  20   125  272.333333\n",
              "5   642  5  91  82  11  1331  246.000000\n",
              "7   675  7   8  82  33  3375  230.000000"
            ]
          },
          "metadata": {
            "tags": []
          },
          "execution_count": 10
        }
      ]
    },
    {
      "cell_type": "code",
      "metadata": {
        "id": "mbV2hYRT5Acl"
      },
      "source": [
        "df.sort_values(by = ['Média'], ascending=False , inplace = True)"
      ],
      "execution_count": 12,
      "outputs": []
    },
    {
      "cell_type": "code",
      "metadata": {
        "colab": {
          "base_uri": "https://localhost:8080/",
          "height": 363
        },
        "id": "EuyaB_257Vqg",
        "outputId": "e0560dda-f79b-4baa-bf7b-6661a6556e76"
      },
      "source": [
        "df.sort_values(by = ['Média', 'A'], ascending=False)"
      ],
      "execution_count": 14,
      "outputs": [
        {
          "output_type": "execute_result",
          "data": {
            "text/html": [
              "<div>\n",
              "<style scoped>\n",
              "    .dataframe tbody tr th:only-of-type {\n",
              "        vertical-align: middle;\n",
              "    }\n",
              "\n",
              "    .dataframe tbody tr th {\n",
              "        vertical-align: top;\n",
              "    }\n",
              "\n",
              "    .dataframe thead th {\n",
              "        text-align: right;\n",
              "    }\n",
              "</style>\n",
              "<table border=\"1\" class=\"dataframe\">\n",
              "  <thead>\n",
              "    <tr style=\"text-align: right;\">\n",
              "      <th></th>\n",
              "      <th>A</th>\n",
              "      <th>B</th>\n",
              "      <th>C</th>\n",
              "      <th>D</th>\n",
              "      <th>E</th>\n",
              "      <th>F</th>\n",
              "      <th>Média</th>\n",
              "    </tr>\n",
              "  </thead>\n",
              "  <tbody>\n",
              "    <tr>\n",
              "      <th>8</th>\n",
              "      <td>1438</td>\n",
              "      <td>8</td>\n",
              "      <td>54</td>\n",
              "      <td>87</td>\n",
              "      <td>4</td>\n",
              "      <td>4913</td>\n",
              "      <td>500.000000</td>\n",
              "    </tr>\n",
              "    <tr>\n",
              "      <th>9</th>\n",
              "      <td>1423</td>\n",
              "      <td>9</td>\n",
              "      <td>27</td>\n",
              "      <td>93</td>\n",
              "      <td>7</td>\n",
              "      <td>6859</td>\n",
              "      <td>486.333333</td>\n",
              "    </tr>\n",
              "    <tr>\n",
              "      <th>0</th>\n",
              "      <td>1337</td>\n",
              "      <td>0</td>\n",
              "      <td>1</td>\n",
              "      <td>60</td>\n",
              "      <td>17</td>\n",
              "      <td>1</td>\n",
              "      <td>446.000000</td>\n",
              "    </tr>\n",
              "    <tr>\n",
              "      <th>3</th>\n",
              "      <td>1261</td>\n",
              "      <td>3</td>\n",
              "      <td>3</td>\n",
              "      <td>85</td>\n",
              "      <td>13</td>\n",
              "      <td>343</td>\n",
              "      <td>422.333333</td>\n",
              "    </tr>\n",
              "    <tr>\n",
              "      <th>4</th>\n",
              "      <td>1112</td>\n",
              "      <td>4</td>\n",
              "      <td>11</td>\n",
              "      <td>91</td>\n",
              "      <td>4</td>\n",
              "      <td>729</td>\n",
              "      <td>375.666667</td>\n",
              "    </tr>\n",
              "    <tr>\n",
              "      <th>1</th>\n",
              "      <td>1100</td>\n",
              "      <td>1</td>\n",
              "      <td>7</td>\n",
              "      <td>87</td>\n",
              "      <td>19</td>\n",
              "      <td>27</td>\n",
              "      <td>369.333333</td>\n",
              "    </tr>\n",
              "    <tr>\n",
              "      <th>6</th>\n",
              "      <td>1055</td>\n",
              "      <td>6</td>\n",
              "      <td>10</td>\n",
              "      <td>65</td>\n",
              "      <td>20</td>\n",
              "      <td>2197</td>\n",
              "      <td>357.000000</td>\n",
              "    </tr>\n",
              "    <tr>\n",
              "      <th>2</th>\n",
              "      <td>813</td>\n",
              "      <td>2</td>\n",
              "      <td>2</td>\n",
              "      <td>76</td>\n",
              "      <td>20</td>\n",
              "      <td>125</td>\n",
              "      <td>272.333333</td>\n",
              "    </tr>\n",
              "    <tr>\n",
              "      <th>5</th>\n",
              "      <td>642</td>\n",
              "      <td>5</td>\n",
              "      <td>91</td>\n",
              "      <td>82</td>\n",
              "      <td>11</td>\n",
              "      <td>1331</td>\n",
              "      <td>246.000000</td>\n",
              "    </tr>\n",
              "    <tr>\n",
              "      <th>7</th>\n",
              "      <td>675</td>\n",
              "      <td>7</td>\n",
              "      <td>8</td>\n",
              "      <td>82</td>\n",
              "      <td>33</td>\n",
              "      <td>3375</td>\n",
              "      <td>230.000000</td>\n",
              "    </tr>\n",
              "  </tbody>\n",
              "</table>\n",
              "</div>"
            ],
            "text/plain": [
              "      A  B   C   D   E     F       Média\n",
              "8  1438  8  54  87   4  4913  500.000000\n",
              "9  1423  9  27  93   7  6859  486.333333\n",
              "0  1337  0   1  60  17     1  446.000000\n",
              "3  1261  3   3  85  13   343  422.333333\n",
              "4  1112  4  11  91   4   729  375.666667\n",
              "1  1100  1   7  87  19    27  369.333333\n",
              "6  1055  6  10  65  20  2197  357.000000\n",
              "2   813  2   2  76  20   125  272.333333\n",
              "5   642  5  91  82  11  1331  246.000000\n",
              "7   675  7   8  82  33  3375  230.000000"
            ]
          },
          "metadata": {
            "tags": []
          },
          "execution_count": 14
        }
      ]
    },
    {
      "cell_type": "code",
      "metadata": {
        "id": "5ZjlEjBB7hg7"
      },
      "source": [
        "df.sort_values(by = ['Média'], ascending=False, inplace = True)"
      ],
      "execution_count": 15,
      "outputs": []
    },
    {
      "cell_type": "code",
      "metadata": {
        "colab": {
          "base_uri": "https://localhost:8080/",
          "height": 206
        },
        "id": "aXngpViH8C3k",
        "outputId": "fa6a11f9-d338-4841-9d61-47f5e034e9b4"
      },
      "source": [
        "df"
      ],
      "execution_count": 20,
      "outputs": [
        {
          "output_type": "execute_result",
          "data": {
            "text/html": [
              "<div>\n",
              "<style scoped>\n",
              "    .dataframe tbody tr th:only-of-type {\n",
              "        vertical-align: middle;\n",
              "    }\n",
              "\n",
              "    .dataframe tbody tr th {\n",
              "        vertical-align: top;\n",
              "    }\n",
              "\n",
              "    .dataframe thead th {\n",
              "        text-align: right;\n",
              "    }\n",
              "</style>\n",
              "<table border=\"1\" class=\"dataframe\">\n",
              "  <thead>\n",
              "    <tr style=\"text-align: right;\">\n",
              "      <th></th>\n",
              "      <th>Nome</th>\n",
              "      <th>Cidade</th>\n",
              "      <th>Matematica</th>\n",
              "      <th>Historia</th>\n",
              "      <th>Media</th>\n",
              "      <th>Resultado_Final</th>\n",
              "    </tr>\n",
              "  </thead>\n",
              "  <tbody>\n",
              "    <tr>\n",
              "      <th>0</th>\n",
              "      <td>Cristiane</td>\n",
              "      <td>Sergipe</td>\n",
              "      <td>7</td>\n",
              "      <td>5</td>\n",
              "      <td>6.0</td>\n",
              "      <td>Reprovado</td>\n",
              "    </tr>\n",
              "    <tr>\n",
              "      <th>1</th>\n",
              "      <td>Regiane</td>\n",
              "      <td>Recife</td>\n",
              "      <td>5</td>\n",
              "      <td>10</td>\n",
              "      <td>7.5</td>\n",
              "      <td>Aprovado</td>\n",
              "    </tr>\n",
              "    <tr>\n",
              "      <th>2</th>\n",
              "      <td>Diana</td>\n",
              "      <td>Mato Grosso</td>\n",
              "      <td>8</td>\n",
              "      <td>8</td>\n",
              "      <td>8.0</td>\n",
              "      <td>Aprovado</td>\n",
              "    </tr>\n",
              "    <tr>\n",
              "      <th>3</th>\n",
              "      <td>Mayumi</td>\n",
              "      <td>Rio Grande do Sul</td>\n",
              "      <td>9</td>\n",
              "      <td>6</td>\n",
              "      <td>7.5</td>\n",
              "      <td>Aprovado</td>\n",
              "    </tr>\n",
              "    <tr>\n",
              "      <th>4</th>\n",
              "      <td>Stefanni</td>\n",
              "      <td>Salvador</td>\n",
              "      <td>6</td>\n",
              "      <td>9</td>\n",
              "      <td>7.5</td>\n",
              "      <td>Aprovado</td>\n",
              "    </tr>\n",
              "  </tbody>\n",
              "</table>\n",
              "</div>"
            ],
            "text/plain": [
              "        Nome             Cidade  Matematica  Historia  Media Resultado_Final\n",
              "0  Cristiane            Sergipe           7         5    6.0       Reprovado\n",
              "1    Regiane             Recife           5        10    7.5        Aprovado\n",
              "2      Diana        Mato Grosso           8         8    8.0        Aprovado\n",
              "3     Mayumi  Rio Grande do Sul           9         6    7.5        Aprovado\n",
              "4   Stefanni           Salvador           6         9    7.5        Aprovado"
            ]
          },
          "metadata": {
            "tags": []
          },
          "execution_count": 20
        }
      ]
    },
    {
      "cell_type": "code",
      "metadata": {
        "colab": {
          "base_uri": "https://localhost:8080/",
          "height": 363
        },
        "id": "ooNOjMEF8FS_",
        "outputId": "a1e7acbf-405e-4742-9f37-4784463be37a"
      },
      "source": [
        "df.sort_index() #ordenar com base no index"
      ],
      "execution_count": 17,
      "outputs": [
        {
          "output_type": "execute_result",
          "data": {
            "text/html": [
              "<div>\n",
              "<style scoped>\n",
              "    .dataframe tbody tr th:only-of-type {\n",
              "        vertical-align: middle;\n",
              "    }\n",
              "\n",
              "    .dataframe tbody tr th {\n",
              "        vertical-align: top;\n",
              "    }\n",
              "\n",
              "    .dataframe thead th {\n",
              "        text-align: right;\n",
              "    }\n",
              "</style>\n",
              "<table border=\"1\" class=\"dataframe\">\n",
              "  <thead>\n",
              "    <tr style=\"text-align: right;\">\n",
              "      <th></th>\n",
              "      <th>A</th>\n",
              "      <th>B</th>\n",
              "      <th>C</th>\n",
              "      <th>D</th>\n",
              "      <th>E</th>\n",
              "      <th>F</th>\n",
              "      <th>Média</th>\n",
              "    </tr>\n",
              "  </thead>\n",
              "  <tbody>\n",
              "    <tr>\n",
              "      <th>0</th>\n",
              "      <td>1337</td>\n",
              "      <td>0</td>\n",
              "      <td>1</td>\n",
              "      <td>60</td>\n",
              "      <td>17</td>\n",
              "      <td>1</td>\n",
              "      <td>446.000000</td>\n",
              "    </tr>\n",
              "    <tr>\n",
              "      <th>1</th>\n",
              "      <td>1100</td>\n",
              "      <td>1</td>\n",
              "      <td>7</td>\n",
              "      <td>87</td>\n",
              "      <td>19</td>\n",
              "      <td>27</td>\n",
              "      <td>369.333333</td>\n",
              "    </tr>\n",
              "    <tr>\n",
              "      <th>2</th>\n",
              "      <td>813</td>\n",
              "      <td>2</td>\n",
              "      <td>2</td>\n",
              "      <td>76</td>\n",
              "      <td>20</td>\n",
              "      <td>125</td>\n",
              "      <td>272.333333</td>\n",
              "    </tr>\n",
              "    <tr>\n",
              "      <th>3</th>\n",
              "      <td>1261</td>\n",
              "      <td>3</td>\n",
              "      <td>3</td>\n",
              "      <td>85</td>\n",
              "      <td>13</td>\n",
              "      <td>343</td>\n",
              "      <td>422.333333</td>\n",
              "    </tr>\n",
              "    <tr>\n",
              "      <th>4</th>\n",
              "      <td>1112</td>\n",
              "      <td>4</td>\n",
              "      <td>11</td>\n",
              "      <td>91</td>\n",
              "      <td>4</td>\n",
              "      <td>729</td>\n",
              "      <td>375.666667</td>\n",
              "    </tr>\n",
              "    <tr>\n",
              "      <th>5</th>\n",
              "      <td>642</td>\n",
              "      <td>5</td>\n",
              "      <td>91</td>\n",
              "      <td>82</td>\n",
              "      <td>11</td>\n",
              "      <td>1331</td>\n",
              "      <td>246.000000</td>\n",
              "    </tr>\n",
              "    <tr>\n",
              "      <th>6</th>\n",
              "      <td>1055</td>\n",
              "      <td>6</td>\n",
              "      <td>10</td>\n",
              "      <td>65</td>\n",
              "      <td>20</td>\n",
              "      <td>2197</td>\n",
              "      <td>357.000000</td>\n",
              "    </tr>\n",
              "    <tr>\n",
              "      <th>7</th>\n",
              "      <td>675</td>\n",
              "      <td>7</td>\n",
              "      <td>8</td>\n",
              "      <td>82</td>\n",
              "      <td>33</td>\n",
              "      <td>3375</td>\n",
              "      <td>230.000000</td>\n",
              "    </tr>\n",
              "    <tr>\n",
              "      <th>8</th>\n",
              "      <td>1438</td>\n",
              "      <td>8</td>\n",
              "      <td>54</td>\n",
              "      <td>87</td>\n",
              "      <td>4</td>\n",
              "      <td>4913</td>\n",
              "      <td>500.000000</td>\n",
              "    </tr>\n",
              "    <tr>\n",
              "      <th>9</th>\n",
              "      <td>1423</td>\n",
              "      <td>9</td>\n",
              "      <td>27</td>\n",
              "      <td>93</td>\n",
              "      <td>7</td>\n",
              "      <td>6859</td>\n",
              "      <td>486.333333</td>\n",
              "    </tr>\n",
              "  </tbody>\n",
              "</table>\n",
              "</div>"
            ],
            "text/plain": [
              "      A  B   C   D   E     F       Média\n",
              "0  1337  0   1  60  17     1  446.000000\n",
              "1  1100  1   7  87  19    27  369.333333\n",
              "2   813  2   2  76  20   125  272.333333\n",
              "3  1261  3   3  85  13   343  422.333333\n",
              "4  1112  4  11  91   4   729  375.666667\n",
              "5   642  5  91  82  11  1331  246.000000\n",
              "6  1055  6  10  65  20  2197  357.000000\n",
              "7   675  7   8  82  33  3375  230.000000\n",
              "8  1438  8  54  87   4  4913  500.000000\n",
              "9  1423  9  27  93   7  6859  486.333333"
            ]
          },
          "metadata": {
            "tags": []
          },
          "execution_count": 17
        }
      ]
    },
    {
      "cell_type": "code",
      "metadata": {
        "id": "hurZIkzG8TwZ"
      },
      "source": [
        "nomes = ['Cristiane', 'Regiane', 'Diana', 'Mayumi','Stefanni']\n",
        "cidades = ['Sergipe', 'Recife', 'Mato Grosso', 'Rio Grande do Sul', 'Salvador']\n",
        "portugues = [7, 5, 8, 9, 6]\n",
        "fisica = [10, 5, 8, 6, 9]\n",
        "data = {'Nome': nomes,\n",
        "\t'Cidade': cidades,\n",
        "\t'Portugues': portugues,\n",
        "\t'Fisica': fisica\n",
        "  }\n",
        "\n",
        "df = pd.DataFrame(data)"
      ],
      "execution_count": 31,
      "outputs": []
    },
    {
      "cell_type": "code",
      "metadata": {
        "colab": {
          "base_uri": "https://localhost:8080/",
          "height": 206
        },
        "id": "e0G3DA2AAWOJ",
        "outputId": "65d7a93d-2457-4325-b555-3dee401a6e13"
      },
      "source": [
        "df"
      ],
      "execution_count": 32,
      "outputs": [
        {
          "output_type": "execute_result",
          "data": {
            "text/html": [
              "<div>\n",
              "<style scoped>\n",
              "    .dataframe tbody tr th:only-of-type {\n",
              "        vertical-align: middle;\n",
              "    }\n",
              "\n",
              "    .dataframe tbody tr th {\n",
              "        vertical-align: top;\n",
              "    }\n",
              "\n",
              "    .dataframe thead th {\n",
              "        text-align: right;\n",
              "    }\n",
              "</style>\n",
              "<table border=\"1\" class=\"dataframe\">\n",
              "  <thead>\n",
              "    <tr style=\"text-align: right;\">\n",
              "      <th></th>\n",
              "      <th>Nome</th>\n",
              "      <th>Cidade</th>\n",
              "      <th>Portugues</th>\n",
              "      <th>Fisica</th>\n",
              "    </tr>\n",
              "  </thead>\n",
              "  <tbody>\n",
              "    <tr>\n",
              "      <th>0</th>\n",
              "      <td>Cristiane</td>\n",
              "      <td>Sergipe</td>\n",
              "      <td>7</td>\n",
              "      <td>10</td>\n",
              "    </tr>\n",
              "    <tr>\n",
              "      <th>1</th>\n",
              "      <td>Regiane</td>\n",
              "      <td>Recife</td>\n",
              "      <td>5</td>\n",
              "      <td>5</td>\n",
              "    </tr>\n",
              "    <tr>\n",
              "      <th>2</th>\n",
              "      <td>Diana</td>\n",
              "      <td>Mato Grosso</td>\n",
              "      <td>8</td>\n",
              "      <td>8</td>\n",
              "    </tr>\n",
              "    <tr>\n",
              "      <th>3</th>\n",
              "      <td>Mayumi</td>\n",
              "      <td>Rio Grande do Sul</td>\n",
              "      <td>9</td>\n",
              "      <td>6</td>\n",
              "    </tr>\n",
              "    <tr>\n",
              "      <th>4</th>\n",
              "      <td>Stefanni</td>\n",
              "      <td>Salvador</td>\n",
              "      <td>6</td>\n",
              "      <td>9</td>\n",
              "    </tr>\n",
              "  </tbody>\n",
              "</table>\n",
              "</div>"
            ],
            "text/plain": [
              "        Nome             Cidade  Portugues  Fisica\n",
              "0  Cristiane            Sergipe          7      10\n",
              "1    Regiane             Recife          5       5\n",
              "2      Diana        Mato Grosso          8       8\n",
              "3     Mayumi  Rio Grande do Sul          9       6\n",
              "4   Stefanni           Salvador          6       9"
            ]
          },
          "metadata": {
            "tags": []
          },
          "execution_count": 32
        }
      ]
    },
    {
      "cell_type": "code",
      "metadata": {
        "colab": {
          "base_uri": "https://localhost:8080/"
        },
        "id": "SNUgUISl-yIW",
        "outputId": "b09f02f0-3f11-4127-c6ec-2168d9791ff8"
      },
      "source": [
        "df.columns[2:3] #media"
      ],
      "execution_count": 26,
      "outputs": [
        {
          "output_type": "execute_result",
          "data": {
            "text/plain": [
              "Index(['Matematica'], dtype='object')"
            ]
          },
          "metadata": {
            "tags": []
          },
          "execution_count": 26
        }
      ]
    },
    {
      "cell_type": "code",
      "metadata": {
        "colab": {
          "base_uri": "https://localhost:8080/",
          "height": 206
        },
        "id": "xF5YGaoP_HrT",
        "outputId": "5140ef1a-32e1-456c-d791-ae9e4b79b8f5"
      },
      "source": [
        "df"
      ],
      "execution_count": 11,
      "outputs": [
        {
          "output_type": "execute_result",
          "data": {
            "text/html": [
              "<div>\n",
              "<style scoped>\n",
              "    .dataframe tbody tr th:only-of-type {\n",
              "        vertical-align: middle;\n",
              "    }\n",
              "\n",
              "    .dataframe tbody tr th {\n",
              "        vertical-align: top;\n",
              "    }\n",
              "\n",
              "    .dataframe thead th {\n",
              "        text-align: right;\n",
              "    }\n",
              "</style>\n",
              "<table border=\"1\" class=\"dataframe\">\n",
              "  <thead>\n",
              "    <tr style=\"text-align: right;\">\n",
              "      <th></th>\n",
              "      <th>Nome</th>\n",
              "      <th>Cidade</th>\n",
              "      <th>Matematica</th>\n",
              "      <th>Historia</th>\n",
              "    </tr>\n",
              "  </thead>\n",
              "  <tbody>\n",
              "    <tr>\n",
              "      <th>0</th>\n",
              "      <td>Cristiane</td>\n",
              "      <td>Sergipe</td>\n",
              "      <td>7</td>\n",
              "      <td>5</td>\n",
              "    </tr>\n",
              "    <tr>\n",
              "      <th>1</th>\n",
              "      <td>Regiane</td>\n",
              "      <td>Recife</td>\n",
              "      <td>5</td>\n",
              "      <td>10</td>\n",
              "    </tr>\n",
              "    <tr>\n",
              "      <th>2</th>\n",
              "      <td>Diana</td>\n",
              "      <td>Mato Grosso</td>\n",
              "      <td>8</td>\n",
              "      <td>8</td>\n",
              "    </tr>\n",
              "    <tr>\n",
              "      <th>3</th>\n",
              "      <td>Mayumi</td>\n",
              "      <td>Rio Grande do Sul</td>\n",
              "      <td>9</td>\n",
              "      <td>6</td>\n",
              "    </tr>\n",
              "    <tr>\n",
              "      <th>4</th>\n",
              "      <td>Stefanni</td>\n",
              "      <td>Salvador</td>\n",
              "      <td>6</td>\n",
              "      <td>9</td>\n",
              "    </tr>\n",
              "  </tbody>\n",
              "</table>\n",
              "</div>"
            ],
            "text/plain": [
              "        Nome             Cidade  Matematica  Historia\n",
              "0  Cristiane            Sergipe           7         5\n",
              "1    Regiane             Recife           5        10\n",
              "2      Diana        Mato Grosso           8         8\n",
              "3     Mayumi  Rio Grande do Sul           9         6\n",
              "4   Stefanni           Salvador           6         9"
            ]
          },
          "metadata": {
            "tags": []
          },
          "execution_count": 11
        }
      ]
    },
    {
      "cell_type": "code",
      "metadata": {
        "colab": {
          "base_uri": "https://localhost:8080/"
        },
        "id": "w4JFKXm4_f_f",
        "outputId": "b0d190bf-7e92-4341-d25a-734dba3f154c"
      },
      "source": [
        "df.columns[2:].to_list()"
      ],
      "execution_count": 24,
      "outputs": [
        {
          "output_type": "execute_result",
          "data": {
            "text/plain": [
              "['Matematica', 'Historia', 'Media', 'Resultado_Final']"
            ]
          },
          "metadata": {
            "tags": []
          },
          "execution_count": 24
        }
      ]
    },
    {
      "cell_type": "code",
      "metadata": {
        "colab": {
          "base_uri": "https://localhost:8080/"
        },
        "id": "vdvAOOhF_90y",
        "outputId": "8d4034a7-3359-49a6-fed2-0d0b6f647835"
      },
      "source": [
        "df.columns[2:].to_numpy() #converte para numpy"
      ],
      "execution_count": 25,
      "outputs": [
        {
          "output_type": "execute_result",
          "data": {
            "text/plain": [
              "array(['Matematica', 'Historia', 'Media', 'Resultado_Final'], dtype=object)"
            ]
          },
          "metadata": {
            "tags": []
          },
          "execution_count": 25
        }
      ]
    },
    {
      "cell_type": "code",
      "metadata": {
        "colab": {
          "base_uri": "https://localhost:8080/"
        },
        "id": "sCWjQ9qeAFTJ",
        "outputId": "e59f9292-3a25-4079-9f58-6ab2063f4b67"
      },
      "source": [
        "df.columns[2:].to_numpy() #converte para numpy"
      ],
      "execution_count": 14,
      "outputs": [
        {
          "output_type": "execute_result",
          "data": {
            "text/plain": [
              "array(['Matematica', 'Historia'], dtype=object)"
            ]
          },
          "metadata": {
            "tags": []
          },
          "execution_count": 14
        }
      ]
    },
    {
      "cell_type": "code",
      "metadata": {
        "id": "kbVoV2QXASZg"
      },
      "source": [
        "provas = df.columns[2:].to_numpy() "
      ],
      "execution_count": 15,
      "outputs": []
    },
    {
      "cell_type": "code",
      "metadata": {
        "colab": {
          "base_uri": "https://localhost:8080/"
        },
        "id": "PqgwpvnjAjfe",
        "outputId": "18de1581-62fb-445c-e71b-dee2c9ff2d26"
      },
      "source": [
        "df[provas].mean()#media colunas"
      ],
      "execution_count": 16,
      "outputs": [
        {
          "output_type": "execute_result",
          "data": {
            "text/plain": [
              "Matematica    7.0\n",
              "Historia      7.6\n",
              "dtype: float64"
            ]
          },
          "metadata": {
            "tags": []
          },
          "execution_count": 16
        }
      ]
    },
    {
      "cell_type": "code",
      "metadata": {
        "colab": {
          "base_uri": "https://localhost:8080/"
        },
        "id": "7JFF811dAvN5",
        "outputId": "3c965061-5203-4e14-bfcf-e0a0d1c4be22"
      },
      "source": [
        "df[provas].mean(axis = 1)#media das linhas"
      ],
      "execution_count": 17,
      "outputs": [
        {
          "output_type": "execute_result",
          "data": {
            "text/plain": [
              "0    6.0\n",
              "1    7.5\n",
              "2    8.0\n",
              "3    7.5\n",
              "4    7.5\n",
              "dtype: float64"
            ]
          },
          "metadata": {
            "tags": []
          },
          "execution_count": 17
        }
      ]
    },
    {
      "cell_type": "code",
      "metadata": {
        "id": "P6bKBI5aA0aI"
      },
      "source": [
        "df['Media'] = df[provas].mean(axis = 1)#media das linhas"
      ],
      "execution_count": 19,
      "outputs": []
    },
    {
      "cell_type": "code",
      "metadata": {
        "id": "nmSaBAncA8L0"
      },
      "source": [
        "def classifica_aluno(media):\n",
        "  if media<7:\n",
        "      return 'Reprovado'\n",
        "  else:\n",
        "    return 'Aprovado'"
      ],
      "execution_count": 20,
      "outputs": []
    },
    {
      "cell_type": "code",
      "metadata": {
        "id": "pC-ZRTeMBsH9"
      },
      "source": [
        "\n",
        "df['Resultado_Final'] = df['Media'].apply(classifica_aluno)"
      ],
      "execution_count": 21,
      "outputs": []
    },
    {
      "cell_type": "code",
      "metadata": {
        "colab": {
          "base_uri": "https://localhost:8080/",
          "height": 206
        },
        "id": "2rH4gStMBy4c",
        "outputId": "8035ab11-ad2e-418f-b1c8-6ab454186d90"
      },
      "source": [
        "df"
      ],
      "execution_count": 27,
      "outputs": [
        {
          "output_type": "execute_result",
          "data": {
            "text/html": [
              "<div>\n",
              "<style scoped>\n",
              "    .dataframe tbody tr th:only-of-type {\n",
              "        vertical-align: middle;\n",
              "    }\n",
              "\n",
              "    .dataframe tbody tr th {\n",
              "        vertical-align: top;\n",
              "    }\n",
              "\n",
              "    .dataframe thead th {\n",
              "        text-align: right;\n",
              "    }\n",
              "</style>\n",
              "<table border=\"1\" class=\"dataframe\">\n",
              "  <thead>\n",
              "    <tr style=\"text-align: right;\">\n",
              "      <th></th>\n",
              "      <th>Nome</th>\n",
              "      <th>Cidade</th>\n",
              "      <th>Matematica</th>\n",
              "      <th>Historia</th>\n",
              "      <th>Media</th>\n",
              "      <th>Resultado_Final</th>\n",
              "    </tr>\n",
              "  </thead>\n",
              "  <tbody>\n",
              "    <tr>\n",
              "      <th>0</th>\n",
              "      <td>Cristiane</td>\n",
              "      <td>Sergipe</td>\n",
              "      <td>7</td>\n",
              "      <td>5</td>\n",
              "      <td>6.0</td>\n",
              "      <td>Reprovado</td>\n",
              "    </tr>\n",
              "    <tr>\n",
              "      <th>1</th>\n",
              "      <td>Regiane</td>\n",
              "      <td>Recife</td>\n",
              "      <td>5</td>\n",
              "      <td>10</td>\n",
              "      <td>7.5</td>\n",
              "      <td>Aprovado</td>\n",
              "    </tr>\n",
              "    <tr>\n",
              "      <th>2</th>\n",
              "      <td>Diana</td>\n",
              "      <td>Mato Grosso</td>\n",
              "      <td>8</td>\n",
              "      <td>8</td>\n",
              "      <td>8.0</td>\n",
              "      <td>Aprovado</td>\n",
              "    </tr>\n",
              "    <tr>\n",
              "      <th>3</th>\n",
              "      <td>Mayumi</td>\n",
              "      <td>Rio Grande do Sul</td>\n",
              "      <td>9</td>\n",
              "      <td>6</td>\n",
              "      <td>7.5</td>\n",
              "      <td>Aprovado</td>\n",
              "    </tr>\n",
              "    <tr>\n",
              "      <th>4</th>\n",
              "      <td>Stefanni</td>\n",
              "      <td>Salvador</td>\n",
              "      <td>6</td>\n",
              "      <td>9</td>\n",
              "      <td>7.5</td>\n",
              "      <td>Aprovado</td>\n",
              "    </tr>\n",
              "  </tbody>\n",
              "</table>\n",
              "</div>"
            ],
            "text/plain": [
              "        Nome             Cidade  Matematica  Historia  Media Resultado_Final\n",
              "0  Cristiane            Sergipe           7         5    6.0       Reprovado\n",
              "1    Regiane             Recife           5        10    7.5        Aprovado\n",
              "2      Diana        Mato Grosso           8         8    8.0        Aprovado\n",
              "3     Mayumi  Rio Grande do Sul           9         6    7.5        Aprovado\n",
              "4   Stefanni           Salvador           6         9    7.5        Aprovado"
            ]
          },
          "metadata": {
            "tags": []
          },
          "execution_count": 27
        }
      ]
    },
    {
      "cell_type": "code",
      "metadata": {
        "colab": {
          "base_uri": "https://localhost:8080/",
          "height": 175
        },
        "id": "xft4GfzOBzwE",
        "outputId": "67dfe78e-75d4-4762-8ced-a7a8e975a9d5"
      },
      "source": [
        "df[df['Resultado_Final'] == 'Aprovado']#consultas"
      ],
      "execution_count": 22,
      "outputs": [
        {
          "output_type": "execute_result",
          "data": {
            "text/html": [
              "<div>\n",
              "<style scoped>\n",
              "    .dataframe tbody tr th:only-of-type {\n",
              "        vertical-align: middle;\n",
              "    }\n",
              "\n",
              "    .dataframe tbody tr th {\n",
              "        vertical-align: top;\n",
              "    }\n",
              "\n",
              "    .dataframe thead th {\n",
              "        text-align: right;\n",
              "    }\n",
              "</style>\n",
              "<table border=\"1\" class=\"dataframe\">\n",
              "  <thead>\n",
              "    <tr style=\"text-align: right;\">\n",
              "      <th></th>\n",
              "      <th>Nome</th>\n",
              "      <th>Cidade</th>\n",
              "      <th>Matematica</th>\n",
              "      <th>Historia</th>\n",
              "      <th>Media</th>\n",
              "      <th>Resultado_Final</th>\n",
              "    </tr>\n",
              "  </thead>\n",
              "  <tbody>\n",
              "    <tr>\n",
              "      <th>1</th>\n",
              "      <td>Regiane</td>\n",
              "      <td>Recife</td>\n",
              "      <td>5</td>\n",
              "      <td>10</td>\n",
              "      <td>7.5</td>\n",
              "      <td>Aprovado</td>\n",
              "    </tr>\n",
              "    <tr>\n",
              "      <th>2</th>\n",
              "      <td>Diana</td>\n",
              "      <td>Mato Grosso</td>\n",
              "      <td>8</td>\n",
              "      <td>8</td>\n",
              "      <td>8.0</td>\n",
              "      <td>Aprovado</td>\n",
              "    </tr>\n",
              "    <tr>\n",
              "      <th>3</th>\n",
              "      <td>Mayumi</td>\n",
              "      <td>Rio Grande do Sul</td>\n",
              "      <td>9</td>\n",
              "      <td>6</td>\n",
              "      <td>7.5</td>\n",
              "      <td>Aprovado</td>\n",
              "    </tr>\n",
              "    <tr>\n",
              "      <th>4</th>\n",
              "      <td>Stefanni</td>\n",
              "      <td>Salvador</td>\n",
              "      <td>6</td>\n",
              "      <td>9</td>\n",
              "      <td>7.5</td>\n",
              "      <td>Aprovado</td>\n",
              "    </tr>\n",
              "  </tbody>\n",
              "</table>\n",
              "</div>"
            ],
            "text/plain": [
              "       Nome             Cidade  Matematica  Historia  Media Resultado_Final\n",
              "1   Regiane             Recife           5        10    7.5        Aprovado\n",
              "2     Diana        Mato Grosso           8         8    8.0        Aprovado\n",
              "3    Mayumi  Rio Grande do Sul           9         6    7.5        Aprovado\n",
              "4  Stefanni           Salvador           6         9    7.5        Aprovado"
            ]
          },
          "metadata": {
            "tags": []
          },
          "execution_count": 22
        }
      ]
    },
    {
      "cell_type": "code",
      "metadata": {
        "colab": {
          "base_uri": "https://localhost:8080/"
        },
        "id": "VBqSbMy2CUZB",
        "outputId": "0213191e-d11c-4915-93cf-f1a645c26ccc"
      },
      "source": [
        "df['Resultado_Final'] == 'Aprovado'"
      ],
      "execution_count": 47,
      "outputs": [
        {
          "output_type": "execute_result",
          "data": {
            "text/plain": [
              "0     True\n",
              "1    False\n",
              "2     True\n",
              "3     True\n",
              "4     True\n",
              "Name: Resultado_Final, dtype: bool"
            ]
          },
          "metadata": {
            "tags": []
          },
          "execution_count": 47
        }
      ]
    },
    {
      "cell_type": "code",
      "metadata": {
        "id": "lKFGB3GjDteZ"
      },
      "source": [
        "#df[df['Genero'] == 'M']] #So participantes femininas alterando o filtro funciona"
      ],
      "execution_count": 28,
      "outputs": []
    },
    {
      "cell_type": "code",
      "metadata": {
        "colab": {
          "base_uri": "https://localhost:8080/",
          "height": 609
        },
        "id": "3kmVg53BEQsl",
        "outputId": "e304bfcb-70d9-435f-9f42-5cc046f87161"
      },
      "source": [
        "df[(df['Resultado_Final'] == 'Aprovado') & (df['Portugues']>=7)] #&: and"
      ],
      "execution_count": 36,
      "outputs": [
        {
          "output_type": "error",
          "ename": "KeyError",
          "evalue": "ignored",
          "traceback": [
            "\u001b[0;31m---------------------------------------------------------------------------\u001b[0m",
            "\u001b[0;31mKeyError\u001b[0m                                  Traceback (most recent call last)",
            "\u001b[0;32m/usr/local/lib/python3.7/dist-packages/pandas/core/indexes/base.py\u001b[0m in \u001b[0;36mget_loc\u001b[0;34m(self, key, method, tolerance)\u001b[0m\n\u001b[1;32m   2897\u001b[0m             \u001b[0;32mtry\u001b[0m\u001b[0;34m:\u001b[0m\u001b[0;34m\u001b[0m\u001b[0;34m\u001b[0m\u001b[0m\n\u001b[0;32m-> 2898\u001b[0;31m                 \u001b[0;32mreturn\u001b[0m \u001b[0mself\u001b[0m\u001b[0;34m.\u001b[0m\u001b[0m_engine\u001b[0m\u001b[0;34m.\u001b[0m\u001b[0mget_loc\u001b[0m\u001b[0;34m(\u001b[0m\u001b[0mcasted_key\u001b[0m\u001b[0;34m)\u001b[0m\u001b[0;34m\u001b[0m\u001b[0;34m\u001b[0m\u001b[0m\n\u001b[0m\u001b[1;32m   2899\u001b[0m             \u001b[0;32mexcept\u001b[0m \u001b[0mKeyError\u001b[0m \u001b[0;32mas\u001b[0m \u001b[0merr\u001b[0m\u001b[0;34m:\u001b[0m\u001b[0;34m\u001b[0m\u001b[0;34m\u001b[0m\u001b[0m\n",
            "\u001b[0;32mpandas/_libs/index.pyx\u001b[0m in \u001b[0;36mpandas._libs.index.IndexEngine.get_loc\u001b[0;34m()\u001b[0m\n",
            "\u001b[0;32mpandas/_libs/index.pyx\u001b[0m in \u001b[0;36mpandas._libs.index.IndexEngine.get_loc\u001b[0;34m()\u001b[0m\n",
            "\u001b[0;32mpandas/_libs/hashtable_class_helper.pxi\u001b[0m in \u001b[0;36mpandas._libs.hashtable.PyObjectHashTable.get_item\u001b[0;34m()\u001b[0m\n",
            "\u001b[0;32mpandas/_libs/hashtable_class_helper.pxi\u001b[0m in \u001b[0;36mpandas._libs.hashtable.PyObjectHashTable.get_item\u001b[0;34m()\u001b[0m\n",
            "\u001b[0;31mKeyError\u001b[0m: 'Portugues'",
            "\nThe above exception was the direct cause of the following exception:\n",
            "\u001b[0;31mKeyError\u001b[0m                                  Traceback (most recent call last)",
            "\u001b[0;32m<ipython-input-36-844ef73158f5>\u001b[0m in \u001b[0;36m<module>\u001b[0;34m()\u001b[0m\n\u001b[0;32m----> 1\u001b[0;31m \u001b[0mdf\u001b[0m\u001b[0;34m[\u001b[0m\u001b[0;34m(\u001b[0m\u001b[0mdf\u001b[0m\u001b[0;34m[\u001b[0m\u001b[0;34m'Resultado_Final'\u001b[0m\u001b[0;34m]\u001b[0m \u001b[0;34m==\u001b[0m \u001b[0;34m'Aprovado'\u001b[0m\u001b[0;34m)\u001b[0m \u001b[0;34m&\u001b[0m \u001b[0;34m(\u001b[0m\u001b[0mdf\u001b[0m\u001b[0;34m[\u001b[0m\u001b[0;34m'Portugues'\u001b[0m\u001b[0;34m]\u001b[0m\u001b[0;34m>=\u001b[0m\u001b[0;36m7\u001b[0m\u001b[0;34m)\u001b[0m\u001b[0;34m]\u001b[0m \u001b[0;31m#&: and\u001b[0m\u001b[0;34m\u001b[0m\u001b[0;34m\u001b[0m\u001b[0m\n\u001b[0m",
            "\u001b[0;32m/usr/local/lib/python3.7/dist-packages/pandas/core/frame.py\u001b[0m in \u001b[0;36m__getitem__\u001b[0;34m(self, key)\u001b[0m\n\u001b[1;32m   2904\u001b[0m             \u001b[0;32mif\u001b[0m \u001b[0mself\u001b[0m\u001b[0;34m.\u001b[0m\u001b[0mcolumns\u001b[0m\u001b[0;34m.\u001b[0m\u001b[0mnlevels\u001b[0m \u001b[0;34m>\u001b[0m \u001b[0;36m1\u001b[0m\u001b[0;34m:\u001b[0m\u001b[0;34m\u001b[0m\u001b[0;34m\u001b[0m\u001b[0m\n\u001b[1;32m   2905\u001b[0m                 \u001b[0;32mreturn\u001b[0m \u001b[0mself\u001b[0m\u001b[0;34m.\u001b[0m\u001b[0m_getitem_multilevel\u001b[0m\u001b[0;34m(\u001b[0m\u001b[0mkey\u001b[0m\u001b[0;34m)\u001b[0m\u001b[0;34m\u001b[0m\u001b[0;34m\u001b[0m\u001b[0m\n\u001b[0;32m-> 2906\u001b[0;31m             \u001b[0mindexer\u001b[0m \u001b[0;34m=\u001b[0m \u001b[0mself\u001b[0m\u001b[0;34m.\u001b[0m\u001b[0mcolumns\u001b[0m\u001b[0;34m.\u001b[0m\u001b[0mget_loc\u001b[0m\u001b[0;34m(\u001b[0m\u001b[0mkey\u001b[0m\u001b[0;34m)\u001b[0m\u001b[0;34m\u001b[0m\u001b[0;34m\u001b[0m\u001b[0m\n\u001b[0m\u001b[1;32m   2907\u001b[0m             \u001b[0;32mif\u001b[0m \u001b[0mis_integer\u001b[0m\u001b[0;34m(\u001b[0m\u001b[0mindexer\u001b[0m\u001b[0;34m)\u001b[0m\u001b[0;34m:\u001b[0m\u001b[0;34m\u001b[0m\u001b[0;34m\u001b[0m\u001b[0m\n\u001b[1;32m   2908\u001b[0m                 \u001b[0mindexer\u001b[0m \u001b[0;34m=\u001b[0m \u001b[0;34m[\u001b[0m\u001b[0mindexer\u001b[0m\u001b[0;34m]\u001b[0m\u001b[0;34m\u001b[0m\u001b[0;34m\u001b[0m\u001b[0m\n",
            "\u001b[0;32m/usr/local/lib/python3.7/dist-packages/pandas/core/indexes/base.py\u001b[0m in \u001b[0;36mget_loc\u001b[0;34m(self, key, method, tolerance)\u001b[0m\n\u001b[1;32m   2898\u001b[0m                 \u001b[0;32mreturn\u001b[0m \u001b[0mself\u001b[0m\u001b[0;34m.\u001b[0m\u001b[0m_engine\u001b[0m\u001b[0;34m.\u001b[0m\u001b[0mget_loc\u001b[0m\u001b[0;34m(\u001b[0m\u001b[0mcasted_key\u001b[0m\u001b[0;34m)\u001b[0m\u001b[0;34m\u001b[0m\u001b[0;34m\u001b[0m\u001b[0m\n\u001b[1;32m   2899\u001b[0m             \u001b[0;32mexcept\u001b[0m \u001b[0mKeyError\u001b[0m \u001b[0;32mas\u001b[0m \u001b[0merr\u001b[0m\u001b[0;34m:\u001b[0m\u001b[0;34m\u001b[0m\u001b[0;34m\u001b[0m\u001b[0m\n\u001b[0;32m-> 2900\u001b[0;31m                 \u001b[0;32mraise\u001b[0m \u001b[0mKeyError\u001b[0m\u001b[0;34m(\u001b[0m\u001b[0mkey\u001b[0m\u001b[0;34m)\u001b[0m \u001b[0;32mfrom\u001b[0m \u001b[0merr\u001b[0m\u001b[0;34m\u001b[0m\u001b[0;34m\u001b[0m\u001b[0m\n\u001b[0m\u001b[1;32m   2901\u001b[0m \u001b[0;34m\u001b[0m\u001b[0m\n\u001b[1;32m   2902\u001b[0m         \u001b[0;32mif\u001b[0m \u001b[0mtolerance\u001b[0m \u001b[0;32mis\u001b[0m \u001b[0;32mnot\u001b[0m \u001b[0;32mNone\u001b[0m\u001b[0;34m:\u001b[0m\u001b[0;34m\u001b[0m\u001b[0;34m\u001b[0m\u001b[0m\n",
            "\u001b[0;31mKeyError\u001b[0m: 'Portugues'"
          ]
        }
      ]
    },
    {
      "cell_type": "code",
      "metadata": {
        "colab": {
          "base_uri": "https://localhost:8080/",
          "height": 175
        },
        "id": "AV8R75huGFaY",
        "outputId": "f14952e0-71eb-42f0-bfa1-8d9d852d89ac"
      },
      "source": [
        "df[(df['Resultado_Final'] == 'Aprovado') | (df['Portugues']>=7)] #or: ou"
      ],
      "execution_count": 49,
      "outputs": [
        {
          "output_type": "execute_result",
          "data": {
            "text/html": [
              "<div>\n",
              "<style scoped>\n",
              "    .dataframe tbody tr th:only-of-type {\n",
              "        vertical-align: middle;\n",
              "    }\n",
              "\n",
              "    .dataframe tbody tr th {\n",
              "        vertical-align: top;\n",
              "    }\n",
              "\n",
              "    .dataframe thead th {\n",
              "        text-align: right;\n",
              "    }\n",
              "</style>\n",
              "<table border=\"1\" class=\"dataframe\">\n",
              "  <thead>\n",
              "    <tr style=\"text-align: right;\">\n",
              "      <th></th>\n",
              "      <th>Nome</th>\n",
              "      <th>Cidade</th>\n",
              "      <th>Portugues</th>\n",
              "      <th>Fisica</th>\n",
              "      <th>Media</th>\n",
              "      <th>Resultado_Final</th>\n",
              "    </tr>\n",
              "  </thead>\n",
              "  <tbody>\n",
              "    <tr>\n",
              "      <th>0</th>\n",
              "      <td>Cristiane</td>\n",
              "      <td>Sergipe</td>\n",
              "      <td>7</td>\n",
              "      <td>10</td>\n",
              "      <td>8.5</td>\n",
              "      <td>Aprovado</td>\n",
              "    </tr>\n",
              "    <tr>\n",
              "      <th>2</th>\n",
              "      <td>Diana</td>\n",
              "      <td>Mato Grosso</td>\n",
              "      <td>8</td>\n",
              "      <td>8</td>\n",
              "      <td>8.0</td>\n",
              "      <td>Aprovado</td>\n",
              "    </tr>\n",
              "    <tr>\n",
              "      <th>3</th>\n",
              "      <td>Mayumi</td>\n",
              "      <td>Rio Grande do Sul</td>\n",
              "      <td>9</td>\n",
              "      <td>6</td>\n",
              "      <td>7.5</td>\n",
              "      <td>Aprovado</td>\n",
              "    </tr>\n",
              "    <tr>\n",
              "      <th>4</th>\n",
              "      <td>Stefanni</td>\n",
              "      <td>Salvador</td>\n",
              "      <td>6</td>\n",
              "      <td>9</td>\n",
              "      <td>7.5</td>\n",
              "      <td>Aprovado</td>\n",
              "    </tr>\n",
              "  </tbody>\n",
              "</table>\n",
              "</div>"
            ],
            "text/plain": [
              "        Nome             Cidade  Portugues  Fisica  Media Resultado_Final\n",
              "0  Cristiane            Sergipe          7      10    8.5        Aprovado\n",
              "2      Diana        Mato Grosso          8       8    8.0        Aprovado\n",
              "3     Mayumi  Rio Grande do Sul          9       6    7.5        Aprovado\n",
              "4   Stefanni           Salvador          6       9    7.5        Aprovado"
            ]
          },
          "metadata": {
            "tags": []
          },
          "execution_count": 49
        }
      ]
    },
    {
      "cell_type": "code",
      "metadata": {
        "colab": {
          "base_uri": "https://localhost:8080/",
          "height": 206
        },
        "id": "lpCTN4LSLoZu",
        "outputId": "6f16f9f1-9410-4f19-9624-3216af4b7912"
      },
      "source": [
        "df"
      ],
      "execution_count": 31,
      "outputs": [
        {
          "output_type": "execute_result",
          "data": {
            "text/html": [
              "<div>\n",
              "<style scoped>\n",
              "    .dataframe tbody tr th:only-of-type {\n",
              "        vertical-align: middle;\n",
              "    }\n",
              "\n",
              "    .dataframe tbody tr th {\n",
              "        vertical-align: top;\n",
              "    }\n",
              "\n",
              "    .dataframe thead th {\n",
              "        text-align: right;\n",
              "    }\n",
              "</style>\n",
              "<table border=\"1\" class=\"dataframe\">\n",
              "  <thead>\n",
              "    <tr style=\"text-align: right;\">\n",
              "      <th></th>\n",
              "      <th>Nome</th>\n",
              "      <th>Cidade</th>\n",
              "      <th>Matematica</th>\n",
              "      <th>Historia</th>\n",
              "      <th>Media</th>\n",
              "      <th>Resultado_Final</th>\n",
              "    </tr>\n",
              "  </thead>\n",
              "  <tbody>\n",
              "    <tr>\n",
              "      <th>0</th>\n",
              "      <td>Cristiane</td>\n",
              "      <td>Sergipe</td>\n",
              "      <td>7</td>\n",
              "      <td>5</td>\n",
              "      <td>6.0</td>\n",
              "      <td>Reprovado</td>\n",
              "    </tr>\n",
              "    <tr>\n",
              "      <th>1</th>\n",
              "      <td>Regiane</td>\n",
              "      <td>Recife</td>\n",
              "      <td>5</td>\n",
              "      <td>10</td>\n",
              "      <td>7.5</td>\n",
              "      <td>Aprovado</td>\n",
              "    </tr>\n",
              "    <tr>\n",
              "      <th>2</th>\n",
              "      <td>Diana</td>\n",
              "      <td>Mato Grosso</td>\n",
              "      <td>8</td>\n",
              "      <td>8</td>\n",
              "      <td>8.0</td>\n",
              "      <td>Aprovado</td>\n",
              "    </tr>\n",
              "    <tr>\n",
              "      <th>3</th>\n",
              "      <td>Mayumi</td>\n",
              "      <td>Rio Grande do Sul</td>\n",
              "      <td>9</td>\n",
              "      <td>6</td>\n",
              "      <td>7.5</td>\n",
              "      <td>Aprovado</td>\n",
              "    </tr>\n",
              "    <tr>\n",
              "      <th>4</th>\n",
              "      <td>Stefanni</td>\n",
              "      <td>Salvador</td>\n",
              "      <td>6</td>\n",
              "      <td>9</td>\n",
              "      <td>7.5</td>\n",
              "      <td>Aprovado</td>\n",
              "    </tr>\n",
              "  </tbody>\n",
              "</table>\n",
              "</div>"
            ],
            "text/plain": [
              "        Nome             Cidade  Matematica  Historia  Media Resultado_Final\n",
              "0  Cristiane            Sergipe           7         5    6.0       Reprovado\n",
              "1    Regiane             Recife           5        10    7.5        Aprovado\n",
              "2      Diana        Mato Grosso           8         8    8.0        Aprovado\n",
              "3     Mayumi  Rio Grande do Sul           9         6    7.5        Aprovado\n",
              "4   Stefanni           Salvador           6         9    7.5        Aprovado"
            ]
          },
          "metadata": {
            "tags": []
          },
          "execution_count": 31
        }
      ]
    },
    {
      "cell_type": "code",
      "metadata": {
        "colab": {
          "base_uri": "https://localhost:8080/",
          "height": 136
        },
        "id": "m57r_rQ57S1p",
        "outputId": "fd636575-383b-4751-e726-625c842755c2"
      },
      "source": [
        "#df[(df['Cidade']=='Rio Grande do Sul') & (df['Media']>=7.5)] & (df['Historia']>=10)]"
      ],
      "execution_count": 21,
      "outputs": [
        {
          "output_type": "error",
          "ename": "SyntaxError",
          "evalue": "ignored",
          "traceback": [
            "\u001b[0;36m  File \u001b[0;32m\"<ipython-input-21-bc03f1410fec>\"\u001b[0;36m, line \u001b[0;32m1\u001b[0m\n\u001b[0;31m    df[(df['Cidade']=='Rio Grande do Sul') & (df['Media']>=7.5)] & (df['Historia']>=10)]\u001b[0m\n\u001b[0m                                                                                       ^\u001b[0m\n\u001b[0;31mSyntaxError\u001b[0m\u001b[0;31m:\u001b[0m invalid syntax\n"
          ]
        }
      ]
    },
    {
      "cell_type": "code",
      "metadata": {
        "id": "u2QTisxx9w2D"
      },
      "source": [
        ""
      ],
      "execution_count": null,
      "outputs": []
    }
  ]
}