{
  "nbformat": 4,
  "nbformat_minor": 0,
  "metadata": {
    "colab": {
      "name": "DataFrame.ipynb",
      "provenance": [],
      "authorship_tag": "ABX9TyPhf6JcCt03BLAkop7+IIaK",
      "include_colab_link": true
    },
    "kernelspec": {
      "name": "python3",
      "display_name": "Python 3"
    },
    "language_info": {
      "name": "python"
    }
  },
  "cells": [
    {
      "cell_type": "markdown",
      "metadata": {
        "id": "view-in-github",
        "colab_type": "text"
      },
      "source": [
        "<a href=\"https://colab.research.google.com/github/Juniorexz/DataScience/blob/main/DataFrame.ipynb\" target=\"_parent\"><img src=\"https://colab.research.google.com/assets/colab-badge.svg\" alt=\"Open In Colab\"/></a>"
      ]
    },
    {
      "cell_type": "code",
      "metadata": {
        "id": "8SvBnHRlFUfy"
      },
      "source": [
        "#Estrutura de dados de duas dimensões\n",
        "import pandas as pd\n",
        "import numpy as np"
      ],
      "execution_count": 1,
      "outputs": []
    },
    {
      "cell_type": "code",
      "metadata": {
        "id": "0pf_dJ2pIx7T"
      },
      "source": [
        "dados = {\n",
        "\t'Nome':['Rafael', 'Donatelo','Michelangelo','Leonardo'],\n",
        "\t'Idades': [18, 18, 18, 18],\n",
        "\t'Cidades': ['Nova York','Los Angeles', 'São Francisco', 'Chicago']\n",
        "}"
      ],
      "execution_count": 2,
      "outputs": []
    },
    {
      "cell_type": "code",
      "metadata": {
        "id": "GEc0kRHzTTZH"
      },
      "source": [
        "df = pd.DataFrame(dados, index = [1, 2, 3, 4])"
      ],
      "execution_count": 3,
      "outputs": []
    },
    {
      "cell_type": "code",
      "metadata": {
        "colab": {
          "base_uri": "https://localhost:8080/",
          "height": 175
        },
        "id": "5FDMX39pepLd",
        "outputId": "a27d689b-63fe-44ab-e1e7-0d1fa95ccd92"
      },
      "source": [
        "df"
      ],
      "execution_count": 4,
      "outputs": [
        {
          "output_type": "execute_result",
          "data": {
            "text/html": [
              "<div>\n",
              "<style scoped>\n",
              "    .dataframe tbody tr th:only-of-type {\n",
              "        vertical-align: middle;\n",
              "    }\n",
              "\n",
              "    .dataframe tbody tr th {\n",
              "        vertical-align: top;\n",
              "    }\n",
              "\n",
              "    .dataframe thead th {\n",
              "        text-align: right;\n",
              "    }\n",
              "</style>\n",
              "<table border=\"1\" class=\"dataframe\">\n",
              "  <thead>\n",
              "    <tr style=\"text-align: right;\">\n",
              "      <th></th>\n",
              "      <th>Nome</th>\n",
              "      <th>Idades</th>\n",
              "      <th>Cidades</th>\n",
              "    </tr>\n",
              "  </thead>\n",
              "  <tbody>\n",
              "    <tr>\n",
              "      <th>1</th>\n",
              "      <td>Rafael</td>\n",
              "      <td>18</td>\n",
              "      <td>Nova York</td>\n",
              "    </tr>\n",
              "    <tr>\n",
              "      <th>2</th>\n",
              "      <td>Donatelo</td>\n",
              "      <td>18</td>\n",
              "      <td>Los Angeles</td>\n",
              "    </tr>\n",
              "    <tr>\n",
              "      <th>3</th>\n",
              "      <td>Michelangelo</td>\n",
              "      <td>18</td>\n",
              "      <td>São Francisco</td>\n",
              "    </tr>\n",
              "    <tr>\n",
              "      <th>4</th>\n",
              "      <td>Leonardo</td>\n",
              "      <td>18</td>\n",
              "      <td>Chicago</td>\n",
              "    </tr>\n",
              "  </tbody>\n",
              "</table>\n",
              "</div>"
            ],
            "text/plain": [
              "           Nome  Idades        Cidades\n",
              "1        Rafael      18      Nova York\n",
              "2      Donatelo      18    Los Angeles\n",
              "3  Michelangelo      18  São Francisco\n",
              "4      Leonardo      18        Chicago"
            ]
          },
          "metadata": {
            "tags": []
          },
          "execution_count": 4
        }
      ]
    },
    {
      "cell_type": "code",
      "metadata": {
        "colab": {
          "base_uri": "https://localhost:8080/"
        },
        "id": "sP6bg465fWc1",
        "outputId": "98f024bc-daee-401c-e4f4-8d4681a6fe75"
      },
      "source": [
        "type(df)"
      ],
      "execution_count": 14,
      "outputs": [
        {
          "output_type": "execute_result",
          "data": {
            "text/plain": [
              "pandas.core.frame.DataFrame"
            ]
          },
          "metadata": {
            "tags": []
          },
          "execution_count": 14
        }
      ]
    },
    {
      "cell_type": "code",
      "metadata": {
        "id": "lrr8LLyTfe-F"
      },
      "source": [
        "#np.random.normal(100, 15, size = (30,5))"
      ],
      "execution_count": 20,
      "outputs": []
    },
    {
      "cell_type": "code",
      "metadata": {
        "id": "nj6MQj7ZgI5w"
      },
      "source": [
        "array = np.random.normal(100, 15, size =(30, 5))\n",
        "n = array.shape[0]\n",
        "df = pd.DataFrame(array,index = range (1, n+1), columns = list('ABCDE'))\n",
        "#range sequencia de numeros inteiros\n"
      ],
      "execution_count": 12,
      "outputs": []
    },
    {
      "cell_type": "code",
      "metadata": {
        "colab": {
          "base_uri": "https://localhost:8080/",
          "height": 990
        },
        "id": "k28isYRmhMLb",
        "outputId": "819f4fb5-0e85-48d9-ecbc-3ac0a437e8e0"
      },
      "source": [
        "df"
      ],
      "execution_count": 6,
      "outputs": [
        {
          "output_type": "execute_result",
          "data": {
            "text/html": [
              "<div>\n",
              "<style scoped>\n",
              "    .dataframe tbody tr th:only-of-type {\n",
              "        vertical-align: middle;\n",
              "    }\n",
              "\n",
              "    .dataframe tbody tr th {\n",
              "        vertical-align: top;\n",
              "    }\n",
              "\n",
              "    .dataframe thead th {\n",
              "        text-align: right;\n",
              "    }\n",
              "</style>\n",
              "<table border=\"1\" class=\"dataframe\">\n",
              "  <thead>\n",
              "    <tr style=\"text-align: right;\">\n",
              "      <th></th>\n",
              "      <th>0</th>\n",
              "      <th>1</th>\n",
              "      <th>2</th>\n",
              "      <th>3</th>\n",
              "      <th>4</th>\n",
              "    </tr>\n",
              "  </thead>\n",
              "  <tbody>\n",
              "    <tr>\n",
              "      <th>0</th>\n",
              "      <td>94.972928</td>\n",
              "      <td>112.268065</td>\n",
              "      <td>111.093950</td>\n",
              "      <td>116.358046</td>\n",
              "      <td>109.915909</td>\n",
              "    </tr>\n",
              "    <tr>\n",
              "      <th>1</th>\n",
              "      <td>98.507544</td>\n",
              "      <td>97.819462</td>\n",
              "      <td>82.651576</td>\n",
              "      <td>113.023311</td>\n",
              "      <td>104.330154</td>\n",
              "    </tr>\n",
              "    <tr>\n",
              "      <th>2</th>\n",
              "      <td>77.062853</td>\n",
              "      <td>103.037448</td>\n",
              "      <td>88.198369</td>\n",
              "      <td>86.063726</td>\n",
              "      <td>102.101192</td>\n",
              "    </tr>\n",
              "    <tr>\n",
              "      <th>3</th>\n",
              "      <td>111.946196</td>\n",
              "      <td>106.485922</td>\n",
              "      <td>105.318737</td>\n",
              "      <td>75.595701</td>\n",
              "      <td>90.328512</td>\n",
              "    </tr>\n",
              "    <tr>\n",
              "      <th>4</th>\n",
              "      <td>108.997650</td>\n",
              "      <td>79.037245</td>\n",
              "      <td>91.944407</td>\n",
              "      <td>87.904181</td>\n",
              "      <td>125.767602</td>\n",
              "    </tr>\n",
              "    <tr>\n",
              "      <th>5</th>\n",
              "      <td>113.701149</td>\n",
              "      <td>96.458421</td>\n",
              "      <td>98.050884</td>\n",
              "      <td>102.178162</td>\n",
              "      <td>94.726004</td>\n",
              "    </tr>\n",
              "    <tr>\n",
              "      <th>6</th>\n",
              "      <td>104.348768</td>\n",
              "      <td>96.762521</td>\n",
              "      <td>89.488554</td>\n",
              "      <td>109.309776</td>\n",
              "      <td>108.886920</td>\n",
              "    </tr>\n",
              "    <tr>\n",
              "      <th>7</th>\n",
              "      <td>96.756468</td>\n",
              "      <td>129.010490</td>\n",
              "      <td>84.904099</td>\n",
              "      <td>83.359901</td>\n",
              "      <td>130.375881</td>\n",
              "    </tr>\n",
              "    <tr>\n",
              "      <th>8</th>\n",
              "      <td>88.209833</td>\n",
              "      <td>109.953427</td>\n",
              "      <td>125.780352</td>\n",
              "      <td>98.821313</td>\n",
              "      <td>121.383121</td>\n",
              "    </tr>\n",
              "    <tr>\n",
              "      <th>9</th>\n",
              "      <td>85.450529</td>\n",
              "      <td>135.848330</td>\n",
              "      <td>103.543126</td>\n",
              "      <td>94.417084</td>\n",
              "      <td>80.501768</td>\n",
              "    </tr>\n",
              "    <tr>\n",
              "      <th>10</th>\n",
              "      <td>82.100073</td>\n",
              "      <td>97.435440</td>\n",
              "      <td>77.366189</td>\n",
              "      <td>100.615916</td>\n",
              "      <td>89.078336</td>\n",
              "    </tr>\n",
              "    <tr>\n",
              "      <th>11</th>\n",
              "      <td>94.644813</td>\n",
              "      <td>102.177113</td>\n",
              "      <td>105.999638</td>\n",
              "      <td>61.949658</td>\n",
              "      <td>84.989194</td>\n",
              "    </tr>\n",
              "    <tr>\n",
              "      <th>12</th>\n",
              "      <td>110.013502</td>\n",
              "      <td>97.747506</td>\n",
              "      <td>96.853736</td>\n",
              "      <td>84.627530</td>\n",
              "      <td>93.653138</td>\n",
              "    </tr>\n",
              "    <tr>\n",
              "      <th>13</th>\n",
              "      <td>115.392072</td>\n",
              "      <td>105.220821</td>\n",
              "      <td>87.531268</td>\n",
              "      <td>128.074315</td>\n",
              "      <td>106.962174</td>\n",
              "    </tr>\n",
              "    <tr>\n",
              "      <th>14</th>\n",
              "      <td>90.072649</td>\n",
              "      <td>114.459097</td>\n",
              "      <td>107.613114</td>\n",
              "      <td>87.806926</td>\n",
              "      <td>71.473040</td>\n",
              "    </tr>\n",
              "    <tr>\n",
              "      <th>15</th>\n",
              "      <td>95.357848</td>\n",
              "      <td>93.921621</td>\n",
              "      <td>78.724729</td>\n",
              "      <td>110.414321</td>\n",
              "      <td>115.509866</td>\n",
              "    </tr>\n",
              "    <tr>\n",
              "      <th>16</th>\n",
              "      <td>111.887034</td>\n",
              "      <td>92.790901</td>\n",
              "      <td>97.081227</td>\n",
              "      <td>93.617968</td>\n",
              "      <td>117.570797</td>\n",
              "    </tr>\n",
              "    <tr>\n",
              "      <th>17</th>\n",
              "      <td>90.833591</td>\n",
              "      <td>88.017733</td>\n",
              "      <td>70.982019</td>\n",
              "      <td>96.556015</td>\n",
              "      <td>91.589170</td>\n",
              "    </tr>\n",
              "    <tr>\n",
              "      <th>18</th>\n",
              "      <td>101.267652</td>\n",
              "      <td>106.844240</td>\n",
              "      <td>95.253572</td>\n",
              "      <td>96.179764</td>\n",
              "      <td>77.589988</td>\n",
              "    </tr>\n",
              "    <tr>\n",
              "      <th>19</th>\n",
              "      <td>100.249337</td>\n",
              "      <td>81.559821</td>\n",
              "      <td>96.091048</td>\n",
              "      <td>111.539709</td>\n",
              "      <td>100.836689</td>\n",
              "    </tr>\n",
              "    <tr>\n",
              "      <th>20</th>\n",
              "      <td>112.122186</td>\n",
              "      <td>110.278893</td>\n",
              "      <td>106.483329</td>\n",
              "      <td>109.296750</td>\n",
              "      <td>101.783805</td>\n",
              "    </tr>\n",
              "    <tr>\n",
              "      <th>21</th>\n",
              "      <td>87.720628</td>\n",
              "      <td>71.875278</td>\n",
              "      <td>111.232529</td>\n",
              "      <td>100.669786</td>\n",
              "      <td>86.963085</td>\n",
              "    </tr>\n",
              "    <tr>\n",
              "      <th>22</th>\n",
              "      <td>116.945483</td>\n",
              "      <td>114.432738</td>\n",
              "      <td>86.675759</td>\n",
              "      <td>97.953152</td>\n",
              "      <td>88.811563</td>\n",
              "    </tr>\n",
              "    <tr>\n",
              "      <th>23</th>\n",
              "      <td>79.962322</td>\n",
              "      <td>87.521653</td>\n",
              "      <td>117.469241</td>\n",
              "      <td>105.724328</td>\n",
              "      <td>108.492994</td>\n",
              "    </tr>\n",
              "    <tr>\n",
              "      <th>24</th>\n",
              "      <td>118.093382</td>\n",
              "      <td>98.493701</td>\n",
              "      <td>113.201890</td>\n",
              "      <td>105.210888</td>\n",
              "      <td>105.723798</td>\n",
              "    </tr>\n",
              "    <tr>\n",
              "      <th>25</th>\n",
              "      <td>115.403806</td>\n",
              "      <td>103.969672</td>\n",
              "      <td>103.816449</td>\n",
              "      <td>81.132805</td>\n",
              "      <td>80.911170</td>\n",
              "    </tr>\n",
              "    <tr>\n",
              "      <th>26</th>\n",
              "      <td>88.491478</td>\n",
              "      <td>117.324916</td>\n",
              "      <td>70.766368</td>\n",
              "      <td>90.637872</td>\n",
              "      <td>94.640428</td>\n",
              "    </tr>\n",
              "    <tr>\n",
              "      <th>27</th>\n",
              "      <td>77.060382</td>\n",
              "      <td>75.924790</td>\n",
              "      <td>88.402085</td>\n",
              "      <td>103.073463</td>\n",
              "      <td>75.209266</td>\n",
              "    </tr>\n",
              "    <tr>\n",
              "      <th>28</th>\n",
              "      <td>100.277022</td>\n",
              "      <td>112.276074</td>\n",
              "      <td>97.850714</td>\n",
              "      <td>106.663424</td>\n",
              "      <td>98.693174</td>\n",
              "    </tr>\n",
              "    <tr>\n",
              "      <th>29</th>\n",
              "      <td>120.416368</td>\n",
              "      <td>119.734757</td>\n",
              "      <td>89.279869</td>\n",
              "      <td>114.427553</td>\n",
              "      <td>79.141473</td>\n",
              "    </tr>\n",
              "  </tbody>\n",
              "</table>\n",
              "</div>"
            ],
            "text/plain": [
              "             0           1           2           3           4\n",
              "0    94.972928  112.268065  111.093950  116.358046  109.915909\n",
              "1    98.507544   97.819462   82.651576  113.023311  104.330154\n",
              "2    77.062853  103.037448   88.198369   86.063726  102.101192\n",
              "3   111.946196  106.485922  105.318737   75.595701   90.328512\n",
              "4   108.997650   79.037245   91.944407   87.904181  125.767602\n",
              "5   113.701149   96.458421   98.050884  102.178162   94.726004\n",
              "6   104.348768   96.762521   89.488554  109.309776  108.886920\n",
              "7    96.756468  129.010490   84.904099   83.359901  130.375881\n",
              "8    88.209833  109.953427  125.780352   98.821313  121.383121\n",
              "9    85.450529  135.848330  103.543126   94.417084   80.501768\n",
              "10   82.100073   97.435440   77.366189  100.615916   89.078336\n",
              "11   94.644813  102.177113  105.999638   61.949658   84.989194\n",
              "12  110.013502   97.747506   96.853736   84.627530   93.653138\n",
              "13  115.392072  105.220821   87.531268  128.074315  106.962174\n",
              "14   90.072649  114.459097  107.613114   87.806926   71.473040\n",
              "15   95.357848   93.921621   78.724729  110.414321  115.509866\n",
              "16  111.887034   92.790901   97.081227   93.617968  117.570797\n",
              "17   90.833591   88.017733   70.982019   96.556015   91.589170\n",
              "18  101.267652  106.844240   95.253572   96.179764   77.589988\n",
              "19  100.249337   81.559821   96.091048  111.539709  100.836689\n",
              "20  112.122186  110.278893  106.483329  109.296750  101.783805\n",
              "21   87.720628   71.875278  111.232529  100.669786   86.963085\n",
              "22  116.945483  114.432738   86.675759   97.953152   88.811563\n",
              "23   79.962322   87.521653  117.469241  105.724328  108.492994\n",
              "24  118.093382   98.493701  113.201890  105.210888  105.723798\n",
              "25  115.403806  103.969672  103.816449   81.132805   80.911170\n",
              "26   88.491478  117.324916   70.766368   90.637872   94.640428\n",
              "27   77.060382   75.924790   88.402085  103.073463   75.209266\n",
              "28  100.277022  112.276074   97.850714  106.663424   98.693174\n",
              "29  120.416368  119.734757   89.279869  114.427553   79.141473"
            ]
          },
          "metadata": {
            "tags": []
          },
          "execution_count": 6
        }
      ]
    },
    {
      "cell_type": "code",
      "metadata": {
        "colab": {
          "base_uri": "https://localhost:8080/"
        },
        "id": "FUN1S6v6hNBO",
        "outputId": "0fa72354-ba89-4e0b-8dd4-b6414ef86769"
      },
      "source": [
        "array.shape[0]"
      ],
      "execution_count": 9,
      "outputs": [
        {
          "output_type": "execute_result",
          "data": {
            "text/plain": [
              "30"
            ]
          },
          "metadata": {
            "tags": []
          },
          "execution_count": 9
        }
      ]
    },
    {
      "cell_type": "code",
      "metadata": {
        "colab": {
          "base_uri": "https://localhost:8080/"
        },
        "id": "sB5AYZ_MzQgy",
        "outputId": "21ddc873-a0f9-4aef-9ad5-5c4dd5045c48"
      },
      "source": [
        "list('ABCDE')"
      ],
      "execution_count": 15,
      "outputs": [
        {
          "output_type": "execute_result",
          "data": {
            "text/plain": [
              "['A', 'B', 'C', 'D', 'E']"
            ]
          },
          "metadata": {
            "tags": []
          },
          "execution_count": 15
        }
      ]
    },
    {
      "cell_type": "code",
      "metadata": {
        "colab": {
          "base_uri": "https://localhost:8080/",
          "height": 990
        },
        "id": "KQUINoaI1akC",
        "outputId": "360e47cc-751e-434e-92d2-cf9d18208a26"
      },
      "source": [
        "df"
      ],
      "execution_count": 16,
      "outputs": [
        {
          "output_type": "execute_result",
          "data": {
            "text/html": [
              "<div>\n",
              "<style scoped>\n",
              "    .dataframe tbody tr th:only-of-type {\n",
              "        vertical-align: middle;\n",
              "    }\n",
              "\n",
              "    .dataframe tbody tr th {\n",
              "        vertical-align: top;\n",
              "    }\n",
              "\n",
              "    .dataframe thead th {\n",
              "        text-align: right;\n",
              "    }\n",
              "</style>\n",
              "<table border=\"1\" class=\"dataframe\">\n",
              "  <thead>\n",
              "    <tr style=\"text-align: right;\">\n",
              "      <th></th>\n",
              "      <th>A</th>\n",
              "      <th>B</th>\n",
              "      <th>C</th>\n",
              "      <th>D</th>\n",
              "      <th>E</th>\n",
              "    </tr>\n",
              "  </thead>\n",
              "  <tbody>\n",
              "    <tr>\n",
              "      <th>1</th>\n",
              "      <td>98.805644</td>\n",
              "      <td>104.839366</td>\n",
              "      <td>92.595269</td>\n",
              "      <td>97.569244</td>\n",
              "      <td>89.909899</td>\n",
              "    </tr>\n",
              "    <tr>\n",
              "      <th>2</th>\n",
              "      <td>87.169556</td>\n",
              "      <td>102.109851</td>\n",
              "      <td>92.848984</td>\n",
              "      <td>106.716484</td>\n",
              "      <td>110.437111</td>\n",
              "    </tr>\n",
              "    <tr>\n",
              "      <th>3</th>\n",
              "      <td>112.379756</td>\n",
              "      <td>100.295877</td>\n",
              "      <td>100.865106</td>\n",
              "      <td>104.804939</td>\n",
              "      <td>98.513050</td>\n",
              "    </tr>\n",
              "    <tr>\n",
              "      <th>4</th>\n",
              "      <td>116.147618</td>\n",
              "      <td>108.474990</td>\n",
              "      <td>120.445590</td>\n",
              "      <td>107.149056</td>\n",
              "      <td>102.829076</td>\n",
              "    </tr>\n",
              "    <tr>\n",
              "      <th>5</th>\n",
              "      <td>106.551457</td>\n",
              "      <td>94.060049</td>\n",
              "      <td>100.378063</td>\n",
              "      <td>112.914262</td>\n",
              "      <td>106.747874</td>\n",
              "    </tr>\n",
              "    <tr>\n",
              "      <th>6</th>\n",
              "      <td>120.462441</td>\n",
              "      <td>88.516281</td>\n",
              "      <td>115.305622</td>\n",
              "      <td>78.591771</td>\n",
              "      <td>93.479131</td>\n",
              "    </tr>\n",
              "    <tr>\n",
              "      <th>7</th>\n",
              "      <td>110.329186</td>\n",
              "      <td>121.628508</td>\n",
              "      <td>118.874482</td>\n",
              "      <td>62.483324</td>\n",
              "      <td>116.042527</td>\n",
              "    </tr>\n",
              "    <tr>\n",
              "      <th>8</th>\n",
              "      <td>114.891922</td>\n",
              "      <td>97.186610</td>\n",
              "      <td>61.839480</td>\n",
              "      <td>88.359515</td>\n",
              "      <td>120.847273</td>\n",
              "    </tr>\n",
              "    <tr>\n",
              "      <th>9</th>\n",
              "      <td>112.690444</td>\n",
              "      <td>80.229838</td>\n",
              "      <td>97.438255</td>\n",
              "      <td>90.137491</td>\n",
              "      <td>119.875743</td>\n",
              "    </tr>\n",
              "    <tr>\n",
              "      <th>10</th>\n",
              "      <td>91.929249</td>\n",
              "      <td>109.096332</td>\n",
              "      <td>90.410053</td>\n",
              "      <td>87.330145</td>\n",
              "      <td>89.115066</td>\n",
              "    </tr>\n",
              "    <tr>\n",
              "      <th>11</th>\n",
              "      <td>94.029517</td>\n",
              "      <td>99.173934</td>\n",
              "      <td>102.725307</td>\n",
              "      <td>92.922848</td>\n",
              "      <td>107.517740</td>\n",
              "    </tr>\n",
              "    <tr>\n",
              "      <th>12</th>\n",
              "      <td>114.399685</td>\n",
              "      <td>118.286369</td>\n",
              "      <td>103.131868</td>\n",
              "      <td>82.595094</td>\n",
              "      <td>95.170840</td>\n",
              "    </tr>\n",
              "    <tr>\n",
              "      <th>13</th>\n",
              "      <td>129.309272</td>\n",
              "      <td>82.386530</td>\n",
              "      <td>102.121058</td>\n",
              "      <td>115.915887</td>\n",
              "      <td>102.733159</td>\n",
              "    </tr>\n",
              "    <tr>\n",
              "      <th>14</th>\n",
              "      <td>115.042002</td>\n",
              "      <td>85.146437</td>\n",
              "      <td>94.720199</td>\n",
              "      <td>114.534634</td>\n",
              "      <td>95.060854</td>\n",
              "    </tr>\n",
              "    <tr>\n",
              "      <th>15</th>\n",
              "      <td>77.706988</td>\n",
              "      <td>110.596449</td>\n",
              "      <td>75.284817</td>\n",
              "      <td>84.553441</td>\n",
              "      <td>119.433919</td>\n",
              "    </tr>\n",
              "    <tr>\n",
              "      <th>16</th>\n",
              "      <td>114.178147</td>\n",
              "      <td>80.169275</td>\n",
              "      <td>92.281114</td>\n",
              "      <td>116.188450</td>\n",
              "      <td>101.803706</td>\n",
              "    </tr>\n",
              "    <tr>\n",
              "      <th>17</th>\n",
              "      <td>105.076842</td>\n",
              "      <td>101.211211</td>\n",
              "      <td>85.412487</td>\n",
              "      <td>124.852759</td>\n",
              "      <td>86.427279</td>\n",
              "    </tr>\n",
              "    <tr>\n",
              "      <th>18</th>\n",
              "      <td>112.468763</td>\n",
              "      <td>122.166715</td>\n",
              "      <td>96.792552</td>\n",
              "      <td>107.039652</td>\n",
              "      <td>131.356780</td>\n",
              "    </tr>\n",
              "    <tr>\n",
              "      <th>19</th>\n",
              "      <td>127.285993</td>\n",
              "      <td>87.846221</td>\n",
              "      <td>108.140885</td>\n",
              "      <td>76.601557</td>\n",
              "      <td>99.107269</td>\n",
              "    </tr>\n",
              "    <tr>\n",
              "      <th>20</th>\n",
              "      <td>149.261307</td>\n",
              "      <td>89.801768</td>\n",
              "      <td>111.997560</td>\n",
              "      <td>81.473172</td>\n",
              "      <td>103.965106</td>\n",
              "    </tr>\n",
              "    <tr>\n",
              "      <th>21</th>\n",
              "      <td>97.145953</td>\n",
              "      <td>101.802995</td>\n",
              "      <td>108.106470</td>\n",
              "      <td>95.610225</td>\n",
              "      <td>100.349288</td>\n",
              "    </tr>\n",
              "    <tr>\n",
              "      <th>22</th>\n",
              "      <td>100.035160</td>\n",
              "      <td>113.352754</td>\n",
              "      <td>96.900678</td>\n",
              "      <td>64.444525</td>\n",
              "      <td>84.136114</td>\n",
              "    </tr>\n",
              "    <tr>\n",
              "      <th>23</th>\n",
              "      <td>87.767369</td>\n",
              "      <td>98.248316</td>\n",
              "      <td>81.901104</td>\n",
              "      <td>96.174422</td>\n",
              "      <td>89.099704</td>\n",
              "    </tr>\n",
              "    <tr>\n",
              "      <th>24</th>\n",
              "      <td>82.898626</td>\n",
              "      <td>106.223198</td>\n",
              "      <td>96.221800</td>\n",
              "      <td>100.243703</td>\n",
              "      <td>99.012978</td>\n",
              "    </tr>\n",
              "    <tr>\n",
              "      <th>25</th>\n",
              "      <td>102.758533</td>\n",
              "      <td>102.523179</td>\n",
              "      <td>122.723230</td>\n",
              "      <td>84.518860</td>\n",
              "      <td>113.772800</td>\n",
              "    </tr>\n",
              "    <tr>\n",
              "      <th>26</th>\n",
              "      <td>101.439851</td>\n",
              "      <td>112.261114</td>\n",
              "      <td>82.440590</td>\n",
              "      <td>100.515246</td>\n",
              "      <td>95.227543</td>\n",
              "    </tr>\n",
              "    <tr>\n",
              "      <th>27</th>\n",
              "      <td>88.388813</td>\n",
              "      <td>97.368947</td>\n",
              "      <td>105.346019</td>\n",
              "      <td>95.198943</td>\n",
              "      <td>86.843996</td>\n",
              "    </tr>\n",
              "    <tr>\n",
              "      <th>28</th>\n",
              "      <td>105.732625</td>\n",
              "      <td>108.482067</td>\n",
              "      <td>119.439841</td>\n",
              "      <td>104.462206</td>\n",
              "      <td>122.921482</td>\n",
              "    </tr>\n",
              "    <tr>\n",
              "      <th>29</th>\n",
              "      <td>81.331624</td>\n",
              "      <td>103.175304</td>\n",
              "      <td>79.656557</td>\n",
              "      <td>102.516337</td>\n",
              "      <td>103.823613</td>\n",
              "    </tr>\n",
              "    <tr>\n",
              "      <th>30</th>\n",
              "      <td>90.408551</td>\n",
              "      <td>124.616998</td>\n",
              "      <td>101.889832</td>\n",
              "      <td>98.573393</td>\n",
              "      <td>139.931590</td>\n",
              "    </tr>\n",
              "  </tbody>\n",
              "</table>\n",
              "</div>"
            ],
            "text/plain": [
              "             A           B           C           D           E\n",
              "1    98.805644  104.839366   92.595269   97.569244   89.909899\n",
              "2    87.169556  102.109851   92.848984  106.716484  110.437111\n",
              "3   112.379756  100.295877  100.865106  104.804939   98.513050\n",
              "4   116.147618  108.474990  120.445590  107.149056  102.829076\n",
              "5   106.551457   94.060049  100.378063  112.914262  106.747874\n",
              "6   120.462441   88.516281  115.305622   78.591771   93.479131\n",
              "7   110.329186  121.628508  118.874482   62.483324  116.042527\n",
              "8   114.891922   97.186610   61.839480   88.359515  120.847273\n",
              "9   112.690444   80.229838   97.438255   90.137491  119.875743\n",
              "10   91.929249  109.096332   90.410053   87.330145   89.115066\n",
              "11   94.029517   99.173934  102.725307   92.922848  107.517740\n",
              "12  114.399685  118.286369  103.131868   82.595094   95.170840\n",
              "13  129.309272   82.386530  102.121058  115.915887  102.733159\n",
              "14  115.042002   85.146437   94.720199  114.534634   95.060854\n",
              "15   77.706988  110.596449   75.284817   84.553441  119.433919\n",
              "16  114.178147   80.169275   92.281114  116.188450  101.803706\n",
              "17  105.076842  101.211211   85.412487  124.852759   86.427279\n",
              "18  112.468763  122.166715   96.792552  107.039652  131.356780\n",
              "19  127.285993   87.846221  108.140885   76.601557   99.107269\n",
              "20  149.261307   89.801768  111.997560   81.473172  103.965106\n",
              "21   97.145953  101.802995  108.106470   95.610225  100.349288\n",
              "22  100.035160  113.352754   96.900678   64.444525   84.136114\n",
              "23   87.767369   98.248316   81.901104   96.174422   89.099704\n",
              "24   82.898626  106.223198   96.221800  100.243703   99.012978\n",
              "25  102.758533  102.523179  122.723230   84.518860  113.772800\n",
              "26  101.439851  112.261114   82.440590  100.515246   95.227543\n",
              "27   88.388813   97.368947  105.346019   95.198943   86.843996\n",
              "28  105.732625  108.482067  119.439841  104.462206  122.921482\n",
              "29   81.331624  103.175304   79.656557  102.516337  103.823613\n",
              "30   90.408551  124.616998  101.889832   98.573393  139.931590"
            ]
          },
          "metadata": {
            "tags": []
          },
          "execution_count": 16
        }
      ]
    },
    {
      "cell_type": "code",
      "metadata": {
        "colab": {
          "base_uri": "https://localhost:8080/",
          "height": 206
        },
        "id": "p62Y4ijc1txq",
        "outputId": "7271af35-9041-4d46-f42c-c657d983990c"
      },
      "source": [
        "df.head()"
      ],
      "execution_count": 17,
      "outputs": [
        {
          "output_type": "execute_result",
          "data": {
            "text/html": [
              "<div>\n",
              "<style scoped>\n",
              "    .dataframe tbody tr th:only-of-type {\n",
              "        vertical-align: middle;\n",
              "    }\n",
              "\n",
              "    .dataframe tbody tr th {\n",
              "        vertical-align: top;\n",
              "    }\n",
              "\n",
              "    .dataframe thead th {\n",
              "        text-align: right;\n",
              "    }\n",
              "</style>\n",
              "<table border=\"1\" class=\"dataframe\">\n",
              "  <thead>\n",
              "    <tr style=\"text-align: right;\">\n",
              "      <th></th>\n",
              "      <th>A</th>\n",
              "      <th>B</th>\n",
              "      <th>C</th>\n",
              "      <th>D</th>\n",
              "      <th>E</th>\n",
              "    </tr>\n",
              "  </thead>\n",
              "  <tbody>\n",
              "    <tr>\n",
              "      <th>1</th>\n",
              "      <td>98.805644</td>\n",
              "      <td>104.839366</td>\n",
              "      <td>92.595269</td>\n",
              "      <td>97.569244</td>\n",
              "      <td>89.909899</td>\n",
              "    </tr>\n",
              "    <tr>\n",
              "      <th>2</th>\n",
              "      <td>87.169556</td>\n",
              "      <td>102.109851</td>\n",
              "      <td>92.848984</td>\n",
              "      <td>106.716484</td>\n",
              "      <td>110.437111</td>\n",
              "    </tr>\n",
              "    <tr>\n",
              "      <th>3</th>\n",
              "      <td>112.379756</td>\n",
              "      <td>100.295877</td>\n",
              "      <td>100.865106</td>\n",
              "      <td>104.804939</td>\n",
              "      <td>98.513050</td>\n",
              "    </tr>\n",
              "    <tr>\n",
              "      <th>4</th>\n",
              "      <td>116.147618</td>\n",
              "      <td>108.474990</td>\n",
              "      <td>120.445590</td>\n",
              "      <td>107.149056</td>\n",
              "      <td>102.829076</td>\n",
              "    </tr>\n",
              "    <tr>\n",
              "      <th>5</th>\n",
              "      <td>106.551457</td>\n",
              "      <td>94.060049</td>\n",
              "      <td>100.378063</td>\n",
              "      <td>112.914262</td>\n",
              "      <td>106.747874</td>\n",
              "    </tr>\n",
              "  </tbody>\n",
              "</table>\n",
              "</div>"
            ],
            "text/plain": [
              "            A           B           C           D           E\n",
              "1   98.805644  104.839366   92.595269   97.569244   89.909899\n",
              "2   87.169556  102.109851   92.848984  106.716484  110.437111\n",
              "3  112.379756  100.295877  100.865106  104.804939   98.513050\n",
              "4  116.147618  108.474990  120.445590  107.149056  102.829076\n",
              "5  106.551457   94.060049  100.378063  112.914262  106.747874"
            ]
          },
          "metadata": {
            "tags": []
          },
          "execution_count": 17
        }
      ]
    },
    {
      "cell_type": "code",
      "metadata": {
        "colab": {
          "base_uri": "https://localhost:8080/",
          "height": 143
        },
        "id": "k7PZXfhR16Xw",
        "outputId": "4e895c42-83dd-4d0a-d351-27c92e07c288"
      },
      "source": [
        "df.head(3)"
      ],
      "execution_count": 18,
      "outputs": [
        {
          "output_type": "execute_result",
          "data": {
            "text/html": [
              "<div>\n",
              "<style scoped>\n",
              "    .dataframe tbody tr th:only-of-type {\n",
              "        vertical-align: middle;\n",
              "    }\n",
              "\n",
              "    .dataframe tbody tr th {\n",
              "        vertical-align: top;\n",
              "    }\n",
              "\n",
              "    .dataframe thead th {\n",
              "        text-align: right;\n",
              "    }\n",
              "</style>\n",
              "<table border=\"1\" class=\"dataframe\">\n",
              "  <thead>\n",
              "    <tr style=\"text-align: right;\">\n",
              "      <th></th>\n",
              "      <th>A</th>\n",
              "      <th>B</th>\n",
              "      <th>C</th>\n",
              "      <th>D</th>\n",
              "      <th>E</th>\n",
              "    </tr>\n",
              "  </thead>\n",
              "  <tbody>\n",
              "    <tr>\n",
              "      <th>1</th>\n",
              "      <td>98.805644</td>\n",
              "      <td>104.839366</td>\n",
              "      <td>92.595269</td>\n",
              "      <td>97.569244</td>\n",
              "      <td>89.909899</td>\n",
              "    </tr>\n",
              "    <tr>\n",
              "      <th>2</th>\n",
              "      <td>87.169556</td>\n",
              "      <td>102.109851</td>\n",
              "      <td>92.848984</td>\n",
              "      <td>106.716484</td>\n",
              "      <td>110.437111</td>\n",
              "    </tr>\n",
              "    <tr>\n",
              "      <th>3</th>\n",
              "      <td>112.379756</td>\n",
              "      <td>100.295877</td>\n",
              "      <td>100.865106</td>\n",
              "      <td>104.804939</td>\n",
              "      <td>98.513050</td>\n",
              "    </tr>\n",
              "  </tbody>\n",
              "</table>\n",
              "</div>"
            ],
            "text/plain": [
              "            A           B           C           D           E\n",
              "1   98.805644  104.839366   92.595269   97.569244   89.909899\n",
              "2   87.169556  102.109851   92.848984  106.716484  110.437111\n",
              "3  112.379756  100.295877  100.865106  104.804939   98.513050"
            ]
          },
          "metadata": {
            "tags": []
          },
          "execution_count": 18
        }
      ]
    },
    {
      "cell_type": "code",
      "metadata": {
        "colab": {
          "base_uri": "https://localhost:8080/",
          "height": 206
        },
        "id": "aX1QFWHk19ae",
        "outputId": "1013d8d9-972d-4f62-d4c4-73a13bab3bab"
      },
      "source": [
        "df.tail()"
      ],
      "execution_count": 19,
      "outputs": [
        {
          "output_type": "execute_result",
          "data": {
            "text/html": [
              "<div>\n",
              "<style scoped>\n",
              "    .dataframe tbody tr th:only-of-type {\n",
              "        vertical-align: middle;\n",
              "    }\n",
              "\n",
              "    .dataframe tbody tr th {\n",
              "        vertical-align: top;\n",
              "    }\n",
              "\n",
              "    .dataframe thead th {\n",
              "        text-align: right;\n",
              "    }\n",
              "</style>\n",
              "<table border=\"1\" class=\"dataframe\">\n",
              "  <thead>\n",
              "    <tr style=\"text-align: right;\">\n",
              "      <th></th>\n",
              "      <th>A</th>\n",
              "      <th>B</th>\n",
              "      <th>C</th>\n",
              "      <th>D</th>\n",
              "      <th>E</th>\n",
              "    </tr>\n",
              "  </thead>\n",
              "  <tbody>\n",
              "    <tr>\n",
              "      <th>26</th>\n",
              "      <td>101.439851</td>\n",
              "      <td>112.261114</td>\n",
              "      <td>82.440590</td>\n",
              "      <td>100.515246</td>\n",
              "      <td>95.227543</td>\n",
              "    </tr>\n",
              "    <tr>\n",
              "      <th>27</th>\n",
              "      <td>88.388813</td>\n",
              "      <td>97.368947</td>\n",
              "      <td>105.346019</td>\n",
              "      <td>95.198943</td>\n",
              "      <td>86.843996</td>\n",
              "    </tr>\n",
              "    <tr>\n",
              "      <th>28</th>\n",
              "      <td>105.732625</td>\n",
              "      <td>108.482067</td>\n",
              "      <td>119.439841</td>\n",
              "      <td>104.462206</td>\n",
              "      <td>122.921482</td>\n",
              "    </tr>\n",
              "    <tr>\n",
              "      <th>29</th>\n",
              "      <td>81.331624</td>\n",
              "      <td>103.175304</td>\n",
              "      <td>79.656557</td>\n",
              "      <td>102.516337</td>\n",
              "      <td>103.823613</td>\n",
              "    </tr>\n",
              "    <tr>\n",
              "      <th>30</th>\n",
              "      <td>90.408551</td>\n",
              "      <td>124.616998</td>\n",
              "      <td>101.889832</td>\n",
              "      <td>98.573393</td>\n",
              "      <td>139.931590</td>\n",
              "    </tr>\n",
              "  </tbody>\n",
              "</table>\n",
              "</div>"
            ],
            "text/plain": [
              "             A           B           C           D           E\n",
              "26  101.439851  112.261114   82.440590  100.515246   95.227543\n",
              "27   88.388813   97.368947  105.346019   95.198943   86.843996\n",
              "28  105.732625  108.482067  119.439841  104.462206  122.921482\n",
              "29   81.331624  103.175304   79.656557  102.516337  103.823613\n",
              "30   90.408551  124.616998  101.889832   98.573393  139.931590"
            ]
          },
          "metadata": {
            "tags": []
          },
          "execution_count": 19
        }
      ]
    },
    {
      "cell_type": "code",
      "metadata": {
        "colab": {
          "base_uri": "https://localhost:8080/",
          "height": 143
        },
        "id": "_Hyqarwz1-x7",
        "outputId": "62a0579a-5c55-4f30-f86f-5bba69efc094"
      },
      "source": [
        "df.tail(3)"
      ],
      "execution_count": 20,
      "outputs": [
        {
          "output_type": "execute_result",
          "data": {
            "text/html": [
              "<div>\n",
              "<style scoped>\n",
              "    .dataframe tbody tr th:only-of-type {\n",
              "        vertical-align: middle;\n",
              "    }\n",
              "\n",
              "    .dataframe tbody tr th {\n",
              "        vertical-align: top;\n",
              "    }\n",
              "\n",
              "    .dataframe thead th {\n",
              "        text-align: right;\n",
              "    }\n",
              "</style>\n",
              "<table border=\"1\" class=\"dataframe\">\n",
              "  <thead>\n",
              "    <tr style=\"text-align: right;\">\n",
              "      <th></th>\n",
              "      <th>A</th>\n",
              "      <th>B</th>\n",
              "      <th>C</th>\n",
              "      <th>D</th>\n",
              "      <th>E</th>\n",
              "    </tr>\n",
              "  </thead>\n",
              "  <tbody>\n",
              "    <tr>\n",
              "      <th>28</th>\n",
              "      <td>105.732625</td>\n",
              "      <td>108.482067</td>\n",
              "      <td>119.439841</td>\n",
              "      <td>104.462206</td>\n",
              "      <td>122.921482</td>\n",
              "    </tr>\n",
              "    <tr>\n",
              "      <th>29</th>\n",
              "      <td>81.331624</td>\n",
              "      <td>103.175304</td>\n",
              "      <td>79.656557</td>\n",
              "      <td>102.516337</td>\n",
              "      <td>103.823613</td>\n",
              "    </tr>\n",
              "    <tr>\n",
              "      <th>30</th>\n",
              "      <td>90.408551</td>\n",
              "      <td>124.616998</td>\n",
              "      <td>101.889832</td>\n",
              "      <td>98.573393</td>\n",
              "      <td>139.931590</td>\n",
              "    </tr>\n",
              "  </tbody>\n",
              "</table>\n",
              "</div>"
            ],
            "text/plain": [
              "             A           B           C           D           E\n",
              "28  105.732625  108.482067  119.439841  104.462206  122.921482\n",
              "29   81.331624  103.175304   79.656557  102.516337  103.823613\n",
              "30   90.408551  124.616998  101.889832   98.573393  139.931590"
            ]
          },
          "metadata": {
            "tags": []
          },
          "execution_count": 20
        }
      ]
    },
    {
      "cell_type": "code",
      "metadata": {
        "colab": {
          "base_uri": "https://localhost:8080/"
        },
        "id": "kd4PqNa22A0e",
        "outputId": "e32759db-fb92-41e9-9b16-f12a37900adc"
      },
      "source": [
        "df.A"
      ],
      "execution_count": 21,
      "outputs": [
        {
          "output_type": "execute_result",
          "data": {
            "text/plain": [
              "1      98.805644\n",
              "2      87.169556\n",
              "3     112.379756\n",
              "4     116.147618\n",
              "5     106.551457\n",
              "6     120.462441\n",
              "7     110.329186\n",
              "8     114.891922\n",
              "9     112.690444\n",
              "10     91.929249\n",
              "11     94.029517\n",
              "12    114.399685\n",
              "13    129.309272\n",
              "14    115.042002\n",
              "15     77.706988\n",
              "16    114.178147\n",
              "17    105.076842\n",
              "18    112.468763\n",
              "19    127.285993\n",
              "20    149.261307\n",
              "21     97.145953\n",
              "22    100.035160\n",
              "23     87.767369\n",
              "24     82.898626\n",
              "25    102.758533\n",
              "26    101.439851\n",
              "27     88.388813\n",
              "28    105.732625\n",
              "29     81.331624\n",
              "30     90.408551\n",
              "Name: A, dtype: float64"
            ]
          },
          "metadata": {
            "tags": []
          },
          "execution_count": 21
        }
      ]
    },
    {
      "cell_type": "code",
      "metadata": {
        "colab": {
          "base_uri": "https://localhost:8080/"
        },
        "id": "ccs7ii1J2mh8",
        "outputId": "c864ac1e-d718-4743-c84f-caa66d025ce5"
      },
      "source": [
        "type(df.A)"
      ],
      "execution_count": 25,
      "outputs": [
        {
          "output_type": "execute_result",
          "data": {
            "text/plain": [
              "pandas.core.series.Series"
            ]
          },
          "metadata": {
            "tags": []
          },
          "execution_count": 25
        }
      ]
    },
    {
      "cell_type": "code",
      "metadata": {
        "colab": {
          "base_uri": "https://localhost:8080/"
        },
        "id": "T1nQTXbJ2qIz",
        "outputId": "b897c420-7ecd-49bc-e800-688b5941e6b2"
      },
      "source": [
        "df ['A'],['B']"
      ],
      "execution_count": 27,
      "outputs": [
        {
          "output_type": "execute_result",
          "data": {
            "text/plain": [
              "(1      98.805644\n",
              " 2      87.169556\n",
              " 3     112.379756\n",
              " 4     116.147618\n",
              " 5     106.551457\n",
              " 6     120.462441\n",
              " 7     110.329186\n",
              " 8     114.891922\n",
              " 9     112.690444\n",
              " 10     91.929249\n",
              " 11     94.029517\n",
              " 12    114.399685\n",
              " 13    129.309272\n",
              " 14    115.042002\n",
              " 15     77.706988\n",
              " 16    114.178147\n",
              " 17    105.076842\n",
              " 18    112.468763\n",
              " 19    127.285993\n",
              " 20    149.261307\n",
              " 21     97.145953\n",
              " 22    100.035160\n",
              " 23     87.767369\n",
              " 24     82.898626\n",
              " 25    102.758533\n",
              " 26    101.439851\n",
              " 27     88.388813\n",
              " 28    105.732625\n",
              " 29     81.331624\n",
              " 30     90.408551\n",
              " Name: A, dtype: float64, ['B'])"
            ]
          },
          "metadata": {
            "tags": []
          },
          "execution_count": 27
        }
      ]
    },
    {
      "cell_type": "code",
      "metadata": {
        "colab": {
          "base_uri": "https://localhost:8080/",
          "height": 990
        },
        "id": "oxmBqqcv4BL4",
        "outputId": "f674d4ff-f3c5-4f16-90dd-6f6d2344da4b"
      },
      "source": [
        "df[['A', 'D']]"
      ],
      "execution_count": 28,
      "outputs": [
        {
          "output_type": "execute_result",
          "data": {
            "text/html": [
              "<div>\n",
              "<style scoped>\n",
              "    .dataframe tbody tr th:only-of-type {\n",
              "        vertical-align: middle;\n",
              "    }\n",
              "\n",
              "    .dataframe tbody tr th {\n",
              "        vertical-align: top;\n",
              "    }\n",
              "\n",
              "    .dataframe thead th {\n",
              "        text-align: right;\n",
              "    }\n",
              "</style>\n",
              "<table border=\"1\" class=\"dataframe\">\n",
              "  <thead>\n",
              "    <tr style=\"text-align: right;\">\n",
              "      <th></th>\n",
              "      <th>A</th>\n",
              "      <th>D</th>\n",
              "    </tr>\n",
              "  </thead>\n",
              "  <tbody>\n",
              "    <tr>\n",
              "      <th>1</th>\n",
              "      <td>98.805644</td>\n",
              "      <td>97.569244</td>\n",
              "    </tr>\n",
              "    <tr>\n",
              "      <th>2</th>\n",
              "      <td>87.169556</td>\n",
              "      <td>106.716484</td>\n",
              "    </tr>\n",
              "    <tr>\n",
              "      <th>3</th>\n",
              "      <td>112.379756</td>\n",
              "      <td>104.804939</td>\n",
              "    </tr>\n",
              "    <tr>\n",
              "      <th>4</th>\n",
              "      <td>116.147618</td>\n",
              "      <td>107.149056</td>\n",
              "    </tr>\n",
              "    <tr>\n",
              "      <th>5</th>\n",
              "      <td>106.551457</td>\n",
              "      <td>112.914262</td>\n",
              "    </tr>\n",
              "    <tr>\n",
              "      <th>6</th>\n",
              "      <td>120.462441</td>\n",
              "      <td>78.591771</td>\n",
              "    </tr>\n",
              "    <tr>\n",
              "      <th>7</th>\n",
              "      <td>110.329186</td>\n",
              "      <td>62.483324</td>\n",
              "    </tr>\n",
              "    <tr>\n",
              "      <th>8</th>\n",
              "      <td>114.891922</td>\n",
              "      <td>88.359515</td>\n",
              "    </tr>\n",
              "    <tr>\n",
              "      <th>9</th>\n",
              "      <td>112.690444</td>\n",
              "      <td>90.137491</td>\n",
              "    </tr>\n",
              "    <tr>\n",
              "      <th>10</th>\n",
              "      <td>91.929249</td>\n",
              "      <td>87.330145</td>\n",
              "    </tr>\n",
              "    <tr>\n",
              "      <th>11</th>\n",
              "      <td>94.029517</td>\n",
              "      <td>92.922848</td>\n",
              "    </tr>\n",
              "    <tr>\n",
              "      <th>12</th>\n",
              "      <td>114.399685</td>\n",
              "      <td>82.595094</td>\n",
              "    </tr>\n",
              "    <tr>\n",
              "      <th>13</th>\n",
              "      <td>129.309272</td>\n",
              "      <td>115.915887</td>\n",
              "    </tr>\n",
              "    <tr>\n",
              "      <th>14</th>\n",
              "      <td>115.042002</td>\n",
              "      <td>114.534634</td>\n",
              "    </tr>\n",
              "    <tr>\n",
              "      <th>15</th>\n",
              "      <td>77.706988</td>\n",
              "      <td>84.553441</td>\n",
              "    </tr>\n",
              "    <tr>\n",
              "      <th>16</th>\n",
              "      <td>114.178147</td>\n",
              "      <td>116.188450</td>\n",
              "    </tr>\n",
              "    <tr>\n",
              "      <th>17</th>\n",
              "      <td>105.076842</td>\n",
              "      <td>124.852759</td>\n",
              "    </tr>\n",
              "    <tr>\n",
              "      <th>18</th>\n",
              "      <td>112.468763</td>\n",
              "      <td>107.039652</td>\n",
              "    </tr>\n",
              "    <tr>\n",
              "      <th>19</th>\n",
              "      <td>127.285993</td>\n",
              "      <td>76.601557</td>\n",
              "    </tr>\n",
              "    <tr>\n",
              "      <th>20</th>\n",
              "      <td>149.261307</td>\n",
              "      <td>81.473172</td>\n",
              "    </tr>\n",
              "    <tr>\n",
              "      <th>21</th>\n",
              "      <td>97.145953</td>\n",
              "      <td>95.610225</td>\n",
              "    </tr>\n",
              "    <tr>\n",
              "      <th>22</th>\n",
              "      <td>100.035160</td>\n",
              "      <td>64.444525</td>\n",
              "    </tr>\n",
              "    <tr>\n",
              "      <th>23</th>\n",
              "      <td>87.767369</td>\n",
              "      <td>96.174422</td>\n",
              "    </tr>\n",
              "    <tr>\n",
              "      <th>24</th>\n",
              "      <td>82.898626</td>\n",
              "      <td>100.243703</td>\n",
              "    </tr>\n",
              "    <tr>\n",
              "      <th>25</th>\n",
              "      <td>102.758533</td>\n",
              "      <td>84.518860</td>\n",
              "    </tr>\n",
              "    <tr>\n",
              "      <th>26</th>\n",
              "      <td>101.439851</td>\n",
              "      <td>100.515246</td>\n",
              "    </tr>\n",
              "    <tr>\n",
              "      <th>27</th>\n",
              "      <td>88.388813</td>\n",
              "      <td>95.198943</td>\n",
              "    </tr>\n",
              "    <tr>\n",
              "      <th>28</th>\n",
              "      <td>105.732625</td>\n",
              "      <td>104.462206</td>\n",
              "    </tr>\n",
              "    <tr>\n",
              "      <th>29</th>\n",
              "      <td>81.331624</td>\n",
              "      <td>102.516337</td>\n",
              "    </tr>\n",
              "    <tr>\n",
              "      <th>30</th>\n",
              "      <td>90.408551</td>\n",
              "      <td>98.573393</td>\n",
              "    </tr>\n",
              "  </tbody>\n",
              "</table>\n",
              "</div>"
            ],
            "text/plain": [
              "             A           D\n",
              "1    98.805644   97.569244\n",
              "2    87.169556  106.716484\n",
              "3   112.379756  104.804939\n",
              "4   116.147618  107.149056\n",
              "5   106.551457  112.914262\n",
              "6   120.462441   78.591771\n",
              "7   110.329186   62.483324\n",
              "8   114.891922   88.359515\n",
              "9   112.690444   90.137491\n",
              "10   91.929249   87.330145\n",
              "11   94.029517   92.922848\n",
              "12  114.399685   82.595094\n",
              "13  129.309272  115.915887\n",
              "14  115.042002  114.534634\n",
              "15   77.706988   84.553441\n",
              "16  114.178147  116.188450\n",
              "17  105.076842  124.852759\n",
              "18  112.468763  107.039652\n",
              "19  127.285993   76.601557\n",
              "20  149.261307   81.473172\n",
              "21   97.145953   95.610225\n",
              "22  100.035160   64.444525\n",
              "23   87.767369   96.174422\n",
              "24   82.898626  100.243703\n",
              "25  102.758533   84.518860\n",
              "26  101.439851  100.515246\n",
              "27   88.388813   95.198943\n",
              "28  105.732625  104.462206\n",
              "29   81.331624  102.516337\n",
              "30   90.408551   98.573393"
            ]
          },
          "metadata": {
            "tags": []
          },
          "execution_count": 28
        }
      ]
    },
    {
      "cell_type": "code",
      "metadata": {
        "colab": {
          "base_uri": "https://localhost:8080/"
        },
        "id": "pb_BAngp4sQX",
        "outputId": "845729c0-0658-42d2-80a9-b86d03be3cda"
      },
      "source": [
        "type(df[['A','D']])"
      ],
      "execution_count": 29,
      "outputs": [
        {
          "output_type": "execute_result",
          "data": {
            "text/plain": [
              "pandas.core.frame.DataFrame"
            ]
          },
          "metadata": {
            "tags": []
          },
          "execution_count": 29
        }
      ]
    },
    {
      "cell_type": "code",
      "metadata": {
        "colab": {
          "base_uri": "https://localhost:8080/",
          "height": 300
        },
        "id": "a6-w1sem5m4b",
        "outputId": "9cd35254-d9f8-420d-ad30-f0a7bd9f80d0"
      },
      "source": [
        "df.describe()"
      ],
      "execution_count": 30,
      "outputs": [
        {
          "output_type": "execute_result",
          "data": {
            "text/html": [
              "<div>\n",
              "<style scoped>\n",
              "    .dataframe tbody tr th:only-of-type {\n",
              "        vertical-align: middle;\n",
              "    }\n",
              "\n",
              "    .dataframe tbody tr th {\n",
              "        vertical-align: top;\n",
              "    }\n",
              "\n",
              "    .dataframe thead th {\n",
              "        text-align: right;\n",
              "    }\n",
              "</style>\n",
              "<table border=\"1\" class=\"dataframe\">\n",
              "  <thead>\n",
              "    <tr style=\"text-align: right;\">\n",
              "      <th></th>\n",
              "      <th>A</th>\n",
              "      <th>B</th>\n",
              "      <th>C</th>\n",
              "      <th>D</th>\n",
              "      <th>E</th>\n",
              "    </tr>\n",
              "  </thead>\n",
              "  <tbody>\n",
              "    <tr>\n",
              "      <th>count</th>\n",
              "      <td>30.000000</td>\n",
              "      <td>30.000000</td>\n",
              "      <td>30.000000</td>\n",
              "      <td>30.000000</td>\n",
              "      <td>30.000000</td>\n",
              "    </tr>\n",
              "    <tr>\n",
              "      <th>mean</th>\n",
              "      <td>104.934097</td>\n",
              "      <td>101.709249</td>\n",
              "      <td>98.607829</td>\n",
              "      <td>95.833053</td>\n",
              "      <td>104.183084</td>\n",
              "    </tr>\n",
              "    <tr>\n",
              "      <th>std</th>\n",
              "      <td>15.879740</td>\n",
              "      <td>12.204615</td>\n",
              "      <td>14.179987</td>\n",
              "      <td>14.966413</td>\n",
              "      <td>13.843776</td>\n",
              "    </tr>\n",
              "    <tr>\n",
              "      <th>min</th>\n",
              "      <td>77.706988</td>\n",
              "      <td>80.169275</td>\n",
              "      <td>61.839480</td>\n",
              "      <td>62.483324</td>\n",
              "      <td>84.136114</td>\n",
              "    </tr>\n",
              "    <tr>\n",
              "      <th>25%</th>\n",
              "      <td>92.454316</td>\n",
              "      <td>94.841689</td>\n",
              "      <td>92.359653</td>\n",
              "      <td>85.247617</td>\n",
              "      <td>95.088350</td>\n",
              "    </tr>\n",
              "    <tr>\n",
              "      <th>50%</th>\n",
              "      <td>105.404734</td>\n",
              "      <td>101.956423</td>\n",
              "      <td>98.908159</td>\n",
              "      <td>96.871833</td>\n",
              "      <td>102.268433</td>\n",
              "    </tr>\n",
              "    <tr>\n",
              "      <th>75%</th>\n",
              "      <td>114.344300</td>\n",
              "      <td>108.942766</td>\n",
              "      <td>107.416357</td>\n",
              "      <td>106.238597</td>\n",
              "      <td>112.938878</td>\n",
              "    </tr>\n",
              "    <tr>\n",
              "      <th>max</th>\n",
              "      <td>149.261307</td>\n",
              "      <td>124.616998</td>\n",
              "      <td>122.723230</td>\n",
              "      <td>124.852759</td>\n",
              "      <td>139.931590</td>\n",
              "    </tr>\n",
              "  </tbody>\n",
              "</table>\n",
              "</div>"
            ],
            "text/plain": [
              "                A           B           C           D           E\n",
              "count   30.000000   30.000000   30.000000   30.000000   30.000000\n",
              "mean   104.934097  101.709249   98.607829   95.833053  104.183084\n",
              "std     15.879740   12.204615   14.179987   14.966413   13.843776\n",
              "min     77.706988   80.169275   61.839480   62.483324   84.136114\n",
              "25%     92.454316   94.841689   92.359653   85.247617   95.088350\n",
              "50%    105.404734  101.956423   98.908159   96.871833  102.268433\n",
              "75%    114.344300  108.942766  107.416357  106.238597  112.938878\n",
              "max    149.261307  124.616998  122.723230  124.852759  139.931590"
            ]
          },
          "metadata": {
            "tags": []
          },
          "execution_count": 30
        }
      ]
    },
    {
      "cell_type": "code",
      "metadata": {
        "colab": {
          "base_uri": "https://localhost:8080/"
        },
        "id": "Z1xObq2Z528A",
        "outputId": "4979c211-b416-413a-b5be-acdd987c4822"
      },
      "source": [
        "df.info()"
      ],
      "execution_count": 31,
      "outputs": [
        {
          "output_type": "stream",
          "text": [
            "<class 'pandas.core.frame.DataFrame'>\n",
            "RangeIndex: 30 entries, 1 to 30\n",
            "Data columns (total 5 columns):\n",
            " #   Column  Non-Null Count  Dtype  \n",
            "---  ------  --------------  -----  \n",
            " 0   A       30 non-null     float64\n",
            " 1   B       30 non-null     float64\n",
            " 2   C       30 non-null     float64\n",
            " 3   D       30 non-null     float64\n",
            " 4   E       30 non-null     float64\n",
            "dtypes: float64(5)\n",
            "memory usage: 1.3 KB\n"
          ],
          "name": "stdout"
        }
      ]
    },
    {
      "cell_type": "code",
      "metadata": {
        "colab": {
          "base_uri": "https://localhost:8080/"
        },
        "id": "WBMERAfk6H9W",
        "outputId": "a9ebc532-4790-4ebe-c1f7-aacc853f8bb8"
      },
      "source": [
        "df.dtypes"
      ],
      "execution_count": 33,
      "outputs": [
        {
          "output_type": "execute_result",
          "data": {
            "text/plain": [
              "A    float64\n",
              "B    float64\n",
              "C    float64\n",
              "D    float64\n",
              "E    float64\n",
              "dtype: object"
            ]
          },
          "metadata": {
            "tags": []
          },
          "execution_count": 33
        }
      ]
    },
    {
      "cell_type": "code",
      "metadata": {
        "colab": {
          "base_uri": "https://localhost:8080/"
        },
        "id": "-3x2IJ496lZB",
        "outputId": "e2d1c38e-d868-4de5-bb92-94e89a665b9a"
      },
      "source": [
        "df.shape#linha e colunas"
      ],
      "execution_count": 35,
      "outputs": [
        {
          "output_type": "execute_result",
          "data": {
            "text/plain": [
              "(30, 5)"
            ]
          },
          "metadata": {
            "tags": []
          },
          "execution_count": 35
        }
      ]
    },
    {
      "cell_type": "code",
      "metadata": {
        "colab": {
          "base_uri": "https://localhost:8080/"
        },
        "id": "ap7p-xf66x7F",
        "outputId": "eaf2ed45-724b-4cc1-f512-d504ad2f24ce"
      },
      "source": [
        "df.ndim#quantidade de dimensoes linha e coluna serie seria unidimensional"
      ],
      "execution_count": 37,
      "outputs": [
        {
          "output_type": "execute_result",
          "data": {
            "text/plain": [
              "2"
            ]
          },
          "metadata": {
            "tags": []
          },
          "execution_count": 37
        }
      ]
    },
    {
      "cell_type": "code",
      "metadata": {
        "colab": {
          "base_uri": "https://localhost:8080/"
        },
        "id": "ojUa_P3f67O7",
        "outputId": "9df18c4d-932a-4035-b807-56cdca824581"
      },
      "source": [
        "df.columns"
      ],
      "execution_count": 38,
      "outputs": [
        {
          "output_type": "execute_result",
          "data": {
            "text/plain": [
              "Index(['A', 'B', 'C', 'D', 'E'], dtype='object')"
            ]
          },
          "metadata": {
            "tags": []
          },
          "execution_count": 38
        }
      ]
    },
    {
      "cell_type": "code",
      "metadata": {
        "colab": {
          "base_uri": "https://localhost:8080/"
        },
        "id": "y5eIXY9w7lPD",
        "outputId": "958f54f7-485f-4ef9-8ce7-3ffc9bc50c62"
      },
      "source": [
        "df.index"
      ],
      "execution_count": 39,
      "outputs": [
        {
          "output_type": "execute_result",
          "data": {
            "text/plain": [
              "RangeIndex(start=1, stop=31, step=1)"
            ]
          },
          "metadata": {
            "tags": []
          },
          "execution_count": 39
        }
      ]
    },
    {
      "cell_type": "code",
      "metadata": {
        "colab": {
          "base_uri": "https://localhost:8080/"
        },
        "id": "ERZaFSre7tXn",
        "outputId": "cdb04845-e598-464a-bd80-314552f16dc4"
      },
      "source": [
        "df.values #vira array numpy"
      ],
      "execution_count": 40,
      "outputs": [
        {
          "output_type": "execute_result",
          "data": {
            "text/plain": [
              "array([[ 98.80564363, 104.83936649,  92.59526893,  97.56924357,\n",
              "         89.90989909],\n",
              "       [ 87.1695562 , 102.10985079,  92.84898354, 106.71648351,\n",
              "        110.43711132],\n",
              "       [112.37975568, 100.295877  , 100.86510636, 104.8049392 ,\n",
              "         98.51305047],\n",
              "       [116.14761844, 108.47498965, 120.44558998, 107.14905633,\n",
              "        102.82907608],\n",
              "       [106.55145689,  94.06004904, 100.37806326, 112.91426205,\n",
              "        106.7478735 ],\n",
              "       [120.46244097,  88.51628108, 115.30562187,  78.59177123,\n",
              "         93.479131  ],\n",
              "       [110.32918624, 121.6285081 , 118.87448157,  62.48332404,\n",
              "        116.04252738],\n",
              "       [114.89192246,  97.18661016,  61.83948035,  88.35951459,\n",
              "        120.8472729 ],\n",
              "       [112.6904443 ,  80.22983809,  97.43825507,  90.13749068,\n",
              "        119.87574329],\n",
              "       [ 91.92924899, 109.0963322 ,  90.41005268,  87.33014485,\n",
              "         89.11506619],\n",
              "       [ 94.02951683,  99.17393382, 102.72530666,  92.92284809,\n",
              "        107.51773996],\n",
              "       [114.39968459, 118.28636853, 103.13186837,  82.59509354,\n",
              "         95.17083981],\n",
              "       [129.30927175,  82.38652991, 102.12105809, 115.91588733,\n",
              "        102.73315929],\n",
              "       [115.04200244,  85.14643679,  94.72019886, 114.53463439,\n",
              "         95.06085361],\n",
              "       [ 77.70698773, 110.59644869,  75.2848166 ,  84.55344133,\n",
              "        119.43391859],\n",
              "       [114.17814705,  80.1692753 ,  92.28111401, 116.18844966,\n",
              "        101.80370597],\n",
              "       [105.07684228, 101.21121106,  85.41248697, 124.85275865,\n",
              "         86.42727936],\n",
              "       [112.46876309, 122.16671498,  96.79255249, 107.03965174,\n",
              "        131.35678021],\n",
              "       [127.2859927 ,  87.84622052, 108.14088452,  76.6015569 ,\n",
              "         99.10726931],\n",
              "       [149.26130747,  89.80176819, 111.9975604 ,  81.47317233,\n",
              "        103.9651058 ],\n",
              "       [ 97.14595323, 101.80299508, 108.10646953,  95.61022529,\n",
              "        100.34928793],\n",
              "       [100.03516042, 113.35275445,  96.90067772,  64.44452456,\n",
              "         84.13611426],\n",
              "       [ 87.76736906,  98.24831638,  81.90110378,  96.17442209,\n",
              "         89.0997044 ],\n",
              "       [ 82.89862617, 106.22319801,  96.22179979, 100.24370274,\n",
              "         99.0129776 ],\n",
              "       [102.75853319, 102.5231788 , 122.7232302 ,  84.51886043,\n",
              "        113.77280006],\n",
              "       [101.43985141, 112.26111439,  82.44059009, 100.51524591,\n",
              "         95.22754303],\n",
              "       [ 88.38881273,  97.36894694, 105.34601936,  95.19894264,\n",
              "         86.84399648],\n",
              "       [105.73262489, 108.48206699, 119.43984111, 104.46220621,\n",
              "        122.92148221],\n",
              "       [ 81.33162436, 103.17530393,  79.6565574 , 102.51633709,\n",
              "        103.82361325],\n",
              "       [ 90.40855115, 124.61699836, 101.88983154,  98.57339338,\n",
              "        139.93159037]])"
            ]
          },
          "metadata": {
            "tags": []
          },
          "execution_count": 40
        }
      ]
    },
    {
      "cell_type": "code",
      "metadata": {
        "colab": {
          "base_uri": "https://localhost:8080/"
        },
        "id": "i4Xes1t972Py",
        "outputId": "699690d7-ccda-4211-93a1-17d897e83f0b"
      },
      "source": [
        "type(df.values)"
      ],
      "execution_count": 41,
      "outputs": [
        {
          "output_type": "execute_result",
          "data": {
            "text/plain": [
              "numpy.ndarray"
            ]
          },
          "metadata": {
            "tags": []
          },
          "execution_count": 41
        }
      ]
    },
    {
      "cell_type": "code",
      "metadata": {
        "colab": {
          "base_uri": "https://localhost:8080/"
        },
        "id": "e5VZuT6t8PF_",
        "outputId": "bfd8e3b6-da1c-4000-a203-d620ed8b9154"
      },
      "source": [
        "df.size #quantidade de elementos"
      ],
      "execution_count": 42,
      "outputs": [
        {
          "output_type": "execute_result",
          "data": {
            "text/plain": [
              "150"
            ]
          },
          "metadata": {
            "tags": []
          },
          "execution_count": 42
        }
      ]
    },
    {
      "cell_type": "code",
      "metadata": {
        "id": "3rNZS9ta8cck"
      },
      "source": [
        ""
      ],
      "execution_count": null,
      "outputs": []
    }
  ]
}